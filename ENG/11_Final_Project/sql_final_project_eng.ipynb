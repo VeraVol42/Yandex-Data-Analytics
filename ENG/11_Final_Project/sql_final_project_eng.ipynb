{
 "cells": [
  {
   "cell_type": "markdown",
   "metadata": {},
   "source": [
    "# **SQL Project**  \n",
    "\n",
    "The COVID-19 pandemic took the world by surprise, disrupting daily life. For a time, people stopped going out, visiting cafes, and shopping malls. However, this created more time for reading books. Entrepreneurs quickly noticed this trend and started developing apps for book lovers.  \n",
    "\n",
    "Your company decided to stay ahead of the curve and acquired a major subscription-based book reading service. As an analyst, your first task is to explore its database.  \n",
    "\n",
    "The database contains information about books, publishers, authors, and user reviews. These insights will help shape the value proposition of the new product.  \n",
    "\n",
    "---\n",
    "\n",
    "**Data Description**  \n",
    "\n",
    "**Table: books**  \n",
    "Contains information about books:  \n",
    "- **book_id** – unique identifier of the book;  \n",
    "- **author_id** – unique identifier of the author;  \n",
    "- **title** – book title;  \n",
    "- **num_pages** – number of pages;  \n",
    "- **publication_date** – book publication date;  \n",
    "- **publisher_id** – unique identifier of the publisher.  \n",
    "\n",
    "**Table: authors**  \n",
    "Contains information about authors:  \n",
    "- **author_id** – unique identifier of the author;  \n",
    "- **author** – author's name.  \n",
    "\n",
    "**Table: publishers**  \n",
    "Contains information about publishers:  \n",
    "- **publisher_id** – unique identifier of the publisher;  \n",
    "- **publisher** – publisher's name.  \n",
    "\n",
    "**Table: ratings**  \n",
    "Contains user rating data:  \n",
    "- **rating_id** – unique identifier of the rating;  \n",
    "- **book_id** – unique identifier of the book;  \n",
    "- **username** – name of the user who left the rating;  \n",
    "- **rating** – book rating.  \n",
    "\n",
    "**Table: reviews**  \n",
    "Contains user review data:  \n",
    "- **review_id** – unique identifier of the review;  \n",
    "- **book_id** – unique identifier of the book;  \n",
    "- **username** – name of the user who wrote the review;  \n",
    "- **text** – review content.  \n",
    "\n",
    "---\n",
    "\n",
    "**Tasks**  \n",
    "\n",
    "- Count the number of books published after January 1, 2000.  \n",
    "\n",
    "- Calculate the number of reviews and the average rating for each book.  \n",
    "\n",
    "- Identify the publisher that released the highest number of books with more than 50 pages (excluding pamphlets).  \n",
    "\n",
    "- Determine the author with the highest average book rating—consider only books with at least 50 ratings.  \n",
    "\n",
    "- Calculate the average number of reviews from users who have given more than 48 ratings.  "
   ]
  },
  {
   "cell_type": "markdown",
   "metadata": {},
   "source": [
    "## Connecting to the Database"
   ]
  },
  {
   "cell_type": "code",
   "execution_count": 1,
   "metadata": {},
   "outputs": [],
   "source": [
    "# Importing libraries\n",
    "import pandas as pd\n",
    "from sqlalchemy import text, create_engine"
   ]
  },
  {
   "cell_type": "code",
   "execution_count": 2,
   "metadata": {},
   "outputs": [],
   "source": [
    "# Setting parameters\n",
    "db_config = {\n",
    "    'user': 'praktikum_student',  # username\n",
    "    'pwd': 'Sdf4$2;d-d30pp',  # password\n",
    "    'host': 'rc1b-wcoijxj3yxfsf3fs.mdb.yandexcloud.net',\n",
    "    'port': 6432,  # connection port\n",
    "    'db': 'data-analyst-final-project-db'  # database name\n",
    "}\n",
    "\n",
    "connection_string = 'postgresql://{user}:{pwd}@{host}:{port}/{db}'.format(**db_config)\n",
    "\n",
    "# Saving the connector\n",
    "engine = create_engine(connection_string, connect_args={'sslmode': 'require'})\n",
    "\n",
    "con = engine.connect()"
   ]
  },
  {
   "cell_type": "markdown",
   "metadata": {},
   "source": [
    "## Exploring the Data\r\n",
    "We will examine the tables by displaying the first few rows."
   ]
  },
  {
   "cell_type": "code",
   "execution_count": 3,
   "metadata": {},
   "outputs": [],
   "source": [
    "# Function to Retrieve the First Rows of a Table\n",
    "def preview_table(table_name, con, limit=5):\n",
    "    query = f'SELECT * FROM {table_name} LIMIT {limit}'\n",
    "    df = pd.io.sql.read_sql(sql=text(query), con=con)\n",
    "    print(f'\\n{table_name.upper()}')\n",
    "    display(df)\n",
    "    \n",
    "    # Getting information about the entire table\n",
    "    full_query = f'SELECT * FROM {table_name}'\n",
    "    full_df = pd.io.sql.read_sql(sql=text(full_query), con=con)\n",
    "    display(full_df.info())"
   ]
  },
  {
   "cell_type": "code",
   "execution_count": 4,
   "metadata": {},
   "outputs": [
    {
     "name": "stdout",
     "output_type": "stream",
     "text": [
      "\n",
      "BOOKS\n"
     ]
    },
    {
     "data": {
      "text/html": [
       "<div>\n",
       "<style scoped>\n",
       "    .dataframe tbody tr th:only-of-type {\n",
       "        vertical-align: middle;\n",
       "    }\n",
       "\n",
       "    .dataframe tbody tr th {\n",
       "        vertical-align: top;\n",
       "    }\n",
       "\n",
       "    .dataframe thead th {\n",
       "        text-align: right;\n",
       "    }\n",
       "</style>\n",
       "<table border=\"1\" class=\"dataframe\">\n",
       "  <thead>\n",
       "    <tr style=\"text-align: right;\">\n",
       "      <th></th>\n",
       "      <th>book_id</th>\n",
       "      <th>author_id</th>\n",
       "      <th>title</th>\n",
       "      <th>num_pages</th>\n",
       "      <th>publication_date</th>\n",
       "      <th>publisher_id</th>\n",
       "    </tr>\n",
       "  </thead>\n",
       "  <tbody>\n",
       "    <tr>\n",
       "      <th>0</th>\n",
       "      <td>1</td>\n",
       "      <td>546</td>\n",
       "      <td>'Salem's Lot</td>\n",
       "      <td>594</td>\n",
       "      <td>2005-11-01</td>\n",
       "      <td>93</td>\n",
       "    </tr>\n",
       "    <tr>\n",
       "      <th>1</th>\n",
       "      <td>2</td>\n",
       "      <td>465</td>\n",
       "      <td>1 000 Places to See Before You Die</td>\n",
       "      <td>992</td>\n",
       "      <td>2003-05-22</td>\n",
       "      <td>336</td>\n",
       "    </tr>\n",
       "    <tr>\n",
       "      <th>2</th>\n",
       "      <td>3</td>\n",
       "      <td>407</td>\n",
       "      <td>13 Little Blue Envelopes (Little Blue Envelope...</td>\n",
       "      <td>322</td>\n",
       "      <td>2010-12-21</td>\n",
       "      <td>135</td>\n",
       "    </tr>\n",
       "    <tr>\n",
       "      <th>3</th>\n",
       "      <td>4</td>\n",
       "      <td>82</td>\n",
       "      <td>1491: New Revelations of the Americas Before C...</td>\n",
       "      <td>541</td>\n",
       "      <td>2006-10-10</td>\n",
       "      <td>309</td>\n",
       "    </tr>\n",
       "    <tr>\n",
       "      <th>4</th>\n",
       "      <td>5</td>\n",
       "      <td>125</td>\n",
       "      <td>1776</td>\n",
       "      <td>386</td>\n",
       "      <td>2006-07-04</td>\n",
       "      <td>268</td>\n",
       "    </tr>\n",
       "  </tbody>\n",
       "</table>\n",
       "</div>"
      ],
      "text/plain": [
       "   book_id  author_id                                              title  \\\n",
       "0        1        546                                       'Salem's Lot   \n",
       "1        2        465                 1 000 Places to See Before You Die   \n",
       "2        3        407  13 Little Blue Envelopes (Little Blue Envelope...   \n",
       "3        4         82  1491: New Revelations of the Americas Before C...   \n",
       "4        5        125                                               1776   \n",
       "\n",
       "   num_pages publication_date  publisher_id  \n",
       "0        594       2005-11-01            93  \n",
       "1        992       2003-05-22           336  \n",
       "2        322       2010-12-21           135  \n",
       "3        541       2006-10-10           309  \n",
       "4        386       2006-07-04           268  "
      ]
     },
     "metadata": {},
     "output_type": "display_data"
    },
    {
     "name": "stdout",
     "output_type": "stream",
     "text": [
      "<class 'pandas.core.frame.DataFrame'>\n",
      "RangeIndex: 1000 entries, 0 to 999\n",
      "Data columns (total 6 columns):\n",
      " #   Column            Non-Null Count  Dtype \n",
      "---  ------            --------------  ----- \n",
      " 0   book_id           1000 non-null   int64 \n",
      " 1   author_id         1000 non-null   int64 \n",
      " 2   title             1000 non-null   object\n",
      " 3   num_pages         1000 non-null   int64 \n",
      " 4   publication_date  1000 non-null   object\n",
      " 5   publisher_id      1000 non-null   int64 \n",
      "dtypes: int64(4), object(2)\n",
      "memory usage: 47.0+ KB\n"
     ]
    },
    {
     "data": {
      "text/plain": [
       "None"
      ]
     },
     "metadata": {},
     "output_type": "display_data"
    },
    {
     "name": "stdout",
     "output_type": "stream",
     "text": [
      "\n",
      "AUTHORS\n"
     ]
    },
    {
     "data": {
      "text/html": [
       "<div>\n",
       "<style scoped>\n",
       "    .dataframe tbody tr th:only-of-type {\n",
       "        vertical-align: middle;\n",
       "    }\n",
       "\n",
       "    .dataframe tbody tr th {\n",
       "        vertical-align: top;\n",
       "    }\n",
       "\n",
       "    .dataframe thead th {\n",
       "        text-align: right;\n",
       "    }\n",
       "</style>\n",
       "<table border=\"1\" class=\"dataframe\">\n",
       "  <thead>\n",
       "    <tr style=\"text-align: right;\">\n",
       "      <th></th>\n",
       "      <th>author_id</th>\n",
       "      <th>author</th>\n",
       "    </tr>\n",
       "  </thead>\n",
       "  <tbody>\n",
       "    <tr>\n",
       "      <th>0</th>\n",
       "      <td>1</td>\n",
       "      <td>A.S. Byatt</td>\n",
       "    </tr>\n",
       "    <tr>\n",
       "      <th>1</th>\n",
       "      <td>2</td>\n",
       "      <td>Aesop/Laura Harris/Laura Gibbs</td>\n",
       "    </tr>\n",
       "    <tr>\n",
       "      <th>2</th>\n",
       "      <td>3</td>\n",
       "      <td>Agatha Christie</td>\n",
       "    </tr>\n",
       "    <tr>\n",
       "      <th>3</th>\n",
       "      <td>4</td>\n",
       "      <td>Alan Brennert</td>\n",
       "    </tr>\n",
       "    <tr>\n",
       "      <th>4</th>\n",
       "      <td>5</td>\n",
       "      <td>Alan Moore/David   Lloyd</td>\n",
       "    </tr>\n",
       "  </tbody>\n",
       "</table>\n",
       "</div>"
      ],
      "text/plain": [
       "   author_id                          author\n",
       "0          1                      A.S. Byatt\n",
       "1          2  Aesop/Laura Harris/Laura Gibbs\n",
       "2          3                 Agatha Christie\n",
       "3          4                   Alan Brennert\n",
       "4          5        Alan Moore/David   Lloyd"
      ]
     },
     "metadata": {},
     "output_type": "display_data"
    },
    {
     "name": "stdout",
     "output_type": "stream",
     "text": [
      "<class 'pandas.core.frame.DataFrame'>\n",
      "RangeIndex: 636 entries, 0 to 635\n",
      "Data columns (total 2 columns):\n",
      " #   Column     Non-Null Count  Dtype \n",
      "---  ------     --------------  ----- \n",
      " 0   author_id  636 non-null    int64 \n",
      " 1   author     636 non-null    object\n",
      "dtypes: int64(1), object(1)\n",
      "memory usage: 10.1+ KB\n"
     ]
    },
    {
     "data": {
      "text/plain": [
       "None"
      ]
     },
     "metadata": {},
     "output_type": "display_data"
    },
    {
     "name": "stdout",
     "output_type": "stream",
     "text": [
      "\n",
      "PUBLISHERS\n"
     ]
    },
    {
     "data": {
      "text/html": [
       "<div>\n",
       "<style scoped>\n",
       "    .dataframe tbody tr th:only-of-type {\n",
       "        vertical-align: middle;\n",
       "    }\n",
       "\n",
       "    .dataframe tbody tr th {\n",
       "        vertical-align: top;\n",
       "    }\n",
       "\n",
       "    .dataframe thead th {\n",
       "        text-align: right;\n",
       "    }\n",
       "</style>\n",
       "<table border=\"1\" class=\"dataframe\">\n",
       "  <thead>\n",
       "    <tr style=\"text-align: right;\">\n",
       "      <th></th>\n",
       "      <th>publisher_id</th>\n",
       "      <th>publisher</th>\n",
       "    </tr>\n",
       "  </thead>\n",
       "  <tbody>\n",
       "    <tr>\n",
       "      <th>0</th>\n",
       "      <td>1</td>\n",
       "      <td>Ace</td>\n",
       "    </tr>\n",
       "    <tr>\n",
       "      <th>1</th>\n",
       "      <td>2</td>\n",
       "      <td>Ace Book</td>\n",
       "    </tr>\n",
       "    <tr>\n",
       "      <th>2</th>\n",
       "      <td>3</td>\n",
       "      <td>Ace Books</td>\n",
       "    </tr>\n",
       "    <tr>\n",
       "      <th>3</th>\n",
       "      <td>4</td>\n",
       "      <td>Ace Hardcover</td>\n",
       "    </tr>\n",
       "    <tr>\n",
       "      <th>4</th>\n",
       "      <td>5</td>\n",
       "      <td>Addison Wesley Publishing Company</td>\n",
       "    </tr>\n",
       "  </tbody>\n",
       "</table>\n",
       "</div>"
      ],
      "text/plain": [
       "   publisher_id                          publisher\n",
       "0             1                                Ace\n",
       "1             2                           Ace Book\n",
       "2             3                          Ace Books\n",
       "3             4                      Ace Hardcover\n",
       "4             5  Addison Wesley Publishing Company"
      ]
     },
     "metadata": {},
     "output_type": "display_data"
    },
    {
     "name": "stdout",
     "output_type": "stream",
     "text": [
      "<class 'pandas.core.frame.DataFrame'>\n",
      "RangeIndex: 340 entries, 0 to 339\n",
      "Data columns (total 2 columns):\n",
      " #   Column        Non-Null Count  Dtype \n",
      "---  ------        --------------  ----- \n",
      " 0   publisher_id  340 non-null    int64 \n",
      " 1   publisher     340 non-null    object\n",
      "dtypes: int64(1), object(1)\n",
      "memory usage: 5.4+ KB\n"
     ]
    },
    {
     "data": {
      "text/plain": [
       "None"
      ]
     },
     "metadata": {},
     "output_type": "display_data"
    },
    {
     "name": "stdout",
     "output_type": "stream",
     "text": [
      "\n",
      "RATINGS\n"
     ]
    },
    {
     "data": {
      "text/html": [
       "<div>\n",
       "<style scoped>\n",
       "    .dataframe tbody tr th:only-of-type {\n",
       "        vertical-align: middle;\n",
       "    }\n",
       "\n",
       "    .dataframe tbody tr th {\n",
       "        vertical-align: top;\n",
       "    }\n",
       "\n",
       "    .dataframe thead th {\n",
       "        text-align: right;\n",
       "    }\n",
       "</style>\n",
       "<table border=\"1\" class=\"dataframe\">\n",
       "  <thead>\n",
       "    <tr style=\"text-align: right;\">\n",
       "      <th></th>\n",
       "      <th>rating_id</th>\n",
       "      <th>book_id</th>\n",
       "      <th>username</th>\n",
       "      <th>rating</th>\n",
       "    </tr>\n",
       "  </thead>\n",
       "  <tbody>\n",
       "    <tr>\n",
       "      <th>0</th>\n",
       "      <td>1</td>\n",
       "      <td>1</td>\n",
       "      <td>ryanfranco</td>\n",
       "      <td>4</td>\n",
       "    </tr>\n",
       "    <tr>\n",
       "      <th>1</th>\n",
       "      <td>2</td>\n",
       "      <td>1</td>\n",
       "      <td>grantpatricia</td>\n",
       "      <td>2</td>\n",
       "    </tr>\n",
       "    <tr>\n",
       "      <th>2</th>\n",
       "      <td>3</td>\n",
       "      <td>1</td>\n",
       "      <td>brandtandrea</td>\n",
       "      <td>5</td>\n",
       "    </tr>\n",
       "    <tr>\n",
       "      <th>3</th>\n",
       "      <td>4</td>\n",
       "      <td>2</td>\n",
       "      <td>lorichen</td>\n",
       "      <td>3</td>\n",
       "    </tr>\n",
       "    <tr>\n",
       "      <th>4</th>\n",
       "      <td>5</td>\n",
       "      <td>2</td>\n",
       "      <td>mariokeller</td>\n",
       "      <td>2</td>\n",
       "    </tr>\n",
       "  </tbody>\n",
       "</table>\n",
       "</div>"
      ],
      "text/plain": [
       "   rating_id  book_id       username  rating\n",
       "0          1        1     ryanfranco       4\n",
       "1          2        1  grantpatricia       2\n",
       "2          3        1   brandtandrea       5\n",
       "3          4        2       lorichen       3\n",
       "4          5        2    mariokeller       2"
      ]
     },
     "metadata": {},
     "output_type": "display_data"
    },
    {
     "name": "stdout",
     "output_type": "stream",
     "text": [
      "<class 'pandas.core.frame.DataFrame'>\n",
      "RangeIndex: 6456 entries, 0 to 6455\n",
      "Data columns (total 4 columns):\n",
      " #   Column     Non-Null Count  Dtype \n",
      "---  ------     --------------  ----- \n",
      " 0   rating_id  6456 non-null   int64 \n",
      " 1   book_id    6456 non-null   int64 \n",
      " 2   username   6456 non-null   object\n",
      " 3   rating     6456 non-null   int64 \n",
      "dtypes: int64(3), object(1)\n",
      "memory usage: 201.9+ KB\n"
     ]
    },
    {
     "data": {
      "text/plain": [
       "None"
      ]
     },
     "metadata": {},
     "output_type": "display_data"
    },
    {
     "name": "stdout",
     "output_type": "stream",
     "text": [
      "\n",
      "REVIEWS\n"
     ]
    },
    {
     "data": {
      "text/html": [
       "<div>\n",
       "<style scoped>\n",
       "    .dataframe tbody tr th:only-of-type {\n",
       "        vertical-align: middle;\n",
       "    }\n",
       "\n",
       "    .dataframe tbody tr th {\n",
       "        vertical-align: top;\n",
       "    }\n",
       "\n",
       "    .dataframe thead th {\n",
       "        text-align: right;\n",
       "    }\n",
       "</style>\n",
       "<table border=\"1\" class=\"dataframe\">\n",
       "  <thead>\n",
       "    <tr style=\"text-align: right;\">\n",
       "      <th></th>\n",
       "      <th>review_id</th>\n",
       "      <th>book_id</th>\n",
       "      <th>username</th>\n",
       "      <th>text</th>\n",
       "    </tr>\n",
       "  </thead>\n",
       "  <tbody>\n",
       "    <tr>\n",
       "      <th>0</th>\n",
       "      <td>1</td>\n",
       "      <td>1</td>\n",
       "      <td>brandtandrea</td>\n",
       "      <td>Mention society tell send professor analysis. ...</td>\n",
       "    </tr>\n",
       "    <tr>\n",
       "      <th>1</th>\n",
       "      <td>2</td>\n",
       "      <td>1</td>\n",
       "      <td>ryanfranco</td>\n",
       "      <td>Foot glass pretty audience hit themselves. Amo...</td>\n",
       "    </tr>\n",
       "    <tr>\n",
       "      <th>2</th>\n",
       "      <td>3</td>\n",
       "      <td>2</td>\n",
       "      <td>lorichen</td>\n",
       "      <td>Listen treat keep worry. Miss husband tax but ...</td>\n",
       "    </tr>\n",
       "    <tr>\n",
       "      <th>3</th>\n",
       "      <td>4</td>\n",
       "      <td>3</td>\n",
       "      <td>johnsonamanda</td>\n",
       "      <td>Finally month interesting blue could nature cu...</td>\n",
       "    </tr>\n",
       "    <tr>\n",
       "      <th>4</th>\n",
       "      <td>5</td>\n",
       "      <td>3</td>\n",
       "      <td>scotttamara</td>\n",
       "      <td>Nation purpose heavy give wait song will. List...</td>\n",
       "    </tr>\n",
       "  </tbody>\n",
       "</table>\n",
       "</div>"
      ],
      "text/plain": [
       "   review_id  book_id       username  \\\n",
       "0          1        1   brandtandrea   \n",
       "1          2        1     ryanfranco   \n",
       "2          3        2       lorichen   \n",
       "3          4        3  johnsonamanda   \n",
       "4          5        3    scotttamara   \n",
       "\n",
       "                                                text  \n",
       "0  Mention society tell send professor analysis. ...  \n",
       "1  Foot glass pretty audience hit themselves. Amo...  \n",
       "2  Listen treat keep worry. Miss husband tax but ...  \n",
       "3  Finally month interesting blue could nature cu...  \n",
       "4  Nation purpose heavy give wait song will. List...  "
      ]
     },
     "metadata": {},
     "output_type": "display_data"
    },
    {
     "name": "stdout",
     "output_type": "stream",
     "text": [
      "<class 'pandas.core.frame.DataFrame'>\n",
      "RangeIndex: 2793 entries, 0 to 2792\n",
      "Data columns (total 4 columns):\n",
      " #   Column     Non-Null Count  Dtype \n",
      "---  ------     --------------  ----- \n",
      " 0   review_id  2793 non-null   int64 \n",
      " 1   book_id    2793 non-null   int64 \n",
      " 2   username   2793 non-null   object\n",
      " 3   text       2793 non-null   object\n",
      "dtypes: int64(2), object(2)\n",
      "memory usage: 87.4+ KB\n"
     ]
    },
    {
     "data": {
      "text/plain": [
       "None"
      ]
     },
     "metadata": {},
     "output_type": "display_data"
    }
   ],
   "source": [
    "# List of tables for the study\n",
    "tables = ['books', 'authors', 'publishers', 'ratings', 'reviews']\n",
    "\n",
    "# Scroll through the list of tables and display the first rows\n",
    "for table in tables:\n",
    "    preview_table(table, con)"
   ]
  },
  {
   "cell_type": "markdown",
   "metadata": {},
   "source": [
    "## Executing Project Tasks  \n",
    "\n",
    "### Count the Number of Books Published After January 1, 2000"
   ]
  },
  {
   "cell_type": "code",
   "execution_count": 5,
   "metadata": {},
   "outputs": [],
   "source": [
    "def select(sql):\n",
    "    return pd.io.sql.read_sql(sql, con = engine)"
   ]
  },
  {
   "cell_type": "code",
   "execution_count": 6,
   "metadata": {},
   "outputs": [
    {
     "data": {
      "text/html": [
       "<div>\n",
       "<style scoped>\n",
       "    .dataframe tbody tr th:only-of-type {\n",
       "        vertical-align: middle;\n",
       "    }\n",
       "\n",
       "    .dataframe tbody tr th {\n",
       "        vertical-align: top;\n",
       "    }\n",
       "\n",
       "    .dataframe thead th {\n",
       "        text-align: right;\n",
       "    }\n",
       "</style>\n",
       "<table border=\"1\" class=\"dataframe\">\n",
       "  <thead>\n",
       "    <tr style=\"text-align: right;\">\n",
       "      <th></th>\n",
       "      <th>count</th>\n",
       "    </tr>\n",
       "  </thead>\n",
       "  <tbody>\n",
       "    <tr>\n",
       "      <th>0</th>\n",
       "      <td>821</td>\n",
       "    </tr>\n",
       "  </tbody>\n",
       "</table>\n",
       "</div>"
      ],
      "text/plain": [
       "   count\n",
       "0    821"
      ]
     },
     "execution_count": 6,
     "metadata": {},
     "output_type": "execute_result"
    }
   ],
   "source": [
    "query_count = '''SELECT COUNT(DISTINCT book_id) FROM books \n",
    "WHERE CAST(publication_date AS date) >= '2000-01-01';'''\n",
    "select(query_count)"
   ]
  },
  {
   "cell_type": "markdown",
   "metadata": {},
   "source": [
    "821 books have been published since January 1, 2000."
   ]
  },
  {
   "cell_type": "markdown",
   "metadata": {},
   "source": [
    "### For each book, count the number of reviews and the average rating"
   ]
  },
  {
   "cell_type": "code",
   "execution_count": 7,
   "metadata": {},
   "outputs": [
    {
     "name": "stdout",
     "output_type": "stream",
     "text": [
      "\n",
      "The number of reviews and the average score for each book:\n"
     ]
    },
    {
     "data": {
      "text/html": [
       "<div>\n",
       "<style scoped>\n",
       "    .dataframe tbody tr th:only-of-type {\n",
       "        vertical-align: middle;\n",
       "    }\n",
       "\n",
       "    .dataframe tbody tr th {\n",
       "        vertical-align: top;\n",
       "    }\n",
       "\n",
       "    .dataframe thead th {\n",
       "        text-align: right;\n",
       "    }\n",
       "</style>\n",
       "<table border=\"1\" class=\"dataframe\">\n",
       "  <thead>\n",
       "    <tr style=\"text-align: right;\">\n",
       "      <th></th>\n",
       "      <th>book_id</th>\n",
       "      <th>title</th>\n",
       "      <th>review_count</th>\n",
       "      <th>avg_rating</th>\n",
       "    </tr>\n",
       "  </thead>\n",
       "  <tbody>\n",
       "    <tr>\n",
       "      <th>0</th>\n",
       "      <td>948</td>\n",
       "      <td>Twilight (Twilight  #1)</td>\n",
       "      <td>7</td>\n",
       "      <td>3.66</td>\n",
       "    </tr>\n",
       "    <tr>\n",
       "      <th>1</th>\n",
       "      <td>963</td>\n",
       "      <td>Water for Elephants</td>\n",
       "      <td>6</td>\n",
       "      <td>3.98</td>\n",
       "    </tr>\n",
       "    <tr>\n",
       "      <th>2</th>\n",
       "      <td>734</td>\n",
       "      <td>The Glass Castle</td>\n",
       "      <td>6</td>\n",
       "      <td>4.21</td>\n",
       "    </tr>\n",
       "    <tr>\n",
       "      <th>3</th>\n",
       "      <td>302</td>\n",
       "      <td>Harry Potter and the Prisoner of Azkaban (Harr...</td>\n",
       "      <td>6</td>\n",
       "      <td>4.41</td>\n",
       "    </tr>\n",
       "    <tr>\n",
       "      <th>4</th>\n",
       "      <td>695</td>\n",
       "      <td>The Curious Incident of the Dog in the Night-Time</td>\n",
       "      <td>6</td>\n",
       "      <td>4.08</td>\n",
       "    </tr>\n",
       "    <tr>\n",
       "      <th>...</th>\n",
       "      <td>...</td>\n",
       "      <td>...</td>\n",
       "      <td>...</td>\n",
       "      <td>...</td>\n",
       "    </tr>\n",
       "    <tr>\n",
       "      <th>995</th>\n",
       "      <td>83</td>\n",
       "      <td>Anne Rice's The Vampire Lestat: A Graphic Novel</td>\n",
       "      <td>0</td>\n",
       "      <td>3.67</td>\n",
       "    </tr>\n",
       "    <tr>\n",
       "      <th>996</th>\n",
       "      <td>808</td>\n",
       "      <td>The Natural Way to Draw</td>\n",
       "      <td>0</td>\n",
       "      <td>3.00</td>\n",
       "    </tr>\n",
       "    <tr>\n",
       "      <th>997</th>\n",
       "      <td>672</td>\n",
       "      <td>The Cat in the Hat and Other Dr. Seuss Favorites</td>\n",
       "      <td>0</td>\n",
       "      <td>5.00</td>\n",
       "    </tr>\n",
       "    <tr>\n",
       "      <th>998</th>\n",
       "      <td>221</td>\n",
       "      <td>Essential Tales and Poems</td>\n",
       "      <td>0</td>\n",
       "      <td>4.00</td>\n",
       "    </tr>\n",
       "    <tr>\n",
       "      <th>999</th>\n",
       "      <td>191</td>\n",
       "      <td>Disney's Beauty and the Beast (A Little Golden...</td>\n",
       "      <td>0</td>\n",
       "      <td>4.00</td>\n",
       "    </tr>\n",
       "  </tbody>\n",
       "</table>\n",
       "<p>1000 rows × 4 columns</p>\n",
       "</div>"
      ],
      "text/plain": [
       "     book_id                                              title  review_count  \\\n",
       "0        948                            Twilight (Twilight  #1)             7   \n",
       "1        963                                Water for Elephants             6   \n",
       "2        734                                   The Glass Castle             6   \n",
       "3        302  Harry Potter and the Prisoner of Azkaban (Harr...             6   \n",
       "4        695  The Curious Incident of the Dog in the Night-Time             6   \n",
       "..       ...                                                ...           ...   \n",
       "995       83    Anne Rice's The Vampire Lestat: A Graphic Novel             0   \n",
       "996      808                            The Natural Way to Draw             0   \n",
       "997      672   The Cat in the Hat and Other Dr. Seuss Favorites             0   \n",
       "998      221                          Essential Tales and Poems             0   \n",
       "999      191  Disney's Beauty and the Beast (A Little Golden...             0   \n",
       "\n",
       "     avg_rating  \n",
       "0          3.66  \n",
       "1          3.98  \n",
       "2          4.21  \n",
       "3          4.41  \n",
       "4          4.08  \n",
       "..          ...  \n",
       "995        3.67  \n",
       "996        3.00  \n",
       "997        5.00  \n",
       "998        4.00  \n",
       "999        4.00  \n",
       "\n",
       "[1000 rows x 4 columns]"
      ]
     },
     "execution_count": 7,
     "metadata": {},
     "output_type": "execute_result"
    }
   ],
   "source": [
    "query_rating_review = '''\n",
    "SELECT \n",
    "    b.book_id, \n",
    "    b.title, \n",
    "    COUNT(DISTINCT r.review_id) AS review_count, \n",
    "    ROUND(AVG(rt.rating), 2) AS avg_rating\n",
    "FROM books b\n",
    "LEFT JOIN reviews r ON b.book_id = r.book_id\n",
    "LEFT JOIN ratings rt ON b.book_id = rt.book_id\n",
    "GROUP BY b.book_id, b.title\n",
    "ORDER BY review_count DESC;\n",
    "'''\n",
    "\n",
    "print(\"\\nThe number of reviews and the average score for each book:\")\n",
    "select(query_rating_review)"
   ]
  },
  {
   "cell_type": "markdown",
   "metadata": {},
   "source": [
    "### Identify the Publisher That Released the Most Books Over 50 Pages – Excluding Pamphlets"
   ]
  },
  {
   "cell_type": "code",
   "execution_count": 8,
   "metadata": {},
   "outputs": [
    {
     "data": {
      "text/html": [
       "<div>\n",
       "<style scoped>\n",
       "    .dataframe tbody tr th:only-of-type {\n",
       "        vertical-align: middle;\n",
       "    }\n",
       "\n",
       "    .dataframe tbody tr th {\n",
       "        vertical-align: top;\n",
       "    }\n",
       "\n",
       "    .dataframe thead th {\n",
       "        text-align: right;\n",
       "    }\n",
       "</style>\n",
       "<table border=\"1\" class=\"dataframe\">\n",
       "  <thead>\n",
       "    <tr style=\"text-align: right;\">\n",
       "      <th></th>\n",
       "      <th>publisher_id</th>\n",
       "      <th>publisher</th>\n",
       "      <th>book_count</th>\n",
       "    </tr>\n",
       "  </thead>\n",
       "  <tbody>\n",
       "    <tr>\n",
       "      <th>0</th>\n",
       "      <td>212</td>\n",
       "      <td>Penguin Books</td>\n",
       "      <td>42</td>\n",
       "    </tr>\n",
       "  </tbody>\n",
       "</table>\n",
       "</div>"
      ],
      "text/plain": [
       "   publisher_id      publisher  book_count\n",
       "0           212  Penguin Books          42"
      ]
     },
     "execution_count": 8,
     "metadata": {},
     "output_type": "execute_result"
    }
   ],
   "source": [
    "query_publisher = '''\n",
    "SELECT \n",
    "    p.publisher_id, \n",
    "    p.publisher, \n",
    "    COUNT(b.book_id) AS book_count\n",
    "FROM books b\n",
    "JOIN publishers p ON b.publisher_id = p.publisher_id\n",
    "WHERE b.num_pages > 50\n",
    "GROUP BY p.publisher_id, p.publisher\n",
    "ORDER BY book_count DESC\n",
    "LIMIT 1;\n",
    "'''\n",
    "select(query_publisher)"
   ]
  },
  {
   "cell_type": "markdown",
   "metadata": {},
   "source": [
    "The publisher that has released the largest number of books thicker than 50 pages: **Penguin Books**"
   ]
  },
  {
   "cell_type": "markdown",
   "metadata": {},
   "source": [
    "### Identify the Author with the Highest Average Book Rating – Considering Only Books with 50 or More Ratings"
   ]
  },
  {
   "cell_type": "code",
   "execution_count": 9,
   "metadata": {},
   "outputs": [
    {
     "data": {
      "text/html": [
       "<div>\n",
       "<style scoped>\n",
       "    .dataframe tbody tr th:only-of-type {\n",
       "        vertical-align: middle;\n",
       "    }\n",
       "\n",
       "    .dataframe tbody tr th {\n",
       "        vertical-align: top;\n",
       "    }\n",
       "\n",
       "    .dataframe thead th {\n",
       "        text-align: right;\n",
       "    }\n",
       "</style>\n",
       "<table border=\"1\" class=\"dataframe\">\n",
       "  <thead>\n",
       "    <tr style=\"text-align: right;\">\n",
       "      <th></th>\n",
       "      <th>author</th>\n",
       "      <th>avg_rating</th>\n",
       "    </tr>\n",
       "  </thead>\n",
       "  <tbody>\n",
       "    <tr>\n",
       "      <th>0</th>\n",
       "      <td>J.K. Rowling/Mary GrandPré</td>\n",
       "      <td>4.28</td>\n",
       "    </tr>\n",
       "  </tbody>\n",
       "</table>\n",
       "</div>"
      ],
      "text/plain": [
       "                       author  avg_rating\n",
       "0  J.K. Rowling/Mary GrandPré        4.28"
      ]
     },
     "execution_count": 9,
     "metadata": {},
     "output_type": "execute_result"
    }
   ],
   "source": [
    "query_author = '''\n",
    "WITH book_ratings AS (\n",
    "    SELECT \n",
    "        b.book_id,\n",
    "        b.author_id,\n",
    "        COUNT(rt.rating) AS rating_count,\n",
    "        AVG(rt.rating) AS avg_rating\n",
    "    FROM books b\n",
    "    JOIN ratings rt ON b.book_id = rt.book_id\n",
    "    GROUP BY b.book_id, b.author_id\n",
    "    HAVING COUNT(rt.rating) >= 50\n",
    "),\n",
    "author_avg_rating AS (\n",
    "    SELECT \n",
    "        br.author_id,\n",
    "        ROUND(AVG(br.avg_rating), 2) AS avg_rating,\n",
    "        SUM(br.rating_count) AS total_ratings\n",
    "    FROM book_ratings br\n",
    "    GROUP BY br.author_id\n",
    ")\n",
    "SELECT \n",
    "    a.author,\n",
    "    ar.avg_rating\n",
    "FROM author_avg_rating ar\n",
    "JOIN authors a ON ar.author_id = a.author_id\n",
    "ORDER BY ar.avg_rating DESC\n",
    "LIMIT 1;\n",
    "'''\n",
    "\n",
    "select(query_author)"
   ]
  },
  {
   "cell_type": "markdown",
   "metadata": {},
   "source": [
    "The author with the highest average book rating (considering books with 50 or more ratings) is **J.K. Rowling/Mary GrandPré** (average rating: 4.28)."
   ]
  },
  {
   "cell_type": "markdown",
   "metadata": {},
   "source": [
    "### Calculate the Average Number of Reviews from Users Who Gave More Than 48 Ratings"
   ]
  },
  {
   "cell_type": "code",
   "execution_count": 10,
   "metadata": {},
   "outputs": [
    {
     "data": {
      "text/html": [
       "<div>\n",
       "<style scoped>\n",
       "    .dataframe tbody tr th:only-of-type {\n",
       "        vertical-align: middle;\n",
       "    }\n",
       "\n",
       "    .dataframe tbody tr th {\n",
       "        vertical-align: top;\n",
       "    }\n",
       "\n",
       "    .dataframe thead th {\n",
       "        text-align: right;\n",
       "    }\n",
       "</style>\n",
       "<table border=\"1\" class=\"dataframe\">\n",
       "  <thead>\n",
       "    <tr style=\"text-align: right;\">\n",
       "      <th></th>\n",
       "      <th>avg_reviews</th>\n",
       "    </tr>\n",
       "  </thead>\n",
       "  <tbody>\n",
       "    <tr>\n",
       "      <th>0</th>\n",
       "      <td>24.0</td>\n",
       "    </tr>\n",
       "  </tbody>\n",
       "</table>\n",
       "</div>"
      ],
      "text/plain": [
       "   avg_reviews\n",
       "0         24.0"
      ]
     },
     "execution_count": 10,
     "metadata": {},
     "output_type": "execute_result"
    }
   ],
   "source": [
    "query_avg_reviews = '''\n",
    "WITH user_reviews AS (\n",
    "    SELECT \n",
    "        rv.username, \n",
    "        COUNT(rv.review_id) AS review_count\n",
    "    FROM reviews rv\n",
    "    JOIN (\n",
    "        SELECT username\n",
    "        FROM ratings\n",
    "        GROUP BY username\n",
    "        HAVING COUNT(rating) > 48\n",
    "    ) AS frequent_users ON rv.username = frequent_users.username\n",
    "    GROUP BY rv.username\n",
    ")\n",
    "SELECT \n",
    "    AVG(review_count) AS avg_reviews\n",
    "FROM user_reviews;\n",
    "'''\n",
    "\n",
    "\n",
    "select(query_avg_reviews)"
   ]
  },
  {
   "cell_type": "markdown",
   "metadata": {},
   "source": [
    "The average number of reviews from users who gave more than 48 ratings is **24**."
   ]
  },
  {
   "cell_type": "code",
   "execution_count": 11,
   "metadata": {},
   "outputs": [],
   "source": [
    "# Closing the сonnection\n",
    "con.close()"
   ]
  },
  {
   "cell_type": "markdown",
   "metadata": {},
   "source": [
    "## **Conclusions**  \r\n",
    "\r\n",
    "- The dataset contains information on **1,000 books**.  \r\n",
    "\r\n",
    "- **821 books** were published after January 1, 2000.  \r\n",
    "\r\n",
    "- **Number of reviews and average rating for each book:**  \r\n",
    "  The book *\"Twilight (Twilight #1)\"* has the highest number of reviews (**7**) with an average rating of **3.66**. Other books, including *\"Water for Elephants\"* and *\"The Glass Castle\"*, have **6 reviews** each with ratings above **4.0**.  \r\n",
    "\r\n",
    "- **The publisher that released the most books over 50 pages:** *Penguin Books*.  \r\n",
    "\r\n",
    "- **The author with the highest average book rating (considering books with 50 or more ratings):** *J.K. Rowling/Mary GrandPré* (average rating: **4.28**).  \r\n",
    "\r\n",
    "- **The average number of reviews from users who gave more than 48 ratings:** **24**.  "
   ]
  }
 ],
 "metadata": {
  "ExecuteTimeLog": [
   {
    "duration": 9771,
    "start_time": "2024-12-25T10:25:19.290Z"
   },
   {
    "duration": 243,
    "start_time": "2024-12-25T10:25:39.750Z"
   },
   {
    "duration": 249,
    "start_time": "2024-12-25T10:51:54.729Z"
   },
   {
    "duration": 2,
    "start_time": "2024-12-25T10:52:00.796Z"
   },
   {
    "duration": 4,
    "start_time": "2024-12-25T11:19:06.507Z"
   },
   {
    "duration": 149,
    "start_time": "2024-12-25T11:19:10.021Z"
   },
   {
    "duration": 3,
    "start_time": "2024-12-25T11:24:00.325Z"
   },
   {
    "duration": 3,
    "start_time": "2024-12-25T11:27:01.556Z"
   },
   {
    "duration": 4,
    "start_time": "2024-12-25T11:27:09.731Z"
   },
   {
    "duration": 33,
    "start_time": "2024-12-25T11:28:31.790Z"
   },
   {
    "duration": 31,
    "start_time": "2024-12-25T11:28:56.694Z"
   },
   {
    "duration": 85,
    "start_time": "2024-12-25T11:37:36.129Z"
   },
   {
    "duration": 5,
    "start_time": "2024-12-25T11:44:00.435Z"
   },
   {
    "duration": 201,
    "start_time": "2024-12-25T11:44:04.100Z"
   },
   {
    "duration": 8,
    "start_time": "2024-12-25T11:44:44.835Z"
   },
   {
    "duration": 112,
    "start_time": "2024-12-25T11:44:45.709Z"
   },
   {
    "duration": 3,
    "start_time": "2024-12-25T11:44:52.600Z"
   },
   {
    "duration": 187,
    "start_time": "2024-12-25T11:44:54.795Z"
   },
   {
    "duration": 4,
    "start_time": "2024-12-25T11:46:06.169Z"
   },
   {
    "duration": 394,
    "start_time": "2024-12-25T11:46:07.628Z"
   },
   {
    "duration": 3,
    "start_time": "2024-12-25T11:56:29.354Z"
   },
   {
    "duration": 79,
    "start_time": "2024-12-25T11:57:02.830Z"
   },
   {
    "duration": 3,
    "start_time": "2024-12-25T11:57:37.199Z"
   },
   {
    "duration": 3,
    "start_time": "2024-12-25T11:57:44.513Z"
   },
   {
    "duration": 31,
    "start_time": "2024-12-25T11:57:58.883Z"
   },
   {
    "duration": 32,
    "start_time": "2024-12-25T11:58:16.843Z"
   },
   {
    "duration": 71,
    "start_time": "2024-12-25T12:16:11.451Z"
   },
   {
    "duration": 3,
    "start_time": "2024-12-25T12:22:02.520Z"
   },
   {
    "duration": 174,
    "start_time": "2024-12-25T12:22:21.678Z"
   },
   {
    "duration": 114,
    "start_time": "2024-12-25T12:22:46.988Z"
   },
   {
    "duration": 79,
    "start_time": "2024-12-25T12:32:47.277Z"
   },
   {
    "duration": 85,
    "start_time": "2024-12-25T12:33:36.170Z"
   },
   {
    "duration": 5,
    "start_time": "2024-12-25T12:47:48.742Z"
   },
   {
    "duration": 190,
    "start_time": "2024-12-25T12:48:02.808Z"
   },
   {
    "duration": 168,
    "start_time": "2024-12-25T12:48:24.036Z"
   },
   {
    "duration": 79,
    "start_time": "2024-12-25T12:48:49.942Z"
   },
   {
    "duration": 126,
    "start_time": "2024-12-25T13:03:00.283Z"
   },
   {
    "duration": 88,
    "start_time": "2024-12-25T13:03:06.672Z"
   },
   {
    "duration": 85,
    "start_time": "2024-12-25T13:29:20.779Z"
   },
   {
    "duration": 14,
    "start_time": "2024-12-25T13:31:34.250Z"
   },
   {
    "duration": 537,
    "start_time": "2024-12-25T13:40:38.388Z"
   },
   {
    "duration": 13207,
    "start_time": "2024-12-25T13:40:38.927Z"
   },
   {
    "duration": 11,
    "start_time": "2024-12-25T13:40:52.135Z"
   },
   {
    "duration": 26,
    "start_time": "2024-12-25T13:40:52.151Z"
   },
   {
    "duration": 408,
    "start_time": "2024-12-25T13:40:52.180Z"
   },
   {
    "duration": 138,
    "start_time": "2024-12-25T13:40:52.589Z"
   },
   {
    "duration": 112,
    "start_time": "2024-12-25T13:40:52.729Z"
   },
   {
    "duration": 72,
    "start_time": "2024-12-25T13:40:52.842Z"
   },
   {
    "duration": 76,
    "start_time": "2024-12-25T13:40:52.915Z"
   },
   {
    "duration": 82,
    "start_time": "2024-12-25T13:40:52.992Z"
   },
   {
    "duration": 13,
    "start_time": "2024-12-25T13:40:53.076Z"
   },
   {
    "duration": 4,
    "start_time": "2024-12-25T13:41:07.090Z"
   },
   {
    "duration": 531,
    "start_time": "2024-12-25T13:41:12.993Z"
   },
   {
    "duration": 11244,
    "start_time": "2024-12-25T13:41:13.526Z"
   },
   {
    "duration": 5,
    "start_time": "2024-12-25T13:41:24.772Z"
   },
   {
    "duration": 19,
    "start_time": "2024-12-25T13:41:24.778Z"
   },
   {
    "duration": 97,
    "start_time": "2024-12-25T13:41:24.800Z"
   },
   {
    "duration": 0,
    "start_time": "2024-12-25T13:41:24.899Z"
   },
   {
    "duration": 0,
    "start_time": "2024-12-25T13:41:24.901Z"
   },
   {
    "duration": 0,
    "start_time": "2024-12-25T13:41:24.902Z"
   },
   {
    "duration": 0,
    "start_time": "2024-12-25T13:41:24.904Z"
   },
   {
    "duration": 0,
    "start_time": "2024-12-25T13:41:24.905Z"
   },
   {
    "duration": 0,
    "start_time": "2024-12-25T13:41:24.908Z"
   },
   {
    "duration": 201,
    "start_time": "2024-12-25T13:41:34.456Z"
   },
   {
    "duration": 563,
    "start_time": "2024-12-25T13:41:39.418Z"
   },
   {
    "duration": 9772,
    "start_time": "2024-12-25T13:41:39.983Z"
   },
   {
    "duration": 6,
    "start_time": "2024-12-25T13:41:49.756Z"
   },
   {
    "duration": 24,
    "start_time": "2024-12-25T13:41:49.764Z"
   },
   {
    "duration": 420,
    "start_time": "2024-12-25T13:41:49.790Z"
   },
   {
    "duration": 164,
    "start_time": "2024-12-25T13:41:50.212Z"
   },
   {
    "duration": 120,
    "start_time": "2024-12-25T13:41:50.377Z"
   },
   {
    "duration": 80,
    "start_time": "2024-12-25T13:41:50.498Z"
   },
   {
    "duration": 88,
    "start_time": "2024-12-25T13:41:50.580Z"
   },
   {
    "duration": 88,
    "start_time": "2024-12-25T13:41:50.672Z"
   },
   {
    "duration": 15,
    "start_time": "2024-12-25T13:41:50.762Z"
   },
   {
    "duration": 517,
    "start_time": "2024-12-25T13:42:43.279Z"
   },
   {
    "duration": 550,
    "start_time": "2024-12-25T17:24:27.904Z"
   },
   {
    "duration": 9552,
    "start_time": "2024-12-25T17:24:28.456Z"
   },
   {
    "duration": 4,
    "start_time": "2024-12-25T17:24:38.009Z"
   },
   {
    "duration": 395,
    "start_time": "2024-12-25T17:24:38.015Z"
   },
   {
    "duration": 3,
    "start_time": "2024-12-25T17:24:38.412Z"
   },
   {
    "duration": 176,
    "start_time": "2024-12-25T17:24:38.416Z"
   },
   {
    "duration": 111,
    "start_time": "2024-12-25T17:24:38.594Z"
   },
   {
    "duration": 74,
    "start_time": "2024-12-25T17:24:38.706Z"
   },
   {
    "duration": 78,
    "start_time": "2024-12-25T17:24:38.782Z"
   },
   {
    "duration": 80,
    "start_time": "2024-12-25T17:24:38.862Z"
   },
   {
    "duration": 13,
    "start_time": "2024-12-25T17:24:38.944Z"
   },
   {
    "duration": 49,
    "start_time": "2024-12-25T18:15:37.577Z"
   },
   {
    "duration": 473,
    "start_time": "2024-12-25T18:15:45.792Z"
   },
   {
    "duration": 12173,
    "start_time": "2024-12-25T18:15:46.267Z"
   },
   {
    "duration": 5,
    "start_time": "2024-12-25T18:15:58.441Z"
   },
   {
    "duration": 400,
    "start_time": "2024-12-25T18:15:58.448Z"
   },
   {
    "duration": 2,
    "start_time": "2024-12-25T18:15:58.850Z"
   },
   {
    "duration": 177,
    "start_time": "2024-12-25T18:15:58.854Z"
   },
   {
    "duration": 113,
    "start_time": "2024-12-25T18:15:59.032Z"
   },
   {
    "duration": 73,
    "start_time": "2024-12-25T18:15:59.146Z"
   },
   {
    "duration": 78,
    "start_time": "2024-12-25T18:15:59.221Z"
   },
   {
    "duration": 80,
    "start_time": "2024-12-25T18:15:59.300Z"
   },
   {
    "duration": 13,
    "start_time": "2024-12-25T18:15:59.381Z"
   },
   {
    "duration": 81,
    "start_time": "2024-12-25T18:20:52.780Z"
   },
   {
    "duration": 78,
    "start_time": "2024-12-25T18:21:38.038Z"
   },
   {
    "duration": 76,
    "start_time": "2024-12-25T18:22:57.622Z"
   },
   {
    "duration": 77,
    "start_time": "2024-12-25T18:28:51.375Z"
   },
   {
    "duration": 527,
    "start_time": "2024-12-25T18:30:58.743Z"
   },
   {
    "duration": 9949,
    "start_time": "2024-12-25T18:30:59.271Z"
   },
   {
    "duration": 4,
    "start_time": "2024-12-25T18:31:09.222Z"
   },
   {
    "duration": 410,
    "start_time": "2024-12-25T18:31:09.228Z"
   },
   {
    "duration": 3,
    "start_time": "2024-12-25T18:31:09.640Z"
   },
   {
    "duration": 150,
    "start_time": "2024-12-25T18:31:09.645Z"
   },
   {
    "duration": 111,
    "start_time": "2024-12-25T18:31:09.797Z"
   },
   {
    "duration": 73,
    "start_time": "2024-12-25T18:31:09.910Z"
   },
   {
    "duration": 76,
    "start_time": "2024-12-25T18:31:09.985Z"
   },
   {
    "duration": 75,
    "start_time": "2024-12-25T18:31:10.063Z"
   },
   {
    "duration": 13,
    "start_time": "2024-12-25T18:31:10.139Z"
   },
   {
    "duration": 495,
    "start_time": "2024-12-25T18:41:16.994Z"
   },
   {
    "duration": 10352,
    "start_time": "2024-12-25T18:41:17.491Z"
   },
   {
    "duration": 4,
    "start_time": "2024-12-25T18:41:27.846Z"
   },
   {
    "duration": 441,
    "start_time": "2024-12-25T18:41:27.852Z"
   },
   {
    "duration": 2,
    "start_time": "2024-12-25T18:41:28.295Z"
   },
   {
    "duration": 140,
    "start_time": "2024-12-25T18:41:28.299Z"
   },
   {
    "duration": 111,
    "start_time": "2024-12-25T18:41:28.440Z"
   },
   {
    "duration": 74,
    "start_time": "2024-12-25T18:41:28.553Z"
   },
   {
    "duration": 78,
    "start_time": "2024-12-25T18:41:28.628Z"
   },
   {
    "duration": 76,
    "start_time": "2024-12-25T18:41:28.708Z"
   },
   {
    "duration": 12,
    "start_time": "2024-12-25T18:41:28.786Z"
   }
  ],
  "kernelspec": {
   "display_name": "Python 3 (ipykernel)",
   "language": "python",
   "name": "python3"
  },
  "language_info": {
   "codemirror_mode": {
    "name": "ipython",
    "version": 3
   },
   "file_extension": ".py",
   "mimetype": "text/x-python",
   "name": "python",
   "nbconvert_exporter": "python",
   "pygments_lexer": "ipython3",
   "version": "3.12.4"
  },
  "toc": {
   "base_numbering": 1,
   "nav_menu": {},
   "number_sections": true,
   "sideBar": true,
   "skip_h1_title": true,
   "title_cell": "Table of Contents",
   "title_sidebar": "Contents",
   "toc_cell": false,
   "toc_position": {},
   "toc_section_display": true,
   "toc_window_display": true
  }
 },
 "nbformat": 4,
 "nbformat_minor": 4
}
