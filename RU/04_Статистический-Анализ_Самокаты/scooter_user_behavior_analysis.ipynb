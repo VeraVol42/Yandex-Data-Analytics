{
 "cells": [
  {
   "cell_type": "markdown",
   "id": "31a795cd",
   "metadata": {},
   "source": [
    "## Исследование сервиса аренды самокатов GoFast\n",
    "\n",
    "\n",
    "У нас есть данные о некоторых пользователях из нескольких городов, а также об их поездках. Надо проанализировать данные и проверить некоторые гипотезы, которые могут помочь бизнесу вырасти.\n",
    "Чтобы совершать поездки по городу, пользователи сервиса GoFast пользуются мобильным приложением. Сервисом можно пользоваться:\n",
    "\n",
    "Без подписки\n",
    "\n",
    "- абонентская плата отсутствует;\n",
    "\n",
    "- стоимость одной минуты поездки — 8 рублей;\n",
    "\n",
    "- стоимость старта (начала поездки) — 50 рублей;\n",
    "\n",
    "С подпиской Ultra\n",
    "\n",
    "- абонентская плата — 199 рублей в месяц;\n",
    "\n",
    "- стоимость одной минуты поездки — 6 рублей;\n",
    "\n",
    "- стоимость старта — бесплатно.\n",
    "\n",
    "**Цель исследования**\n",
    "\n",
    "- Изучение информации о пользователях и их поведения, оптимизацию бизнес-процессов, выявление потенциалов для улучшения и развития бизнеса GoFast.\n",
    "\n",
    "**Ход исследования**\n",
    "\n",
    "- Загрузка и предобработка данных;\n",
    "\n",
    "- Исследовательский анализ данных;\n",
    "\n",
    "- Объединение данных;\n",
    "\n",
    "- Подсчёт выручки, исходя из условий оплаты по подписке и без неё;\n",
    "\n",
    "- Проверка гипотез: о различиях в продолжительности поездок между пользователями с подпиской и без, среднем расстоянии поездок пользователей с подпиской, сравнении месячной выручки от разных категорий пользователей и влиянии технического обновления на количество обращений в техподдержку.\n",
    "\n",
    "- Вывод."
   ]
  },
  {
   "cell_type": "code",
   "execution_count": 1,
   "id": "72576667",
   "metadata": {},
   "outputs": [],
   "source": [
    "import pandas as pd\n",
    "import matplotlib.pyplot as plt\n",
    "from scipy import stats as st\n",
    "import numpy as np"
   ]
  },
  {
   "cell_type": "markdown",
   "id": "c42cbe00",
   "metadata": {},
   "source": [
    "#### Загрузка данных"
   ]
  },
  {
   "cell_type": "code",
   "execution_count": 2,
   "id": "eff9f206",
   "metadata": {},
   "outputs": [],
   "source": [
    "# читаем CSV-файлы с данными\n",
    "df_users = pd.read_csv('/datasets/users_go.csv')"
   ]
  },
  {
   "cell_type": "code",
   "execution_count": 3,
   "id": "3af9b2ae",
   "metadata": {},
   "outputs": [
    {
     "data": {
      "text/html": [
       "<div>\n",
       "<style scoped>\n",
       "    .dataframe tbody tr th:only-of-type {\n",
       "        vertical-align: middle;\n",
       "    }\n",
       "\n",
       "    .dataframe tbody tr th {\n",
       "        vertical-align: top;\n",
       "    }\n",
       "\n",
       "    .dataframe thead th {\n",
       "        text-align: right;\n",
       "    }\n",
       "</style>\n",
       "<table border=\"1\" class=\"dataframe\">\n",
       "  <thead>\n",
       "    <tr style=\"text-align: right;\">\n",
       "      <th></th>\n",
       "      <th>user_id</th>\n",
       "      <th>name</th>\n",
       "      <th>age</th>\n",
       "      <th>city</th>\n",
       "      <th>subscription_type</th>\n",
       "    </tr>\n",
       "  </thead>\n",
       "  <tbody>\n",
       "    <tr>\n",
       "      <th>0</th>\n",
       "      <td>1</td>\n",
       "      <td>Кира</td>\n",
       "      <td>22</td>\n",
       "      <td>Тюмень</td>\n",
       "      <td>ultra</td>\n",
       "    </tr>\n",
       "    <tr>\n",
       "      <th>1</th>\n",
       "      <td>2</td>\n",
       "      <td>Станислав</td>\n",
       "      <td>31</td>\n",
       "      <td>Омск</td>\n",
       "      <td>ultra</td>\n",
       "    </tr>\n",
       "    <tr>\n",
       "      <th>2</th>\n",
       "      <td>3</td>\n",
       "      <td>Алексей</td>\n",
       "      <td>20</td>\n",
       "      <td>Москва</td>\n",
       "      <td>ultra</td>\n",
       "    </tr>\n",
       "    <tr>\n",
       "      <th>3</th>\n",
       "      <td>4</td>\n",
       "      <td>Константин</td>\n",
       "      <td>26</td>\n",
       "      <td>Ростов-на-Дону</td>\n",
       "      <td>ultra</td>\n",
       "    </tr>\n",
       "    <tr>\n",
       "      <th>4</th>\n",
       "      <td>5</td>\n",
       "      <td>Адель</td>\n",
       "      <td>28</td>\n",
       "      <td>Омск</td>\n",
       "      <td>ultra</td>\n",
       "    </tr>\n",
       "    <tr>\n",
       "      <th>5</th>\n",
       "      <td>6</td>\n",
       "      <td>Регина</td>\n",
       "      <td>25</td>\n",
       "      <td>Краснодар</td>\n",
       "      <td>ultra</td>\n",
       "    </tr>\n",
       "    <tr>\n",
       "      <th>6</th>\n",
       "      <td>7</td>\n",
       "      <td>Игорь</td>\n",
       "      <td>23</td>\n",
       "      <td>Омск</td>\n",
       "      <td>ultra</td>\n",
       "    </tr>\n",
       "    <tr>\n",
       "      <th>7</th>\n",
       "      <td>8</td>\n",
       "      <td>Юрий</td>\n",
       "      <td>23</td>\n",
       "      <td>Краснодар</td>\n",
       "      <td>ultra</td>\n",
       "    </tr>\n",
       "    <tr>\n",
       "      <th>8</th>\n",
       "      <td>9</td>\n",
       "      <td>Ян</td>\n",
       "      <td>21</td>\n",
       "      <td>Пятигорск</td>\n",
       "      <td>ultra</td>\n",
       "    </tr>\n",
       "    <tr>\n",
       "      <th>9</th>\n",
       "      <td>10</td>\n",
       "      <td>Валерий</td>\n",
       "      <td>18</td>\n",
       "      <td>Екатеринбург</td>\n",
       "      <td>ultra</td>\n",
       "    </tr>\n",
       "  </tbody>\n",
       "</table>\n",
       "</div>"
      ],
      "text/plain": [
       "   user_id        name  age            city subscription_type\n",
       "0        1        Кира   22          Тюмень             ultra\n",
       "1        2   Станислав   31            Омск             ultra\n",
       "2        3     Алексей   20          Москва             ultra\n",
       "3        4  Константин   26  Ростов-на-Дону             ultra\n",
       "4        5       Адель   28            Омск             ultra\n",
       "5        6      Регина   25       Краснодар             ultra\n",
       "6        7       Игорь   23            Омск             ultra\n",
       "7        8        Юрий   23       Краснодар             ultra\n",
       "8        9          Ян   21       Пятигорск             ultra\n",
       "9       10     Валерий   18    Екатеринбург             ultra"
      ]
     },
     "execution_count": 3,
     "metadata": {},
     "output_type": "execute_result"
    }
   ],
   "source": [
    "# выводим строки\n",
    "df_users.head(10)"
   ]
  },
  {
   "cell_type": "code",
   "execution_count": 4,
   "id": "40800426",
   "metadata": {},
   "outputs": [
    {
     "name": "stdout",
     "output_type": "stream",
     "text": [
      "<class 'pandas.core.frame.DataFrame'>\n",
      "RangeIndex: 1565 entries, 0 to 1564\n",
      "Data columns (total 5 columns):\n",
      " #   Column             Non-Null Count  Dtype \n",
      "---  ------             --------------  ----- \n",
      " 0   user_id            1565 non-null   int64 \n",
      " 1   name               1565 non-null   object\n",
      " 2   age                1565 non-null   int64 \n",
      " 3   city               1565 non-null   object\n",
      " 4   subscription_type  1565 non-null   object\n",
      "dtypes: int64(2), object(3)\n",
      "memory usage: 61.3+ KB\n"
     ]
    }
   ],
   "source": [
    "# смотрим информацию\n",
    "df_users.info()"
   ]
  },
  {
   "cell_type": "markdown",
   "id": "2010079b",
   "metadata": {},
   "source": [
    "Пропущенные значения отсутствуют. Типы данных соответсвуют содержанию."
   ]
  },
  {
   "cell_type": "code",
   "execution_count": 5,
   "id": "ae0715be",
   "metadata": {},
   "outputs": [
    {
     "data": {
      "text/plain": [
       "31"
      ]
     },
     "execution_count": 5,
     "metadata": {},
     "output_type": "execute_result"
    }
   ],
   "source": [
    "# выводим на экран количество строк-дубликатов\n",
    "df_users.duplicated().sum()"
   ]
  },
  {
   "cell_type": "markdown",
   "id": "8307e55e",
   "metadata": {},
   "source": [
    "Количество явных дубликатов - 31"
   ]
  },
  {
   "cell_type": "code",
   "execution_count": 6,
   "id": "6d8ec2f1",
   "metadata": {},
   "outputs": [
    {
     "data": {
      "text/html": [
       "<div>\n",
       "<style scoped>\n",
       "    .dataframe tbody tr th:only-of-type {\n",
       "        vertical-align: middle;\n",
       "    }\n",
       "\n",
       "    .dataframe tbody tr th {\n",
       "        vertical-align: top;\n",
       "    }\n",
       "\n",
       "    .dataframe thead th {\n",
       "        text-align: right;\n",
       "    }\n",
       "</style>\n",
       "<table border=\"1\" class=\"dataframe\">\n",
       "  <thead>\n",
       "    <tr style=\"text-align: right;\">\n",
       "      <th></th>\n",
       "      <th>user_id</th>\n",
       "      <th>distance</th>\n",
       "      <th>duration</th>\n",
       "      <th>date</th>\n",
       "    </tr>\n",
       "  </thead>\n",
       "  <tbody>\n",
       "    <tr>\n",
       "      <th>0</th>\n",
       "      <td>1</td>\n",
       "      <td>4409.919140</td>\n",
       "      <td>25.599769</td>\n",
       "      <td>2021-01-01</td>\n",
       "    </tr>\n",
       "    <tr>\n",
       "      <th>1</th>\n",
       "      <td>1</td>\n",
       "      <td>2617.592153</td>\n",
       "      <td>15.816871</td>\n",
       "      <td>2021-01-18</td>\n",
       "    </tr>\n",
       "    <tr>\n",
       "      <th>2</th>\n",
       "      <td>1</td>\n",
       "      <td>754.159807</td>\n",
       "      <td>6.232113</td>\n",
       "      <td>2021-04-20</td>\n",
       "    </tr>\n",
       "    <tr>\n",
       "      <th>3</th>\n",
       "      <td>1</td>\n",
       "      <td>2694.783254</td>\n",
       "      <td>18.511000</td>\n",
       "      <td>2021-08-11</td>\n",
       "    </tr>\n",
       "    <tr>\n",
       "      <th>4</th>\n",
       "      <td>1</td>\n",
       "      <td>4028.687306</td>\n",
       "      <td>26.265803</td>\n",
       "      <td>2021-08-28</td>\n",
       "    </tr>\n",
       "    <tr>\n",
       "      <th>5</th>\n",
       "      <td>1</td>\n",
       "      <td>2770.890808</td>\n",
       "      <td>16.650138</td>\n",
       "      <td>2021-10-09</td>\n",
       "    </tr>\n",
       "    <tr>\n",
       "      <th>6</th>\n",
       "      <td>1</td>\n",
       "      <td>3039.020292</td>\n",
       "      <td>14.927879</td>\n",
       "      <td>2021-10-19</td>\n",
       "    </tr>\n",
       "    <tr>\n",
       "      <th>7</th>\n",
       "      <td>1</td>\n",
       "      <td>2842.118050</td>\n",
       "      <td>23.117468</td>\n",
       "      <td>2021-11-06</td>\n",
       "    </tr>\n",
       "    <tr>\n",
       "      <th>8</th>\n",
       "      <td>1</td>\n",
       "      <td>3412.690668</td>\n",
       "      <td>15.238072</td>\n",
       "      <td>2021-11-14</td>\n",
       "    </tr>\n",
       "    <tr>\n",
       "      <th>9</th>\n",
       "      <td>1</td>\n",
       "      <td>748.690645</td>\n",
       "      <td>15.041884</td>\n",
       "      <td>2021-11-22</td>\n",
       "    </tr>\n",
       "  </tbody>\n",
       "</table>\n",
       "</div>"
      ],
      "text/plain": [
       "   user_id     distance   duration        date\n",
       "0        1  4409.919140  25.599769  2021-01-01\n",
       "1        1  2617.592153  15.816871  2021-01-18\n",
       "2        1   754.159807   6.232113  2021-04-20\n",
       "3        1  2694.783254  18.511000  2021-08-11\n",
       "4        1  4028.687306  26.265803  2021-08-28\n",
       "5        1  2770.890808  16.650138  2021-10-09\n",
       "6        1  3039.020292  14.927879  2021-10-19\n",
       "7        1  2842.118050  23.117468  2021-11-06\n",
       "8        1  3412.690668  15.238072  2021-11-14\n",
       "9        1   748.690645  15.041884  2021-11-22"
      ]
     },
     "execution_count": 6,
     "metadata": {},
     "output_type": "execute_result"
    }
   ],
   "source": [
    "# читаем CSV-файлы\n",
    "df_riders = pd.read_csv('/datasets/rides_go.csv')\n",
    "# выводим строки\n",
    "df_riders.head(10)"
   ]
  },
  {
   "cell_type": "code",
   "execution_count": 7,
   "id": "4cc98c89",
   "metadata": {},
   "outputs": [
    {
     "name": "stdout",
     "output_type": "stream",
     "text": [
      "<class 'pandas.core.frame.DataFrame'>\n",
      "RangeIndex: 18068 entries, 0 to 18067\n",
      "Data columns (total 4 columns):\n",
      " #   Column    Non-Null Count  Dtype  \n",
      "---  ------    --------------  -----  \n",
      " 0   user_id   18068 non-null  int64  \n",
      " 1   distance  18068 non-null  float64\n",
      " 2   duration  18068 non-null  float64\n",
      " 3   date      18068 non-null  object \n",
      "dtypes: float64(2), int64(1), object(1)\n",
      "memory usage: 564.8+ KB\n"
     ]
    }
   ],
   "source": [
    "# смотрим информацию\n",
    "df_riders.info()"
   ]
  },
  {
   "cell_type": "markdown",
   "id": "faea3dd6",
   "metadata": {},
   "source": [
    "Пропущенные значения отсутствуют. Типы данных соответсвуют содержанию, за исключением date - тип object."
   ]
  },
  {
   "cell_type": "code",
   "execution_count": 8,
   "id": "25fdfd78",
   "metadata": {},
   "outputs": [
    {
     "data": {
      "text/plain": [
       "0"
      ]
     },
     "execution_count": 8,
     "metadata": {},
     "output_type": "execute_result"
    }
   ],
   "source": [
    "# выводим на экран количество строк-дубликатов\n",
    "df_riders.duplicated().sum()"
   ]
  },
  {
   "cell_type": "markdown",
   "id": "7e03e53c",
   "metadata": {},
   "source": [
    "Явные дубликаты не обнаружены"
   ]
  },
  {
   "cell_type": "code",
   "execution_count": 9,
   "id": "406c77b0",
   "metadata": {
    "scrolled": true
   },
   "outputs": [
    {
     "data": {
      "text/html": [
       "<div>\n",
       "<style scoped>\n",
       "    .dataframe tbody tr th:only-of-type {\n",
       "        vertical-align: middle;\n",
       "    }\n",
       "\n",
       "    .dataframe tbody tr th {\n",
       "        vertical-align: top;\n",
       "    }\n",
       "\n",
       "    .dataframe thead th {\n",
       "        text-align: right;\n",
       "    }\n",
       "</style>\n",
       "<table border=\"1\" class=\"dataframe\">\n",
       "  <thead>\n",
       "    <tr style=\"text-align: right;\">\n",
       "      <th></th>\n",
       "      <th>subscription_type</th>\n",
       "      <th>minute_price</th>\n",
       "      <th>start_ride_price</th>\n",
       "      <th>subscription_fee</th>\n",
       "    </tr>\n",
       "  </thead>\n",
       "  <tbody>\n",
       "    <tr>\n",
       "      <th>0</th>\n",
       "      <td>free</td>\n",
       "      <td>8</td>\n",
       "      <td>50</td>\n",
       "      <td>0</td>\n",
       "    </tr>\n",
       "    <tr>\n",
       "      <th>1</th>\n",
       "      <td>ultra</td>\n",
       "      <td>6</td>\n",
       "      <td>0</td>\n",
       "      <td>199</td>\n",
       "    </tr>\n",
       "  </tbody>\n",
       "</table>\n",
       "</div>"
      ],
      "text/plain": [
       "  subscription_type  minute_price  start_ride_price  subscription_fee\n",
       "0              free             8                50                 0\n",
       "1             ultra             6                 0               199"
      ]
     },
     "execution_count": 9,
     "metadata": {},
     "output_type": "execute_result"
    }
   ],
   "source": [
    "# читаем CSV-файлы\n",
    "df_subscriptions = pd.read_csv('/datasets/subscriptions_go.csv')\n",
    "# выводим строки\n",
    "df_subscriptions.head(10)"
   ]
  },
  {
   "cell_type": "code",
   "execution_count": 10,
   "id": "45363134",
   "metadata": {},
   "outputs": [
    {
     "name": "stdout",
     "output_type": "stream",
     "text": [
      "<class 'pandas.core.frame.DataFrame'>\n",
      "RangeIndex: 2 entries, 0 to 1\n",
      "Data columns (total 4 columns):\n",
      " #   Column             Non-Null Count  Dtype \n",
      "---  ------             --------------  ----- \n",
      " 0   subscription_type  2 non-null      object\n",
      " 1   minute_price       2 non-null      int64 \n",
      " 2   start_ride_price   2 non-null      int64 \n",
      " 3   subscription_fee   2 non-null      int64 \n",
      "dtypes: int64(3), object(1)\n",
      "memory usage: 192.0+ bytes\n"
     ]
    }
   ],
   "source": [
    "# смотрим информацию\n",
    "df_subscriptions.info()"
   ]
  },
  {
   "cell_type": "code",
   "execution_count": 11,
   "id": "a9541d27",
   "metadata": {},
   "outputs": [
    {
     "data": {
      "text/plain": [
       "0"
      ]
     },
     "execution_count": 11,
     "metadata": {},
     "output_type": "execute_result"
    }
   ],
   "source": [
    "# выводим на экран количество строк-дубликатов\n",
    "df_subscriptions.duplicated().sum()"
   ]
  },
  {
   "cell_type": "markdown",
   "id": "393e192d",
   "metadata": {},
   "source": [
    "Явные дубликаты не обнаружены"
   ]
  },
  {
   "cell_type": "markdown",
   "id": "cd0bfcb1",
   "metadata": {},
   "source": [
    "##### Вывод:\n",
    "Предоставлено 3 датафрейма. \n",
    "\n",
    "Названия столбцов приведены к общему стилю (snake_case), изменений не требуется.\n",
    "\n",
    "**Качество данных:** В датафреймах отсутствуют пропущенные значения. Типы данных соответсвуют содержанию, кроме колоники date в датафрейме df_riders - она имеет тип object. Тип данных нужно поменять в ходе работы над проектом.\n",
    "\n",
    "**Дубликаты:** Количество явных дубликатов - 31 в df_users"
   ]
  },
  {
   "cell_type": "markdown",
   "id": "e95ebca7",
   "metadata": {},
   "source": [
    "#### Предобработка данных"
   ]
  },
  {
   "cell_type": "markdown",
   "id": "1598e67f",
   "metadata": {},
   "source": [
    "##### Приводим столбец date к типу даты"
   ]
  },
  {
   "cell_type": "code",
   "execution_count": 12,
   "id": "36f1f01b",
   "metadata": {
    "scrolled": true
   },
   "outputs": [
    {
     "data": {
      "text/plain": [
       "0       2021-01-01\n",
       "1       2021-01-18\n",
       "2       2021-04-20\n",
       "3       2021-08-11\n",
       "4       2021-08-28\n",
       "           ...    \n",
       "18063   2021-11-04\n",
       "18064   2021-11-16\n",
       "18065   2021-11-18\n",
       "18066   2021-11-27\n",
       "18067   2021-12-29\n",
       "Name: date, Length: 18068, dtype: datetime64[ns]"
      ]
     },
     "execution_count": 12,
     "metadata": {},
     "output_type": "execute_result"
    }
   ],
   "source": [
    "df_riders['date'] = pd.to_datetime(df_riders['date'], format='%Y-%m-%dT%H:%M:%S')\n",
    "df_riders['date']"
   ]
  },
  {
   "cell_type": "markdown",
   "id": "87d4a070",
   "metadata": {},
   "source": [
    "##### Создаём новый столбец с номером месяца на основе столбца date."
   ]
  },
  {
   "cell_type": "code",
   "execution_count": 13,
   "id": "a057f7e1",
   "metadata": {},
   "outputs": [
    {
     "name": "stdout",
     "output_type": "stream",
     "text": [
      "Самая ранняя дата: 2021-01-01 00:00:00\n",
      "Самая поздняя дата: 2021-12-30 00:00:00\n"
     ]
    }
   ],
   "source": [
    "# Проверяем минимальную и максимальную даты в датафрейме\n",
    "print(\"Самая ранняя дата:\", df_riders['date'].min())\n",
    "print(\"Самая поздняя дата:\", df_riders['date'].max())"
   ]
  },
  {
   "cell_type": "markdown",
   "id": "8b7974f3",
   "metadata": {},
   "source": [
    "Наши данные за 2021 год"
   ]
  },
  {
   "cell_type": "code",
   "execution_count": 14,
   "id": "196c24b4",
   "metadata": {
    "scrolled": true
   },
   "outputs": [
    {
     "data": {
      "text/html": [
       "<div>\n",
       "<style scoped>\n",
       "    .dataframe tbody tr th:only-of-type {\n",
       "        vertical-align: middle;\n",
       "    }\n",
       "\n",
       "    .dataframe tbody tr th {\n",
       "        vertical-align: top;\n",
       "    }\n",
       "\n",
       "    .dataframe thead th {\n",
       "        text-align: right;\n",
       "    }\n",
       "</style>\n",
       "<table border=\"1\" class=\"dataframe\">\n",
       "  <thead>\n",
       "    <tr style=\"text-align: right;\">\n",
       "      <th></th>\n",
       "      <th>user_id</th>\n",
       "      <th>distance</th>\n",
       "      <th>duration</th>\n",
       "      <th>date</th>\n",
       "      <th>month_of_publication</th>\n",
       "    </tr>\n",
       "  </thead>\n",
       "  <tbody>\n",
       "    <tr>\n",
       "      <th>0</th>\n",
       "      <td>1</td>\n",
       "      <td>4409.919140</td>\n",
       "      <td>25.599769</td>\n",
       "      <td>2021-01-01</td>\n",
       "      <td>1</td>\n",
       "    </tr>\n",
       "    <tr>\n",
       "      <th>1</th>\n",
       "      <td>1</td>\n",
       "      <td>2617.592153</td>\n",
       "      <td>15.816871</td>\n",
       "      <td>2021-01-18</td>\n",
       "      <td>1</td>\n",
       "    </tr>\n",
       "    <tr>\n",
       "      <th>2</th>\n",
       "      <td>1</td>\n",
       "      <td>754.159807</td>\n",
       "      <td>6.232113</td>\n",
       "      <td>2021-04-20</td>\n",
       "      <td>4</td>\n",
       "    </tr>\n",
       "    <tr>\n",
       "      <th>3</th>\n",
       "      <td>1</td>\n",
       "      <td>2694.783254</td>\n",
       "      <td>18.511000</td>\n",
       "      <td>2021-08-11</td>\n",
       "      <td>8</td>\n",
       "    </tr>\n",
       "    <tr>\n",
       "      <th>4</th>\n",
       "      <td>1</td>\n",
       "      <td>4028.687306</td>\n",
       "      <td>26.265803</td>\n",
       "      <td>2021-08-28</td>\n",
       "      <td>8</td>\n",
       "    </tr>\n",
       "    <tr>\n",
       "      <th>...</th>\n",
       "      <td>...</td>\n",
       "      <td>...</td>\n",
       "      <td>...</td>\n",
       "      <td>...</td>\n",
       "      <td>...</td>\n",
       "    </tr>\n",
       "    <tr>\n",
       "      <th>18063</th>\n",
       "      <td>1534</td>\n",
       "      <td>3781.098080</td>\n",
       "      <td>19.822962</td>\n",
       "      <td>2021-11-04</td>\n",
       "      <td>11</td>\n",
       "    </tr>\n",
       "    <tr>\n",
       "      <th>18064</th>\n",
       "      <td>1534</td>\n",
       "      <td>2840.423057</td>\n",
       "      <td>21.409799</td>\n",
       "      <td>2021-11-16</td>\n",
       "      <td>11</td>\n",
       "    </tr>\n",
       "    <tr>\n",
       "      <th>18065</th>\n",
       "      <td>1534</td>\n",
       "      <td>3826.185507</td>\n",
       "      <td>18.435051</td>\n",
       "      <td>2021-11-18</td>\n",
       "      <td>11</td>\n",
       "    </tr>\n",
       "    <tr>\n",
       "      <th>18066</th>\n",
       "      <td>1534</td>\n",
       "      <td>2902.308661</td>\n",
       "      <td>16.674362</td>\n",
       "      <td>2021-11-27</td>\n",
       "      <td>11</td>\n",
       "    </tr>\n",
       "    <tr>\n",
       "      <th>18067</th>\n",
       "      <td>1534</td>\n",
       "      <td>2371.711192</td>\n",
       "      <td>15.893917</td>\n",
       "      <td>2021-12-29</td>\n",
       "      <td>12</td>\n",
       "    </tr>\n",
       "  </tbody>\n",
       "</table>\n",
       "<p>18068 rows × 5 columns</p>\n",
       "</div>"
      ],
      "text/plain": [
       "       user_id     distance   duration       date  month_of_publication\n",
       "0            1  4409.919140  25.599769 2021-01-01                     1\n",
       "1            1  2617.592153  15.816871 2021-01-18                     1\n",
       "2            1   754.159807   6.232113 2021-04-20                     4\n",
       "3            1  2694.783254  18.511000 2021-08-11                     8\n",
       "4            1  4028.687306  26.265803 2021-08-28                     8\n",
       "...        ...          ...        ...        ...                   ...\n",
       "18063     1534  3781.098080  19.822962 2021-11-04                    11\n",
       "18064     1534  2840.423057  21.409799 2021-11-16                    11\n",
       "18065     1534  3826.185507  18.435051 2021-11-18                    11\n",
       "18066     1534  2902.308661  16.674362 2021-11-27                    11\n",
       "18067     1534  2371.711192  15.893917 2021-12-29                    12\n",
       "\n",
       "[18068 rows x 5 columns]"
      ]
     },
     "execution_count": 14,
     "metadata": {},
     "output_type": "execute_result"
    }
   ],
   "source": [
    "# добавляем месяц публикации объявления, проверяем\n",
    "df_riders['month_of_publication'] = df_riders['date'].dt.month\n",
    "df_riders"
   ]
  },
  {
   "cell_type": "markdown",
   "id": "4d043d68",
   "metadata": {},
   "source": [
    "##### Проверяем минимальную и максимальную даты в датафрейме"
   ]
  },
  {
   "cell_type": "markdown",
   "id": "12e2583d",
   "metadata": {},
   "source": [
    "##### Обработка пропущенных значений и дубликатов"
   ]
  },
  {
   "cell_type": "markdown",
   "id": "6e718ae8",
   "metadata": {},
   "source": [
    "Пропущенных значений в датафреймах нет, дубликаты были обнаружены в 'df_users'"
   ]
  },
  {
   "cell_type": "code",
   "execution_count": 15,
   "id": "1ef0319d",
   "metadata": {},
   "outputs": [],
   "source": [
    "# удаляем явные дубликаты\n",
    "df_users = df_users.drop_duplicates().reset_index(drop=True)"
   ]
  },
  {
   "cell_type": "code",
   "execution_count": 16,
   "id": "d305fe4e",
   "metadata": {
    "scrolled": true
   },
   "outputs": [
    {
     "data": {
      "text/plain": [
       "0"
      ]
     },
     "execution_count": 16,
     "metadata": {},
     "output_type": "execute_result"
    }
   ],
   "source": [
    "# проверяем\n",
    "df_users.duplicated().sum()"
   ]
  },
  {
   "cell_type": "markdown",
   "id": "32d86bea",
   "metadata": {},
   "source": [
    "##### Вывод:\n",
    "В датафреймах отсутствуют пропущенные значения. Типы данных везде соответсвуют содержанию, кроме колоники date в датафрейме df_users - она имела  тип object. Тип данных был изменен на date.\n",
    "\n",
    "В датафрейме хранятся данные за 2021 год (с 1 января до 30 декабря).\n",
    "\n",
    "В df_users найдено 31 явных дубликатов. В остальных явных дубликатов найдено не было.\n",
    "\n",
    "Был создан новый датафрейм, объединяющий данные о пользователях, поездках и подписках. \n",
    "\n",
    "столбец с помесячной выручкой, которую принёс каждый пользователь."
   ]
  },
  {
   "cell_type": "markdown",
   "id": "212593c7",
   "metadata": {},
   "source": [
    "#### Исследовательский анализ данных"
   ]
  },
  {
   "cell_type": "markdown",
   "id": "2ea326fc",
   "metadata": {},
   "source": [
    "##### Частота встречаемости городов"
   ]
  },
  {
   "cell_type": "code",
   "execution_count": 17,
   "id": "637bd9aa",
   "metadata": {
    "scrolled": true
   },
   "outputs": [
    {
     "data": {
      "text/html": [
       "<div>\n",
       "<style scoped>\n",
       "    .dataframe tbody tr th:only-of-type {\n",
       "        vertical-align: middle;\n",
       "    }\n",
       "\n",
       "    .dataframe tbody tr th {\n",
       "        vertical-align: top;\n",
       "    }\n",
       "\n",
       "    .dataframe thead th {\n",
       "        text-align: right;\n",
       "    }\n",
       "</style>\n",
       "<table border=\"1\" class=\"dataframe\">\n",
       "  <thead>\n",
       "    <tr style=\"text-align: right;\">\n",
       "      <th></th>\n",
       "      <th>user_id</th>\n",
       "    </tr>\n",
       "    <tr>\n",
       "      <th>city</th>\n",
       "      <th></th>\n",
       "    </tr>\n",
       "  </thead>\n",
       "  <tbody>\n",
       "    <tr>\n",
       "      <th>Пятигорск</th>\n",
       "      <td>219</td>\n",
       "    </tr>\n",
       "    <tr>\n",
       "      <th>Екатеринбург</th>\n",
       "      <td>204</td>\n",
       "    </tr>\n",
       "    <tr>\n",
       "      <th>Ростов-на-Дону</th>\n",
       "      <td>198</td>\n",
       "    </tr>\n",
       "    <tr>\n",
       "      <th>Краснодар</th>\n",
       "      <td>193</td>\n",
       "    </tr>\n",
       "    <tr>\n",
       "      <th>Сочи</th>\n",
       "      <td>189</td>\n",
       "    </tr>\n",
       "    <tr>\n",
       "      <th>Омск</th>\n",
       "      <td>183</td>\n",
       "    </tr>\n",
       "    <tr>\n",
       "      <th>Тюмень</th>\n",
       "      <td>180</td>\n",
       "    </tr>\n",
       "    <tr>\n",
       "      <th>Москва</th>\n",
       "      <td>168</td>\n",
       "    </tr>\n",
       "  </tbody>\n",
       "</table>\n",
       "</div>"
      ],
      "text/plain": [
       "                user_id\n",
       "city                   \n",
       "Пятигорск           219\n",
       "Екатеринбург        204\n",
       "Ростов-на-Дону      198\n",
       "Краснодар           193\n",
       "Сочи                189\n",
       "Омск                183\n",
       "Тюмень              180\n",
       "Москва              168"
      ]
     },
     "execution_count": 17,
     "metadata": {},
     "output_type": "execute_result"
    }
   ],
   "source": [
    "df_users.pivot_table(index='city', values='user_id', aggfunc='count').sort_values(by='user_id', ascending=False)"
   ]
  },
  {
   "cell_type": "code",
   "execution_count": 18,
   "id": "0ee6da70",
   "metadata": {},
   "outputs": [
    {
     "data": {
      "image/png": "[encoded data removed]",
      "text/plain": [
       "<Figure size 504x360 with 1 Axes>"
      ]
     },
     "metadata": {
      "needs_background": "light"
     },
     "output_type": "display_data"
    }
   ],
   "source": [
    "df_users.pivot_table(index='city', values='user_id', aggfunc='count'\n",
    "                    ).sort_values(by='user_id', ascending=True,\n",
    "                    ).plot(kind='barh', grid=True, figsize=(7, 5), legend=False, color='green')\n",
    "plt.title('Распределение пользователей по городам')\n",
    "plt.ylabel('Города')\n",
    "plt.xlabel('Количество пользователей');"
   ]
  },
  {
   "cell_type": "markdown",
   "id": "450f93d3",
   "metadata": {},
   "source": [
    "**Вывод:**\n",
    "Максимальное количество пользователей в Пятигорске (219).\n",
    "Высокие показатели в Екатеринбурге (204) и Ростове-на-Дону (198), Краснодаре (193) и Сочи (189).\n",
    "Средние показатели в Омске (183) и Тюмени (180).\n",
    "Москва находится в конце списка (168) Это может говорить о специфике собранных данных или о том, что бизнес сосредоточен вне столичного региона."
   ]
  },
  {
   "cell_type": "markdown",
   "id": "ed538754",
   "metadata": {},
   "source": [
    "##### Соотношение пользователей с подпиской и без подписки"
   ]
  },
  {
   "cell_type": "code",
   "execution_count": 19,
   "id": "0c0882d0",
   "metadata": {
    "scrolled": true
   },
   "outputs": [
    {
     "data": {
      "text/plain": [
       "free     835\n",
       "ultra    699\n",
       "Name: subscription_type, dtype: int64"
      ]
     },
     "execution_count": 19,
     "metadata": {},
     "output_type": "execute_result"
    }
   ],
   "source": [
    "df_users['subscription_type'].value_counts()"
   ]
  },
  {
   "cell_type": "code",
   "execution_count": 20,
   "id": "4924f2f1",
   "metadata": {},
   "outputs": [
    {
     "data": {
      "text/plain": [
       "free     0.544329\n",
       "ultra    0.455671\n",
       "Name: subscription_type, dtype: float64"
      ]
     },
     "execution_count": 20,
     "metadata": {},
     "output_type": "execute_result"
    }
   ],
   "source": [
    "df_users['subscription_type'].value_counts(normalize=True)"
   ]
  },
  {
   "cell_type": "code",
   "execution_count": 21,
   "id": "abe2acc7",
   "metadata": {},
   "outputs": [
    {
     "data": {
      "image/png": "[encoded data removed]",
      "text/plain": [
       "<Figure size 360x360 with 1 Axes>"
      ]
     },
     "metadata": {},
     "output_type": "display_data"
    }
   ],
   "source": [
    "df_users.groupby(by='subscription_type')['subscription_type'].count(\n",
    "        ).plot(kind='pie', figsize=(5, 5), autopct='%1.1f%%', colors=['green', 'orange'])\n",
    "plt.ylabel(\"\")\n",
    "plt.title('Распределение типов подписок');"
   ]
  },
  {
   "cell_type": "markdown",
   "id": "e7c51e73",
   "metadata": {},
   "source": [
    "**Вывод:**\n",
    "Количество пользователей с бесплатной подпиской (free) составляет 835 (54%), количество пользователей с платной подпиской (ultra) - 699 (46%). \n",
    "\n",
    "Бесплатная версия услуги привлекает больше пользователей, что может быть связано с отсутствием финансовых барьеров для начала использования сервиса или с достаточным набором функций в бесплатной версии, удовлетворяющим потребности большинства пользователей.\n",
    "\n",
    "Платная подписка (ultra) также пользуется высокой популярностью."
   ]
  },
  {
   "cell_type": "markdown",
   "id": "79e7f381",
   "metadata": {},
   "source": [
    "##### Возраст пользователей"
   ]
  },
  {
   "cell_type": "code",
   "execution_count": 23,
   "id": "ffdace44",
   "metadata": {
    "scrolled": true
   },
   "outputs": [
    {
     "data": {
      "text/html": [
       "<div>\n",
       "<style scoped>\n",
       "    .dataframe tbody tr th:only-of-type {\n",
       "        vertical-align: middle;\n",
       "    }\n",
       "\n",
       "    .dataframe tbody tr th {\n",
       "        vertical-align: top;\n",
       "    }\n",
       "\n",
       "    .dataframe thead th {\n",
       "        text-align: right;\n",
       "    }\n",
       "</style>\n",
       "<table border=\"1\" class=\"dataframe\">\n",
       "  <thead>\n",
       "    <tr style=\"text-align: right;\">\n",
       "      <th></th>\n",
       "      <th>age</th>\n",
       "    </tr>\n",
       "  </thead>\n",
       "  <tbody>\n",
       "    <tr>\n",
       "      <th>count</th>\n",
       "      <td>1534.000000</td>\n",
       "    </tr>\n",
       "    <tr>\n",
       "      <th>mean</th>\n",
       "      <td>24.903520</td>\n",
       "    </tr>\n",
       "    <tr>\n",
       "      <th>std</th>\n",
       "      <td>4.572367</td>\n",
       "    </tr>\n",
       "    <tr>\n",
       "      <th>min</th>\n",
       "      <td>12.000000</td>\n",
       "    </tr>\n",
       "    <tr>\n",
       "      <th>25%</th>\n",
       "      <td>22.000000</td>\n",
       "    </tr>\n",
       "    <tr>\n",
       "      <th>50%</th>\n",
       "      <td>25.000000</td>\n",
       "    </tr>\n",
       "    <tr>\n",
       "      <th>75%</th>\n",
       "      <td>28.000000</td>\n",
       "    </tr>\n",
       "    <tr>\n",
       "      <th>max</th>\n",
       "      <td>43.000000</td>\n",
       "    </tr>\n",
       "  </tbody>\n",
       "</table>\n",
       "</div>"
      ],
      "text/plain": [
       "               age\n",
       "count  1534.000000\n",
       "mean     24.903520\n",
       "std       4.572367\n",
       "min      12.000000\n",
       "25%      22.000000\n",
       "50%      25.000000\n",
       "75%      28.000000\n",
       "max      43.000000"
      ]
     },
     "execution_count": 23,
     "metadata": {},
     "output_type": "execute_result"
    }
   ],
   "source": [
    "df_users['age'].describe().to_frame()"
   ]
  },
  {
   "cell_type": "code",
   "execution_count": 24,
   "id": "535b6d05",
   "metadata": {
    "scrolled": true
   },
   "outputs": [
    {
     "data": {
      "image/png": "[encoded data removed]",
      "text/plain": [
       "<Figure size 576x360 with 1 Axes>"
      ]
     },
     "metadata": {
      "needs_background": "light"
     },
     "output_type": "display_data"
    }
   ],
   "source": [
    "df_users['age'].hist(figsize=(8, 5), bins=30, color='green')\n",
    "plt.title('Распределение возрастов пользователей')\n",
    "plt.xlabel('Возраст')\n",
    "plt.ylabel('Количество пользователей');"
   ]
  },
  {
   "cell_type": "code",
   "execution_count": 25,
   "id": "fea569cd",
   "metadata": {},
   "outputs": [
    {
     "data": {
      "image/png": "[encoded data removed]",
      "text/plain": [
       "<Figure size 432x288 with 1 Axes>"
      ]
     },
     "metadata": {
      "needs_background": "light"
     },
     "output_type": "display_data"
    }
   ],
   "source": [
    "plt.boxplot(df_users['age'])\n",
    "plt.title('Диаграмма размаха распределений возрастов пользователей')\n",
    "plt.xlabel('Количество пользователей')\n",
    "plt.ylabel('Возраст')\n",
    "plt.show()"
   ]
  },
  {
   "cell_type": "markdown",
   "id": "f5b6b9b1",
   "metadata": {},
   "source": [
    "**Вывод:**\n",
    "Средний возраст пользователей - примерно 24.9 лет.\n",
    "Возраст пользователей варьируется от 12 до 43 лет.\n",
    "Медианное значение (50-й перцентиль) возраста — 25 лет, что близко к среднему. \n",
    "Первый квартиль (25%) на уровне 22 лет и третий квартиль (75%) — 28 лет, что указывает на то, что большинство пользователей находятся в диапазоне от 22 до 28 лет.\n",
    "\n",
    "\n",
    "Исходя из диаграммы размаха можно добавить, что межквартильный размах - от 22 до 28 лет, подтверждая, что большинство пользователей находятся в этом диапазоне.\n",
    "Нижний и верхний \"усы\" показывают, что возраста всех пользователей колеблются примерно от 18 до 35 лет.\n",
    "Имеются два выброса — один около 15 лет и другой около 40 лет."
   ]
  },
  {
   "cell_type": "markdown",
   "id": "8d6a0389",
   "metadata": {},
   "source": [
    "##### Расстояние, которое пользователь преодолел за одну поездку"
   ]
  },
  {
   "cell_type": "code",
   "execution_count": 26,
   "id": "d698d1df",
   "metadata": {
    "scrolled": true
   },
   "outputs": [
    {
     "data": {
      "text/html": [
       "<div>\n",
       "<style scoped>\n",
       "    .dataframe tbody tr th:only-of-type {\n",
       "        vertical-align: middle;\n",
       "    }\n",
       "\n",
       "    .dataframe tbody tr th {\n",
       "        vertical-align: top;\n",
       "    }\n",
       "\n",
       "    .dataframe thead th {\n",
       "        text-align: right;\n",
       "    }\n",
       "</style>\n",
       "<table border=\"1\" class=\"dataframe\">\n",
       "  <thead>\n",
       "    <tr style=\"text-align: right;\">\n",
       "      <th></th>\n",
       "      <th>distance</th>\n",
       "    </tr>\n",
       "  </thead>\n",
       "  <tbody>\n",
       "    <tr>\n",
       "      <th>count</th>\n",
       "      <td>18068.00</td>\n",
       "    </tr>\n",
       "    <tr>\n",
       "      <th>mean</th>\n",
       "      <td>3070.66</td>\n",
       "    </tr>\n",
       "    <tr>\n",
       "      <th>std</th>\n",
       "      <td>1116.83</td>\n",
       "    </tr>\n",
       "    <tr>\n",
       "      <th>min</th>\n",
       "      <td>0.86</td>\n",
       "    </tr>\n",
       "    <tr>\n",
       "      <th>25%</th>\n",
       "      <td>2543.23</td>\n",
       "    </tr>\n",
       "    <tr>\n",
       "      <th>50%</th>\n",
       "      <td>3133.61</td>\n",
       "    </tr>\n",
       "    <tr>\n",
       "      <th>75%</th>\n",
       "      <td>3776.22</td>\n",
       "    </tr>\n",
       "    <tr>\n",
       "      <th>max</th>\n",
       "      <td>7211.01</td>\n",
       "    </tr>\n",
       "  </tbody>\n",
       "</table>\n",
       "</div>"
      ],
      "text/plain": [
       "       distance\n",
       "count  18068.00\n",
       "mean    3070.66\n",
       "std     1116.83\n",
       "min        0.86\n",
       "25%     2543.23\n",
       "50%     3133.61\n",
       "75%     3776.22\n",
       "max     7211.01"
      ]
     },
     "execution_count": 26,
     "metadata": {},
     "output_type": "execute_result"
    }
   ],
   "source": [
    "df_riders['distance'].describe().round(2).to_frame()"
   ]
  },
  {
   "cell_type": "code",
   "execution_count": 27,
   "id": "02a0b530",
   "metadata": {},
   "outputs": [
    {
     "data": {
      "image/png": "[encoded data removed]",
      "text/plain": [
       "<Figure size 576x360 with 1 Axes>"
      ]
     },
     "metadata": {
      "needs_background": "light"
     },
     "output_type": "display_data"
    }
   ],
   "source": [
    "df_riders['distance'].hist(figsize=(8, 5), bins=50, color='green')\n",
    "plt.title('Распределение расстояний в поездках пользователей')\n",
    "plt.xlabel('Расстояние (в метрах)')\n",
    "plt.ylabel('Количество пользователей');"
   ]
  },
  {
   "cell_type": "code",
   "execution_count": 28,
   "id": "64401df7",
   "metadata": {},
   "outputs": [
    {
     "data": {
      "image/png": "[encoded data removed]",
      "text/plain": [
       "<Figure size 432x288 with 1 Axes>"
      ]
     },
     "metadata": {
      "needs_background": "light"
     },
     "output_type": "display_data"
    }
   ],
   "source": [
    "plt.boxplot(df_riders['distance'])\n",
    "plt.title('Диаграмма размаха распределений расстояний в поездках пользователей')\n",
    "plt.xlabel('Количество пользователей')\n",
    "plt.ylabel('Расстояние (в метрах)')\n",
    "plt.show()"
   ]
  },
  {
   "cell_type": "markdown",
   "id": "109a3c14",
   "metadata": {},
   "source": [
    "**Вывод:** Среднее расстояние, которое пользователи преодолевают за одну поездку, составляет около 3070.66 метров.\n",
    "Стандартное отклонение расстояния составляет 1116.83 метров, что указывает на значительный разброс значений относительно среднего. Это может говорить о разнообразии типов поездок среди пользователей (краткосрочные против длительных).\n",
    "Минимальное зарегистрированное расстояние составляет всего около 0.86 метра, что может быть связано с ошибками регистрации или очень короткими поездками. Максимальное расстояние - 7211.01 метров.\n",
    "\n",
    "Гистограмма выглядит как 2 нормальных распределения с малым пиком около 700 метров и большим пиком около 3200 метров. \n",
    "Всплеск значений расстояний от 0 до 1500 метров может указывать на короткие поездки по городу, между близко расположенными точками, такими как дом, работа, магазины или кафе или ошибки.\n",
    "\n",
    "На диаграмме размаха медиана - около 3000 метров, межквартильный размах - от 2000 до 4000 метров.\n",
    "Выбросы - от 5000 до 7000 метров и меньше 800 метров.\n",
    "\n",
    "Квартильное распределение: 25% всех поездок короче 2543.23 метра. Медиана - 3133.61 метра. 75% всех поездок короче 3776.22 метра."
   ]
  },
  {
   "cell_type": "markdown",
   "id": "762bb479",
   "metadata": {},
   "source": [
    "##### Продолжительность поездок"
   ]
  },
  {
   "cell_type": "code",
   "execution_count": 29,
   "id": "7386fd25",
   "metadata": {},
   "outputs": [
    {
     "data": {
      "text/html": [
       "<div>\n",
       "<style scoped>\n",
       "    .dataframe tbody tr th:only-of-type {\n",
       "        vertical-align: middle;\n",
       "    }\n",
       "\n",
       "    .dataframe tbody tr th {\n",
       "        vertical-align: top;\n",
       "    }\n",
       "\n",
       "    .dataframe thead th {\n",
       "        text-align: right;\n",
       "    }\n",
       "</style>\n",
       "<table border=\"1\" class=\"dataframe\">\n",
       "  <thead>\n",
       "    <tr style=\"text-align: right;\">\n",
       "      <th></th>\n",
       "      <th>duration</th>\n",
       "    </tr>\n",
       "  </thead>\n",
       "  <tbody>\n",
       "    <tr>\n",
       "      <th>count</th>\n",
       "      <td>18068.00</td>\n",
       "    </tr>\n",
       "    <tr>\n",
       "      <th>mean</th>\n",
       "      <td>17.81</td>\n",
       "    </tr>\n",
       "    <tr>\n",
       "      <th>std</th>\n",
       "      <td>6.09</td>\n",
       "    </tr>\n",
       "    <tr>\n",
       "      <th>min</th>\n",
       "      <td>0.50</td>\n",
       "    </tr>\n",
       "    <tr>\n",
       "      <th>25%</th>\n",
       "      <td>13.60</td>\n",
       "    </tr>\n",
       "    <tr>\n",
       "      <th>50%</th>\n",
       "      <td>17.68</td>\n",
       "    </tr>\n",
       "    <tr>\n",
       "      <th>75%</th>\n",
       "      <td>21.72</td>\n",
       "    </tr>\n",
       "    <tr>\n",
       "      <th>max</th>\n",
       "      <td>40.82</td>\n",
       "    </tr>\n",
       "  </tbody>\n",
       "</table>\n",
       "</div>"
      ],
      "text/plain": [
       "       duration\n",
       "count  18068.00\n",
       "mean      17.81\n",
       "std        6.09\n",
       "min        0.50\n",
       "25%       13.60\n",
       "50%       17.68\n",
       "75%       21.72\n",
       "max       40.82"
      ]
     },
     "execution_count": 29,
     "metadata": {},
     "output_type": "execute_result"
    }
   ],
   "source": [
    "df_riders['duration'].describe().round(2).to_frame()"
   ]
  },
  {
   "cell_type": "code",
   "execution_count": 30,
   "id": "ac11f715",
   "metadata": {
    "scrolled": true
   },
   "outputs": [
    {
     "data": {
      "image/png": "[encoded data removed]",
      "text/plain": [
       "<Figure size 576x360 with 1 Axes>"
      ]
     },
     "metadata": {
      "needs_background": "light"
     },
     "output_type": "display_data"
    }
   ],
   "source": [
    "df_riders['duration'].hist(bins=42, figsize=(8, 5), color='green')\n",
    "plt.title('Распределение продолжительности поездок')\n",
    "plt.xlabel('Продолжительность (в минутах)')\n",
    "plt.ylabel('Количество пользователей');"
   ]
  },
  {
   "cell_type": "code",
   "execution_count": 31,
   "id": "a1de28da",
   "metadata": {
    "scrolled": true
   },
   "outputs": [
    {
     "data": {
      "image/png": "[encoded data removed]",
      "text/plain": [
       "<Figure size 432x288 with 1 Axes>"
      ]
     },
     "metadata": {
      "needs_background": "light"
     },
     "output_type": "display_data"
    }
   ],
   "source": [
    "plt.boxplot(df_riders['duration'])\n",
    "plt.title('Диаграмма размаха распределения продолжительности поездок')\n",
    "plt.xlabel('Количество пользователей')\n",
    "plt.ylabel('Продолжительность (в минутах)')\n",
    "plt.show()"
   ]
  },
  {
   "cell_type": "code",
   "execution_count": 32,
   "id": "f4fe018f",
   "metadata": {},
   "outputs": [
    {
     "data": {
      "text/plain": [
       "95"
      ]
     },
     "execution_count": 32,
     "metadata": {},
     "output_type": "execute_result"
    }
   ],
   "source": [
    "# смотрим, сколько поездок продолжительностью 0.5 минуты\n",
    "df_riders[df_riders['duration'] == 0.5].shape[0]"
   ]
  },
  {
   "cell_type": "code",
   "execution_count": 33,
   "id": "13cd1f88",
   "metadata": {},
   "outputs": [
    {
     "data": {
      "text/plain": [
       "95"
      ]
     },
     "execution_count": 33,
     "metadata": {},
     "output_type": "execute_result"
    }
   ],
   "source": [
    "df_riders[df_riders['duration'] < 1].shape[0]"
   ]
  },
  {
   "cell_type": "markdown",
   "id": "6fcb8344",
   "metadata": {},
   "source": [
    "**Вывод:**\n",
    "Средняя продолжительность поездки составляет приблизительно 17.81 минут.\n",
    "Минимальная продолжительность поездки составляет всего 0.5 минуты. На графике виден небольшой пик около 0.5 минуты (95 поездок). Скорее всего это ошибки регистрации.\n",
    "Максимальная продолжительность — 40.82 минуты.\n",
    "Квартильное распределение:\n",
    "25% квартиль (Q1): 13.60 минут, что означает, что 25% всех поездок длится менее 13.60 минут.\n",
    "Медиана (50% квартиль): 17.68 минут, указывает на то, что половина всех поездок длится меньше или около этого времени. Это значение очень близко к среднему, что подтверждает симметричность распределения.\n",
    "75% квартиль (Q3): 21.72 минут, означает, что 75% всех поездок длится меньше 21.72 минут.\n",
    "\n",
    "Исходя из диаграммы размаха, межквартильный размах располагается между 10 и 20 минутами (большинство поездок).\n",
    "Выбросы: от 34 до 40 минут и один выбросоколо 1-2 минуты."
   ]
  },
  {
   "cell_type": "markdown",
   "id": "d67b6abc",
   "metadata": {},
   "source": [
    "##### Вывод\n",
    "\n",
    "**Частота встречаемости городов**\n",
    "Максимальное количество пользователей в Пятигорске (219). Высокие показатели в Екатеринбурге (204) и Ростове-на-Дону (198), Краснодаре (193) и Сочи (189). Средние показатели в Омске (183) и Тюмени (180). Москва находится в конце списка (168).\n",
    "\n",
    "**Соотношение пользователей с подпиской и без подписки**\n",
    "Количество пользователей с бесплатной подпиской (free) составляет 835 (54%), количество пользователей с платной подпиской (ultra) - 699 (46%).\n",
    "\n",
    "\n",
    "**Возраст пользователей**\n",
    "Возраст пользователей варьируется от 12 до 43 лет. Средний возраст пользователей - 24.9 лет, медианный — 25 лет. Большинство пользователей находятся в диапазоне от 22 до 28 лет (первый квартиль (25%) на уровне 22 лет и третий квартиль (75%) — 28 лет).\n",
    "\n",
    "**Расстояние, которое пользователь преодолел за одну поездку**\n",
    "Среднее расстояние - 3070.66 метров, медианное - 3133.61 метра. Минимальное зарегистрированное расстояние - 0.86 метра, максимальное - 7211.01 метров.\n",
    "Есть 2 пика: маленький около 700 метров (короткие поездки по городу) и большой около 3200 метров.\n",
    "\n",
    "\n",
    "**Продолжительность поездок**\n",
    "Средняя продолжительность поездки - 17.81 минут, медианная - 17.68 минут. Минимальная - 0.5 минуты, максимальная — 40.82 минуты. 25% всех поездок длится менее 13.60 минут, 75% всех поездок короче 21.72 минут."
   ]
  },
  {
   "cell_type": "markdown",
   "id": "4ef51331",
   "metadata": {},
   "source": [
    "#### Объединение данных"
   ]
  },
  {
   "cell_type": "markdown",
   "id": "54746ee1",
   "metadata": {},
   "source": [
    "##### Объединяем данные о пользователях, поездках и подписках в один датафрейм."
   ]
  },
  {
   "cell_type": "code",
   "execution_count": 34,
   "id": "5bea2299",
   "metadata": {
    "scrolled": true
   },
   "outputs": [
    {
     "name": "stdout",
     "output_type": "stream",
     "text": [
      "Размер df_users: (1534, 5)\n",
      "Размер df_riders: (18068, 5)\n",
      "Размер df_subscriptions: (2, 4)\n"
     ]
    }
   ],
   "source": [
    "# Проверяем размерности датасетов\n",
    "print(\"Размер df_users:\", df_users.shape)\n",
    "print(\"Размер df_riders:\", df_riders.shape)\n",
    "print(\"Размер df_subscriptions:\", df_subscriptions.shape)"
   ]
  },
  {
   "cell_type": "code",
   "execution_count": 35,
   "id": "2bfa2e0b",
   "metadata": {
    "scrolled": true
   },
   "outputs": [
    {
     "data": {
      "text/html": [
       "<div>\n",
       "<style scoped>\n",
       "    .dataframe tbody tr th:only-of-type {\n",
       "        vertical-align: middle;\n",
       "    }\n",
       "\n",
       "    .dataframe tbody tr th {\n",
       "        vertical-align: top;\n",
       "    }\n",
       "\n",
       "    .dataframe thead th {\n",
       "        text-align: right;\n",
       "    }\n",
       "</style>\n",
       "<table border=\"1\" class=\"dataframe\">\n",
       "  <thead>\n",
       "    <tr style=\"text-align: right;\">\n",
       "      <th></th>\n",
       "      <th>user_id</th>\n",
       "      <th>name</th>\n",
       "      <th>age</th>\n",
       "      <th>city</th>\n",
       "      <th>subscription_type</th>\n",
       "      <th>distance</th>\n",
       "      <th>duration</th>\n",
       "      <th>date</th>\n",
       "      <th>month_of_publication</th>\n",
       "      <th>minute_price</th>\n",
       "      <th>start_ride_price</th>\n",
       "      <th>subscription_fee</th>\n",
       "    </tr>\n",
       "  </thead>\n",
       "  <tbody>\n",
       "    <tr>\n",
       "      <th>0</th>\n",
       "      <td>1</td>\n",
       "      <td>Кира</td>\n",
       "      <td>22</td>\n",
       "      <td>Тюмень</td>\n",
       "      <td>ultra</td>\n",
       "      <td>4409.919140</td>\n",
       "      <td>25.599769</td>\n",
       "      <td>2021-01-01</td>\n",
       "      <td>1</td>\n",
       "      <td>6</td>\n",
       "      <td>0</td>\n",
       "      <td>199</td>\n",
       "    </tr>\n",
       "    <tr>\n",
       "      <th>1</th>\n",
       "      <td>1</td>\n",
       "      <td>Кира</td>\n",
       "      <td>22</td>\n",
       "      <td>Тюмень</td>\n",
       "      <td>ultra</td>\n",
       "      <td>2617.592153</td>\n",
       "      <td>15.816871</td>\n",
       "      <td>2021-01-18</td>\n",
       "      <td>1</td>\n",
       "      <td>6</td>\n",
       "      <td>0</td>\n",
       "      <td>199</td>\n",
       "    </tr>\n",
       "    <tr>\n",
       "      <th>2</th>\n",
       "      <td>1</td>\n",
       "      <td>Кира</td>\n",
       "      <td>22</td>\n",
       "      <td>Тюмень</td>\n",
       "      <td>ultra</td>\n",
       "      <td>754.159807</td>\n",
       "      <td>6.232113</td>\n",
       "      <td>2021-04-20</td>\n",
       "      <td>4</td>\n",
       "      <td>6</td>\n",
       "      <td>0</td>\n",
       "      <td>199</td>\n",
       "    </tr>\n",
       "    <tr>\n",
       "      <th>3</th>\n",
       "      <td>1</td>\n",
       "      <td>Кира</td>\n",
       "      <td>22</td>\n",
       "      <td>Тюмень</td>\n",
       "      <td>ultra</td>\n",
       "      <td>2694.783254</td>\n",
       "      <td>18.511000</td>\n",
       "      <td>2021-08-11</td>\n",
       "      <td>8</td>\n",
       "      <td>6</td>\n",
       "      <td>0</td>\n",
       "      <td>199</td>\n",
       "    </tr>\n",
       "    <tr>\n",
       "      <th>4</th>\n",
       "      <td>1</td>\n",
       "      <td>Кира</td>\n",
       "      <td>22</td>\n",
       "      <td>Тюмень</td>\n",
       "      <td>ultra</td>\n",
       "      <td>4028.687306</td>\n",
       "      <td>26.265803</td>\n",
       "      <td>2021-08-28</td>\n",
       "      <td>8</td>\n",
       "      <td>6</td>\n",
       "      <td>0</td>\n",
       "      <td>199</td>\n",
       "    </tr>\n",
       "    <tr>\n",
       "      <th>...</th>\n",
       "      <td>...</td>\n",
       "      <td>...</td>\n",
       "      <td>...</td>\n",
       "      <td>...</td>\n",
       "      <td>...</td>\n",
       "      <td>...</td>\n",
       "      <td>...</td>\n",
       "      <td>...</td>\n",
       "      <td>...</td>\n",
       "      <td>...</td>\n",
       "      <td>...</td>\n",
       "      <td>...</td>\n",
       "    </tr>\n",
       "    <tr>\n",
       "      <th>18063</th>\n",
       "      <td>1534</td>\n",
       "      <td>Альберт</td>\n",
       "      <td>25</td>\n",
       "      <td>Краснодар</td>\n",
       "      <td>free</td>\n",
       "      <td>3781.098080</td>\n",
       "      <td>19.822962</td>\n",
       "      <td>2021-11-04</td>\n",
       "      <td>11</td>\n",
       "      <td>8</td>\n",
       "      <td>50</td>\n",
       "      <td>0</td>\n",
       "    </tr>\n",
       "    <tr>\n",
       "      <th>18064</th>\n",
       "      <td>1534</td>\n",
       "      <td>Альберт</td>\n",
       "      <td>25</td>\n",
       "      <td>Краснодар</td>\n",
       "      <td>free</td>\n",
       "      <td>2840.423057</td>\n",
       "      <td>21.409799</td>\n",
       "      <td>2021-11-16</td>\n",
       "      <td>11</td>\n",
       "      <td>8</td>\n",
       "      <td>50</td>\n",
       "      <td>0</td>\n",
       "    </tr>\n",
       "    <tr>\n",
       "      <th>18065</th>\n",
       "      <td>1534</td>\n",
       "      <td>Альберт</td>\n",
       "      <td>25</td>\n",
       "      <td>Краснодар</td>\n",
       "      <td>free</td>\n",
       "      <td>3826.185507</td>\n",
       "      <td>18.435051</td>\n",
       "      <td>2021-11-18</td>\n",
       "      <td>11</td>\n",
       "      <td>8</td>\n",
       "      <td>50</td>\n",
       "      <td>0</td>\n",
       "    </tr>\n",
       "    <tr>\n",
       "      <th>18066</th>\n",
       "      <td>1534</td>\n",
       "      <td>Альберт</td>\n",
       "      <td>25</td>\n",
       "      <td>Краснодар</td>\n",
       "      <td>free</td>\n",
       "      <td>2902.308661</td>\n",
       "      <td>16.674362</td>\n",
       "      <td>2021-11-27</td>\n",
       "      <td>11</td>\n",
       "      <td>8</td>\n",
       "      <td>50</td>\n",
       "      <td>0</td>\n",
       "    </tr>\n",
       "    <tr>\n",
       "      <th>18067</th>\n",
       "      <td>1534</td>\n",
       "      <td>Альберт</td>\n",
       "      <td>25</td>\n",
       "      <td>Краснодар</td>\n",
       "      <td>free</td>\n",
       "      <td>2371.711192</td>\n",
       "      <td>15.893917</td>\n",
       "      <td>2021-12-29</td>\n",
       "      <td>12</td>\n",
       "      <td>8</td>\n",
       "      <td>50</td>\n",
       "      <td>0</td>\n",
       "    </tr>\n",
       "  </tbody>\n",
       "</table>\n",
       "<p>18068 rows × 12 columns</p>\n",
       "</div>"
      ],
      "text/plain": [
       "       user_id     name  age       city subscription_type     distance  \\\n",
       "0            1     Кира   22     Тюмень             ultra  4409.919140   \n",
       "1            1     Кира   22     Тюмень             ultra  2617.592153   \n",
       "2            1     Кира   22     Тюмень             ultra   754.159807   \n",
       "3            1     Кира   22     Тюмень             ultra  2694.783254   \n",
       "4            1     Кира   22     Тюмень             ultra  4028.687306   \n",
       "...        ...      ...  ...        ...               ...          ...   \n",
       "18063     1534  Альберт   25  Краснодар              free  3781.098080   \n",
       "18064     1534  Альберт   25  Краснодар              free  2840.423057   \n",
       "18065     1534  Альберт   25  Краснодар              free  3826.185507   \n",
       "18066     1534  Альберт   25  Краснодар              free  2902.308661   \n",
       "18067     1534  Альберт   25  Краснодар              free  2371.711192   \n",
       "\n",
       "        duration       date  month_of_publication  minute_price  \\\n",
       "0      25.599769 2021-01-01                     1             6   \n",
       "1      15.816871 2021-01-18                     1             6   \n",
       "2       6.232113 2021-04-20                     4             6   \n",
       "3      18.511000 2021-08-11                     8             6   \n",
       "4      26.265803 2021-08-28                     8             6   \n",
       "...          ...        ...                   ...           ...   \n",
       "18063  19.822962 2021-11-04                    11             8   \n",
       "18064  21.409799 2021-11-16                    11             8   \n",
       "18065  18.435051 2021-11-18                    11             8   \n",
       "18066  16.674362 2021-11-27                    11             8   \n",
       "18067  15.893917 2021-12-29                    12             8   \n",
       "\n",
       "       start_ride_price  subscription_fee  \n",
       "0                     0               199  \n",
       "1                     0               199  \n",
       "2                     0               199  \n",
       "3                     0               199  \n",
       "4                     0               199  \n",
       "...                 ...               ...  \n",
       "18063                50                 0  \n",
       "18064                50                 0  \n",
       "18065                50                 0  \n",
       "18066                50                 0  \n",
       "18067                50                 0  \n",
       "\n",
       "[18068 rows x 12 columns]"
      ]
     },
     "execution_count": 35,
     "metadata": {},
     "output_type": "execute_result"
    }
   ],
   "source": [
    "# сначала создаём промежуточную таблицу\n",
    "df_sub = df_users.merge(df_riders, on='user_id')\n",
    "# потом итоговую \n",
    "df_total = df_sub.merge(df_subscriptions, on='subscription_type')\n",
    "# смотрим\n",
    "df_total"
   ]
  },
  {
   "cell_type": "code",
   "execution_count": 36,
   "id": "92feb235",
   "metadata": {
    "scrolled": true
   },
   "outputs": [
    {
     "name": "stdout",
     "output_type": "stream",
     "text": [
      "Размер финального датафрейма: (18068, 12)\n"
     ]
    }
   ],
   "source": [
    "print(\"Размер финального датафрейма:\", df_total.shape)"
   ]
  },
  {
   "cell_type": "markdown",
   "id": "964fcd92",
   "metadata": {},
   "source": [
    "Ожидаемое количество строк соответствует количеству поездок."
   ]
  },
  {
   "cell_type": "markdown",
   "id": "b5b99482",
   "metadata": {},
   "source": [
    "##### Создаём ещё два датафрейма из общего датафрейма:"
   ]
  },
  {
   "cell_type": "code",
   "execution_count": 37,
   "id": "774e4e17",
   "metadata": {},
   "outputs": [
    {
     "data": {
      "text/html": [
       "<div>\n",
       "<style scoped>\n",
       "    .dataframe tbody tr th:only-of-type {\n",
       "        vertical-align: middle;\n",
       "    }\n",
       "\n",
       "    .dataframe tbody tr th {\n",
       "        vertical-align: top;\n",
       "    }\n",
       "\n",
       "    .dataframe thead th {\n",
       "        text-align: right;\n",
       "    }\n",
       "</style>\n",
       "<table border=\"1\" class=\"dataframe\">\n",
       "  <thead>\n",
       "    <tr style=\"text-align: right;\">\n",
       "      <th></th>\n",
       "      <th>user_id</th>\n",
       "      <th>name</th>\n",
       "      <th>age</th>\n",
       "      <th>city</th>\n",
       "      <th>subscription_type</th>\n",
       "      <th>distance</th>\n",
       "      <th>duration</th>\n",
       "      <th>date</th>\n",
       "      <th>month_of_publication</th>\n",
       "      <th>minute_price</th>\n",
       "      <th>start_ride_price</th>\n",
       "      <th>subscription_fee</th>\n",
       "    </tr>\n",
       "  </thead>\n",
       "  <tbody>\n",
       "    <tr>\n",
       "      <th>0</th>\n",
       "      <td>1</td>\n",
       "      <td>Кира</td>\n",
       "      <td>22</td>\n",
       "      <td>Тюмень</td>\n",
       "      <td>ultra</td>\n",
       "      <td>4409.919140</td>\n",
       "      <td>25.599769</td>\n",
       "      <td>2021-01-01</td>\n",
       "      <td>1</td>\n",
       "      <td>6</td>\n",
       "      <td>0</td>\n",
       "      <td>199</td>\n",
       "    </tr>\n",
       "    <tr>\n",
       "      <th>1</th>\n",
       "      <td>1</td>\n",
       "      <td>Кира</td>\n",
       "      <td>22</td>\n",
       "      <td>Тюмень</td>\n",
       "      <td>ultra</td>\n",
       "      <td>2617.592153</td>\n",
       "      <td>15.816871</td>\n",
       "      <td>2021-01-18</td>\n",
       "      <td>1</td>\n",
       "      <td>6</td>\n",
       "      <td>0</td>\n",
       "      <td>199</td>\n",
       "    </tr>\n",
       "    <tr>\n",
       "      <th>2</th>\n",
       "      <td>1</td>\n",
       "      <td>Кира</td>\n",
       "      <td>22</td>\n",
       "      <td>Тюмень</td>\n",
       "      <td>ultra</td>\n",
       "      <td>754.159807</td>\n",
       "      <td>6.232113</td>\n",
       "      <td>2021-04-20</td>\n",
       "      <td>4</td>\n",
       "      <td>6</td>\n",
       "      <td>0</td>\n",
       "      <td>199</td>\n",
       "    </tr>\n",
       "    <tr>\n",
       "      <th>3</th>\n",
       "      <td>1</td>\n",
       "      <td>Кира</td>\n",
       "      <td>22</td>\n",
       "      <td>Тюмень</td>\n",
       "      <td>ultra</td>\n",
       "      <td>2694.783254</td>\n",
       "      <td>18.511000</td>\n",
       "      <td>2021-08-11</td>\n",
       "      <td>8</td>\n",
       "      <td>6</td>\n",
       "      <td>0</td>\n",
       "      <td>199</td>\n",
       "    </tr>\n",
       "    <tr>\n",
       "      <th>4</th>\n",
       "      <td>1</td>\n",
       "      <td>Кира</td>\n",
       "      <td>22</td>\n",
       "      <td>Тюмень</td>\n",
       "      <td>ultra</td>\n",
       "      <td>4028.687306</td>\n",
       "      <td>26.265803</td>\n",
       "      <td>2021-08-28</td>\n",
       "      <td>8</td>\n",
       "      <td>6</td>\n",
       "      <td>0</td>\n",
       "      <td>199</td>\n",
       "    </tr>\n",
       "    <tr>\n",
       "      <th>...</th>\n",
       "      <td>...</td>\n",
       "      <td>...</td>\n",
       "      <td>...</td>\n",
       "      <td>...</td>\n",
       "      <td>...</td>\n",
       "      <td>...</td>\n",
       "      <td>...</td>\n",
       "      <td>...</td>\n",
       "      <td>...</td>\n",
       "      <td>...</td>\n",
       "      <td>...</td>\n",
       "      <td>...</td>\n",
       "    </tr>\n",
       "    <tr>\n",
       "      <th>6495</th>\n",
       "      <td>699</td>\n",
       "      <td>Оксана</td>\n",
       "      <td>22</td>\n",
       "      <td>Москва</td>\n",
       "      <td>ultra</td>\n",
       "      <td>3973.046497</td>\n",
       "      <td>24.671163</td>\n",
       "      <td>2021-08-29</td>\n",
       "      <td>8</td>\n",
       "      <td>6</td>\n",
       "      <td>0</td>\n",
       "      <td>199</td>\n",
       "    </tr>\n",
       "    <tr>\n",
       "      <th>6496</th>\n",
       "      <td>699</td>\n",
       "      <td>Оксана</td>\n",
       "      <td>22</td>\n",
       "      <td>Москва</td>\n",
       "      <td>ultra</td>\n",
       "      <td>3288.702563</td>\n",
       "      <td>15.892886</td>\n",
       "      <td>2021-09-12</td>\n",
       "      <td>9</td>\n",
       "      <td>6</td>\n",
       "      <td>0</td>\n",
       "      <td>199</td>\n",
       "    </tr>\n",
       "    <tr>\n",
       "      <th>6497</th>\n",
       "      <td>699</td>\n",
       "      <td>Оксана</td>\n",
       "      <td>22</td>\n",
       "      <td>Москва</td>\n",
       "      <td>ultra</td>\n",
       "      <td>3076.159348</td>\n",
       "      <td>14.389525</td>\n",
       "      <td>2021-09-26</td>\n",
       "      <td>9</td>\n",
       "      <td>6</td>\n",
       "      <td>0</td>\n",
       "      <td>199</td>\n",
       "    </tr>\n",
       "    <tr>\n",
       "      <th>6498</th>\n",
       "      <td>699</td>\n",
       "      <td>Оксана</td>\n",
       "      <td>22</td>\n",
       "      <td>Москва</td>\n",
       "      <td>ultra</td>\n",
       "      <td>4707.845501</td>\n",
       "      <td>15.839579</td>\n",
       "      <td>2021-10-17</td>\n",
       "      <td>10</td>\n",
       "      <td>6</td>\n",
       "      <td>0</td>\n",
       "      <td>199</td>\n",
       "    </tr>\n",
       "    <tr>\n",
       "      <th>6499</th>\n",
       "      <td>699</td>\n",
       "      <td>Оксана</td>\n",
       "      <td>22</td>\n",
       "      <td>Москва</td>\n",
       "      <td>ultra</td>\n",
       "      <td>3202.890770</td>\n",
       "      <td>25.217345</td>\n",
       "      <td>2021-12-03</td>\n",
       "      <td>12</td>\n",
       "      <td>6</td>\n",
       "      <td>0</td>\n",
       "      <td>199</td>\n",
       "    </tr>\n",
       "  </tbody>\n",
       "</table>\n",
       "<p>6500 rows × 12 columns</p>\n",
       "</div>"
      ],
      "text/plain": [
       "      user_id    name  age    city subscription_type     distance   duration  \\\n",
       "0           1    Кира   22  Тюмень             ultra  4409.919140  25.599769   \n",
       "1           1    Кира   22  Тюмень             ultra  2617.592153  15.816871   \n",
       "2           1    Кира   22  Тюмень             ultra   754.159807   6.232113   \n",
       "3           1    Кира   22  Тюмень             ultra  2694.783254  18.511000   \n",
       "4           1    Кира   22  Тюмень             ultra  4028.687306  26.265803   \n",
       "...       ...     ...  ...     ...               ...          ...        ...   \n",
       "6495      699  Оксана   22  Москва             ultra  3973.046497  24.671163   \n",
       "6496      699  Оксана   22  Москва             ultra  3288.702563  15.892886   \n",
       "6497      699  Оксана   22  Москва             ultra  3076.159348  14.389525   \n",
       "6498      699  Оксана   22  Москва             ultra  4707.845501  15.839579   \n",
       "6499      699  Оксана   22  Москва             ultra  3202.890770  25.217345   \n",
       "\n",
       "           date  month_of_publication  minute_price  start_ride_price  \\\n",
       "0    2021-01-01                     1             6                 0   \n",
       "1    2021-01-18                     1             6                 0   \n",
       "2    2021-04-20                     4             6                 0   \n",
       "3    2021-08-11                     8             6                 0   \n",
       "4    2021-08-28                     8             6                 0   \n",
       "...         ...                   ...           ...               ...   \n",
       "6495 2021-08-29                     8             6                 0   \n",
       "6496 2021-09-12                     9             6                 0   \n",
       "6497 2021-09-26                     9             6                 0   \n",
       "6498 2021-10-17                    10             6                 0   \n",
       "6499 2021-12-03                    12             6                 0   \n",
       "\n",
       "      subscription_fee  \n",
       "0                  199  \n",
       "1                  199  \n",
       "2                  199  \n",
       "3                  199  \n",
       "4                  199  \n",
       "...                ...  \n",
       "6495               199  \n",
       "6496               199  \n",
       "6497               199  \n",
       "6498               199  \n",
       "6499               199  \n",
       "\n",
       "[6500 rows x 12 columns]"
      ]
     },
     "execution_count": 37,
     "metadata": {},
     "output_type": "execute_result"
    }
   ],
   "source": [
    "# пользователи с подпиской\n",
    "df_ultra = df_total[df_total['subscription_type'] == 'ultra']\n",
    "df_ultra"
   ]
  },
  {
   "cell_type": "code",
   "execution_count": 38,
   "id": "c262572b",
   "metadata": {
    "scrolled": true
   },
   "outputs": [
    {
     "data": {
      "text/html": [
       "<div>\n",
       "<style scoped>\n",
       "    .dataframe tbody tr th:only-of-type {\n",
       "        vertical-align: middle;\n",
       "    }\n",
       "\n",
       "    .dataframe tbody tr th {\n",
       "        vertical-align: top;\n",
       "    }\n",
       "\n",
       "    .dataframe thead th {\n",
       "        text-align: right;\n",
       "    }\n",
       "</style>\n",
       "<table border=\"1\" class=\"dataframe\">\n",
       "  <thead>\n",
       "    <tr style=\"text-align: right;\">\n",
       "      <th></th>\n",
       "      <th>user_id</th>\n",
       "      <th>name</th>\n",
       "      <th>age</th>\n",
       "      <th>city</th>\n",
       "      <th>subscription_type</th>\n",
       "      <th>distance</th>\n",
       "      <th>duration</th>\n",
       "      <th>date</th>\n",
       "      <th>month_of_publication</th>\n",
       "      <th>minute_price</th>\n",
       "      <th>start_ride_price</th>\n",
       "      <th>subscription_fee</th>\n",
       "    </tr>\n",
       "  </thead>\n",
       "  <tbody>\n",
       "    <tr>\n",
       "      <th>6500</th>\n",
       "      <td>700</td>\n",
       "      <td>Айдар</td>\n",
       "      <td>22</td>\n",
       "      <td>Омск</td>\n",
       "      <td>free</td>\n",
       "      <td>2515.690719</td>\n",
       "      <td>14.944286</td>\n",
       "      <td>2021-01-02</td>\n",
       "      <td>1</td>\n",
       "      <td>8</td>\n",
       "      <td>50</td>\n",
       "      <td>0</td>\n",
       "    </tr>\n",
       "    <tr>\n",
       "      <th>6501</th>\n",
       "      <td>700</td>\n",
       "      <td>Айдар</td>\n",
       "      <td>22</td>\n",
       "      <td>Омск</td>\n",
       "      <td>free</td>\n",
       "      <td>846.932642</td>\n",
       "      <td>16.234663</td>\n",
       "      <td>2021-02-01</td>\n",
       "      <td>2</td>\n",
       "      <td>8</td>\n",
       "      <td>50</td>\n",
       "      <td>0</td>\n",
       "    </tr>\n",
       "    <tr>\n",
       "      <th>6502</th>\n",
       "      <td>700</td>\n",
       "      <td>Айдар</td>\n",
       "      <td>22</td>\n",
       "      <td>Омск</td>\n",
       "      <td>free</td>\n",
       "      <td>4004.434142</td>\n",
       "      <td>20.016628</td>\n",
       "      <td>2021-02-04</td>\n",
       "      <td>2</td>\n",
       "      <td>8</td>\n",
       "      <td>50</td>\n",
       "      <td>0</td>\n",
       "    </tr>\n",
       "    <tr>\n",
       "      <th>6503</th>\n",
       "      <td>700</td>\n",
       "      <td>Айдар</td>\n",
       "      <td>22</td>\n",
       "      <td>Омск</td>\n",
       "      <td>free</td>\n",
       "      <td>1205.911290</td>\n",
       "      <td>9.782872</td>\n",
       "      <td>2021-02-10</td>\n",
       "      <td>2</td>\n",
       "      <td>8</td>\n",
       "      <td>50</td>\n",
       "      <td>0</td>\n",
       "    </tr>\n",
       "    <tr>\n",
       "      <th>6504</th>\n",
       "      <td>700</td>\n",
       "      <td>Айдар</td>\n",
       "      <td>22</td>\n",
       "      <td>Омск</td>\n",
       "      <td>free</td>\n",
       "      <td>3047.379435</td>\n",
       "      <td>17.427673</td>\n",
       "      <td>2021-02-14</td>\n",
       "      <td>2</td>\n",
       "      <td>8</td>\n",
       "      <td>50</td>\n",
       "      <td>0</td>\n",
       "    </tr>\n",
       "    <tr>\n",
       "      <th>...</th>\n",
       "      <td>...</td>\n",
       "      <td>...</td>\n",
       "      <td>...</td>\n",
       "      <td>...</td>\n",
       "      <td>...</td>\n",
       "      <td>...</td>\n",
       "      <td>...</td>\n",
       "      <td>...</td>\n",
       "      <td>...</td>\n",
       "      <td>...</td>\n",
       "      <td>...</td>\n",
       "      <td>...</td>\n",
       "    </tr>\n",
       "    <tr>\n",
       "      <th>18063</th>\n",
       "      <td>1534</td>\n",
       "      <td>Альберт</td>\n",
       "      <td>25</td>\n",
       "      <td>Краснодар</td>\n",
       "      <td>free</td>\n",
       "      <td>3781.098080</td>\n",
       "      <td>19.822962</td>\n",
       "      <td>2021-11-04</td>\n",
       "      <td>11</td>\n",
       "      <td>8</td>\n",
       "      <td>50</td>\n",
       "      <td>0</td>\n",
       "    </tr>\n",
       "    <tr>\n",
       "      <th>18064</th>\n",
       "      <td>1534</td>\n",
       "      <td>Альберт</td>\n",
       "      <td>25</td>\n",
       "      <td>Краснодар</td>\n",
       "      <td>free</td>\n",
       "      <td>2840.423057</td>\n",
       "      <td>21.409799</td>\n",
       "      <td>2021-11-16</td>\n",
       "      <td>11</td>\n",
       "      <td>8</td>\n",
       "      <td>50</td>\n",
       "      <td>0</td>\n",
       "    </tr>\n",
       "    <tr>\n",
       "      <th>18065</th>\n",
       "      <td>1534</td>\n",
       "      <td>Альберт</td>\n",
       "      <td>25</td>\n",
       "      <td>Краснодар</td>\n",
       "      <td>free</td>\n",
       "      <td>3826.185507</td>\n",
       "      <td>18.435051</td>\n",
       "      <td>2021-11-18</td>\n",
       "      <td>11</td>\n",
       "      <td>8</td>\n",
       "      <td>50</td>\n",
       "      <td>0</td>\n",
       "    </tr>\n",
       "    <tr>\n",
       "      <th>18066</th>\n",
       "      <td>1534</td>\n",
       "      <td>Альберт</td>\n",
       "      <td>25</td>\n",
       "      <td>Краснодар</td>\n",
       "      <td>free</td>\n",
       "      <td>2902.308661</td>\n",
       "      <td>16.674362</td>\n",
       "      <td>2021-11-27</td>\n",
       "      <td>11</td>\n",
       "      <td>8</td>\n",
       "      <td>50</td>\n",
       "      <td>0</td>\n",
       "    </tr>\n",
       "    <tr>\n",
       "      <th>18067</th>\n",
       "      <td>1534</td>\n",
       "      <td>Альберт</td>\n",
       "      <td>25</td>\n",
       "      <td>Краснодар</td>\n",
       "      <td>free</td>\n",
       "      <td>2371.711192</td>\n",
       "      <td>15.893917</td>\n",
       "      <td>2021-12-29</td>\n",
       "      <td>12</td>\n",
       "      <td>8</td>\n",
       "      <td>50</td>\n",
       "      <td>0</td>\n",
       "    </tr>\n",
       "  </tbody>\n",
       "</table>\n",
       "<p>11568 rows × 12 columns</p>\n",
       "</div>"
      ],
      "text/plain": [
       "       user_id     name  age       city subscription_type     distance  \\\n",
       "6500       700    Айдар   22       Омск              free  2515.690719   \n",
       "6501       700    Айдар   22       Омск              free   846.932642   \n",
       "6502       700    Айдар   22       Омск              free  4004.434142   \n",
       "6503       700    Айдар   22       Омск              free  1205.911290   \n",
       "6504       700    Айдар   22       Омск              free  3047.379435   \n",
       "...        ...      ...  ...        ...               ...          ...   \n",
       "18063     1534  Альберт   25  Краснодар              free  3781.098080   \n",
       "18064     1534  Альберт   25  Краснодар              free  2840.423057   \n",
       "18065     1534  Альберт   25  Краснодар              free  3826.185507   \n",
       "18066     1534  Альберт   25  Краснодар              free  2902.308661   \n",
       "18067     1534  Альберт   25  Краснодар              free  2371.711192   \n",
       "\n",
       "        duration       date  month_of_publication  minute_price  \\\n",
       "6500   14.944286 2021-01-02                     1             8   \n",
       "6501   16.234663 2021-02-01                     2             8   \n",
       "6502   20.016628 2021-02-04                     2             8   \n",
       "6503    9.782872 2021-02-10                     2             8   \n",
       "6504   17.427673 2021-02-14                     2             8   \n",
       "...          ...        ...                   ...           ...   \n",
       "18063  19.822962 2021-11-04                    11             8   \n",
       "18064  21.409799 2021-11-16                    11             8   \n",
       "18065  18.435051 2021-11-18                    11             8   \n",
       "18066  16.674362 2021-11-27                    11             8   \n",
       "18067  15.893917 2021-12-29                    12             8   \n",
       "\n",
       "       start_ride_price  subscription_fee  \n",
       "6500                 50                 0  \n",
       "6501                 50                 0  \n",
       "6502                 50                 0  \n",
       "6503                 50                 0  \n",
       "6504                 50                 0  \n",
       "...                 ...               ...  \n",
       "18063                50                 0  \n",
       "18064                50                 0  \n",
       "18065                50                 0  \n",
       "18066                50                 0  \n",
       "18067                50                 0  \n",
       "\n",
       "[11568 rows x 12 columns]"
      ]
     },
     "execution_count": 38,
     "metadata": {},
     "output_type": "execute_result"
    }
   ],
   "source": [
    "# пользователи без подписки\n",
    "df_free = df_total[df_total['subscription_type'] == 'free']\n",
    "df_free"
   ]
  },
  {
   "cell_type": "markdown",
   "id": "2f939dfb",
   "metadata": {},
   "source": [
    "11568 строк в использовании без подписки и 6500 - с подпиской."
   ]
  },
  {
   "cell_type": "markdown",
   "id": "99fa75a0",
   "metadata": {},
   "source": [
    "##### Визуализируем информацию о расстоянии и времени поездок для пользователей обеих категорий."
   ]
  },
  {
   "cell_type": "code",
   "execution_count": 39,
   "id": "c7ae42a0",
   "metadata": {
    "scrolled": true
   },
   "outputs": [
    {
     "data": {
      "image/png": "[encoded data removed]",
      "text/plain": [
       "<Figure size 576x360 with 1 Axes>"
      ]
     },
     "metadata": {
      "needs_background": "light"
     },
     "output_type": "display_data"
    }
   ],
   "source": [
    "# Строим гистограммы для сравнения расстояний\n",
    "plt.figure(figsize=(8, 5))\n",
    "plt.hist(df_ultra['distance'], alpha=0.7, label='Ultra', color='green', bins=50)\n",
    "plt.hist(df_free['distance'], alpha=0.7, label='Free', color='orange', bins=50)\n",
    "plt.title('Сравнение расстояний поездок для пользователей обеих категорий')\n",
    "plt.xlabel('Расстояние (метры)')\n",
    "plt.ylabel('Частота использования сервиса')\n",
    "plt.legend();"
   ]
  },
  {
   "cell_type": "markdown",
   "id": "cea19201",
   "metadata": {},
   "source": [
    "Обе группы показывают бимодальное распределение расстояний. Первый пик - в районе 1000 метров, второй пик - около 3000-4000 метров. У группы \"Ultra\" более высокая частота поездок на расстояния около 3000-4000 метров, в то время как для группы \"Free\" характерен более ровный спад после первого пика. Распределение расстояний у группы \"Free\" шире, что указывает на большее разнообразие выбора расстояний среди этих пользователей.\n",
    "Пользователи с подпиской \"Ultra\" использовать сервис для более регулярных или длительных поездок (маршруты на работы и обратно, например).\n",
    "\n"
   ]
  },
  {
   "cell_type": "code",
   "execution_count": 40,
   "id": "570d640d",
   "metadata": {
    "scrolled": true
   },
   "outputs": [
    {
     "data": {
      "image/png": "[encoded data removed]",
      "text/plain": [
       "<Figure size 864x360 with 1 Axes>"
      ]
     },
     "metadata": {
      "needs_background": "light"
     },
     "output_type": "display_data"
    }
   ],
   "source": [
    "# Box plot для расстояний\n",
    "plt.figure(figsize=(12, 5))\n",
    "plt.subplot(1, 2, 1)\n",
    "plt.boxplot([df_ultra['distance'], df_free['distance']], labels=['Ultra', 'Free'])\n",
    "plt.title('Диаграммы размаха сравнений расстояний поездок для пользователей обеих категорий')\n",
    "plt.xlabel('Группа пользователей')\n",
    "plt.ylabel('Расстояние (метры)');"
   ]
  },
  {
   "cell_type": "markdown",
   "id": "3921e5c2",
   "metadata": {},
   "source": [
    "Медианы обеих групп находятся примерно на одном уровне. Возможно, обе группы используют услугу для схожих целей.\n",
    "Межквартильный размах и общий разброс значений (от минимального до максимального, включая выбросы) у группы \"Free\" больше, чем у \"Ultra\". Это указывает на большую изменчивость в выборе расстояний поездок среди пользователей без подписки.\n",
    "Группа \"Free\" имеет большее количество выбросов на больших расстояниях, что может указывать на наличие пользователей, которые иногда совершают очень длинные или очень короткие поездки. У \"Ultra\" также есть выбросы, но их меньше.\n",
    "Верхний \"ус\" (который показывает максимальное значение без учёта выбросов) длиннее у группы \"Free\", подтверждая большую вариативность в длинных поездках у пользователей без подписки. Нижний \"ус\" начинается примерно с одинаковых значений, что говорит о схожести минимальных дистанций у обеих групп."
   ]
  },
  {
   "cell_type": "code",
   "execution_count": 41,
   "id": "378fdef4",
   "metadata": {},
   "outputs": [
    {
     "data": {
      "image/png": "[encoded data removed]",
      "text/plain": [
       "<Figure size 576x360 with 1 Axes>"
      ]
     },
     "metadata": {
      "needs_background": "light"
     },
     "output_type": "display_data"
    }
   ],
   "source": [
    "# Строим гистограммы для сравнения продолжительности поездок\n",
    "plt.figure(figsize=(8, 5))\n",
    "plt.hist(df_ultra['duration'], alpha=0.7, label='Ultra', color='green', bins=50)\n",
    "plt.hist(df_free['duration'], alpha=0.7, label='Free', color='orange', bins=50)\n",
    "plt.title('Сравнение продолжительности поездок для пользователей обеих категорий')\n",
    "plt.xlabel('Продолжительность (минуты)')\n",
    "plt.ylabel('Частота использования сервиса')\n",
    "plt.legend();"
   ]
  },
  {
   "cell_type": "markdown",
   "id": "3ee95568",
   "metadata": {},
   "source": [
    "Наибольшее количество поездок для обеих групп длятся 15-20 минут.\n",
    "Пик продолжительности поездок пользователей \"Free\" находится чуть левее, чем у пользователей \"Ultra\". Это может означать, что пользователи без подписки склонны совершать несколько более короткие поездки по сравнению с теми, у кого подписка \"Ultra\".\n",
    "Распределение для обеих групп скошено вправо, что означает наличие относительно немногих поездок с очень длинной продолжительностью. Такие длинные поездки встречаются реже, но они есть в обеих группах."
   ]
  },
  {
   "cell_type": "code",
   "execution_count": 42,
   "id": "b09ead4e",
   "metadata": {},
   "outputs": [
    {
     "data": {
      "image/png": "[encoded data removed]",
      "text/plain": [
       "<Figure size 864x432 with 1 Axes>"
      ]
     },
     "metadata": {
      "needs_background": "light"
     },
     "output_type": "display_data"
    }
   ],
   "source": [
    "# Box plot для продолжительности\n",
    "plt.figure(figsize=(12, 6))\n",
    "plt.subplot(1, 2, 1)\n",
    "plt.boxplot([df_ultra['duration'], df_free['duration']], labels=['Ultra', 'Free'])\n",
    "plt.title('Box Plot продолжительности поездок для пользователей обеих категорий')\n",
    "plt.xlabel('Группа пользователей')\n",
    "plt.ylabel('Продолжительность (минуты)');"
   ]
  },
  {
   "cell_type": "markdown",
   "id": "569f5c4f",
   "metadata": {},
   "source": [
    "Распределение продолжительности поездок схоже для обеих категорий, но у \"Ultra\" есть несколько более длинные поездки.\n",
    "\n",
    "Медианы и межквартильный размах почти совпадают.\n",
    "Верхний \"ус\" показывает, что поездки, не считая выбросов, для обеих групп редко превышают 30 минут. Нижний \"ус\" начинается примерно от 4 минут для \"Ultra\" и от 2 минут для \"Free\".\n",
    "У \"Ultra\" присутствуют поездки, продолжительность которых достигает почти 40 минут (выбросы), что выше, чем у \"Free\". Это может указывать на наличие небольшого числа поездок с особенно большой продолжительностью среди пользователей с подпиской \"Ultra\"."
   ]
  },
  {
   "cell_type": "code",
   "execution_count": 43,
   "id": "80fe9c4e",
   "metadata": {},
   "outputs": [
    {
     "data": {
      "image/png": "[encoded data removed]",
      "text/plain": [
       "<Figure size 576x432 with 1 Axes>"
      ]
     },
     "metadata": {
      "needs_background": "light"
     },
     "output_type": "display_data"
    }
   ],
   "source": [
    "plt.figure(figsize=(8, 6))\n",
    "plt.scatter(df_ultra['distance'], df_ultra['duration'], color='green', label='Ultra', alpha=0.1)\n",
    "plt.scatter(df_free['distance'], df_free['duration'], color='orange', label='Free', alpha=0.1)\n",
    "plt.title('Диаграмма рассеяния зависимости между расстоянием и продолжительностью поездки')\n",
    "plt.xlabel('Расстояние (метры)')\n",
    "plt.ylabel('Продолжительность (минуты)')\n",
    "plt.legend();"
   ]
  },
  {
   "cell_type": "markdown",
   "id": "ef9254ac",
   "metadata": {},
   "source": [
    "Диаграмма рассеяния показывает чёткую положительную корреляцию между расстоянием и продолжительностью поездок для обеих групп (с увеличением расстояния растет продолжительность поездок). \n",
    "Наибольшая плотность точек сосредоточена в диапазоне от 0 до 3000 метров и от 5 до 25 минут.\n",
    "Зелёные точки (пользователи \"Free\") покрывают более широкий диапазон и более плотно распределены на графике, что указывает на большее количество поездок по сравнению с \"Ultra\".\n",
    "Синие точки (\"Ultra\") имеют меньший разброс, особенно на больших расстояниях и продолжительностях."
   ]
  },
  {
   "cell_type": "markdown",
   "id": "e954479a",
   "metadata": {},
   "source": [
    "##### Вывод:\n",
    "Пользователи \"Ultra\" склонны к более регулярным и длительным поездкам, тогда как \"Free\" демонстрируют более разнообразные и менее предсказуемые модели поездок.\n",
    "\n",
    "**Сравнение расстояний**: \n",
    "На гистаграмме обе группы показывают бимодальное распределение расстояний. Первый пик - в районе 1000 метров, второй пик - около 3000-4000 метров. Пользователи \"Ultra\" чаще выбирают длинные поездки (3000-4000 м), в то время как пользователи \"Free\" показывают большее разнообразие.\n",
    "На основе Box plot: Обе группы имеют схожие медианы, но у \"Free\" значительно больше разброс и выбросы в данных, что указывает на более разнообразное использование сервиса по сравнению с более предсказуемыми паттернами поездок у \"Ultra\".\n",
    "\n",
    "**Сравнение продолжительности поездок:**\n",
    "Гистаграмма продолжительности поездок пользователей с подписками \"Ultra\" и \"Free\" показала, что большинство поездок для обеих групп длится 15-20 минут, при этом пользователи \"Free\" склонны к немного более коротким поездкам. Гистограммы обеих групп скошены вправо, указывая на наличие редких длинных поездок. Box plot анализ выявил схожесть в медианах и межквартильных размахах, однако у \"Ultra\" заметны более длинные поездки, достигающие до 40 минут, что отражает наличие верхних выбросов по сравнению с \"Free\".\n",
    "\n",
    "Диаграмма рассеяния подтверждает положительную корреляцию между расстоянием и продолжительностью поездок."
   ]
  },
  {
   "cell_type": "markdown",
   "id": "402d620f",
   "metadata": {},
   "source": [
    "#### Подсчёт выручки"
   ]
  },
  {
   "cell_type": "markdown",
   "id": "123383a5",
   "metadata": {},
   "source": [
    "Находим суммарное расстояние, количество поездок и суммарное время для каждого пользователя за каждый месяц"
   ]
  },
  {
   "cell_type": "code",
   "execution_count": 44,
   "id": "53049e0a",
   "metadata": {},
   "outputs": [
    {
     "data": {
      "text/html": [
       "<div>\n",
       "<style scoped>\n",
       "    .dataframe tbody tr th:only-of-type {\n",
       "        vertical-align: middle;\n",
       "    }\n",
       "\n",
       "    .dataframe tbody tr th {\n",
       "        vertical-align: top;\n",
       "    }\n",
       "\n",
       "    .dataframe thead th {\n",
       "        text-align: right;\n",
       "    }\n",
       "</style>\n",
       "<table border=\"1\" class=\"dataframe\">\n",
       "  <thead>\n",
       "    <tr style=\"text-align: right;\">\n",
       "      <th></th>\n",
       "      <th></th>\n",
       "      <th>distance_total</th>\n",
       "      <th>duration_total</th>\n",
       "      <th>ride_count</th>\n",
       "      <th>subscription_type</th>\n",
       "    </tr>\n",
       "    <tr>\n",
       "      <th>user_id</th>\n",
       "      <th>month_of_publication</th>\n",
       "      <th></th>\n",
       "      <th></th>\n",
       "      <th></th>\n",
       "      <th></th>\n",
       "    </tr>\n",
       "  </thead>\n",
       "  <tbody>\n",
       "    <tr>\n",
       "      <th rowspan=\"6\" valign=\"top\">1</th>\n",
       "      <th>1</th>\n",
       "      <td>7028.0</td>\n",
       "      <td>42.0</td>\n",
       "      <td>2</td>\n",
       "      <td>ultra</td>\n",
       "    </tr>\n",
       "    <tr>\n",
       "      <th>4</th>\n",
       "      <td>755.0</td>\n",
       "      <td>7.0</td>\n",
       "      <td>1</td>\n",
       "      <td>ultra</td>\n",
       "    </tr>\n",
       "    <tr>\n",
       "      <th>8</th>\n",
       "      <td>6724.0</td>\n",
       "      <td>46.0</td>\n",
       "      <td>2</td>\n",
       "      <td>ultra</td>\n",
       "    </tr>\n",
       "    <tr>\n",
       "      <th>10</th>\n",
       "      <td>5811.0</td>\n",
       "      <td>32.0</td>\n",
       "      <td>2</td>\n",
       "      <td>ultra</td>\n",
       "    </tr>\n",
       "    <tr>\n",
       "      <th>11</th>\n",
       "      <td>7005.0</td>\n",
       "      <td>56.0</td>\n",
       "      <td>3</td>\n",
       "      <td>ultra</td>\n",
       "    </tr>\n",
       "    <tr>\n",
       "      <th>12</th>\n",
       "      <td>6753.0</td>\n",
       "      <td>28.0</td>\n",
       "      <td>2</td>\n",
       "      <td>ultra</td>\n",
       "    </tr>\n",
       "    <tr>\n",
       "      <th rowspan=\"7\" valign=\"top\">2</th>\n",
       "      <th>3</th>\n",
       "      <td>10190.0</td>\n",
       "      <td>63.0</td>\n",
       "      <td>3</td>\n",
       "      <td>ultra</td>\n",
       "    </tr>\n",
       "    <tr>\n",
       "      <th>4</th>\n",
       "      <td>6165.0</td>\n",
       "      <td>40.0</td>\n",
       "      <td>2</td>\n",
       "      <td>ultra</td>\n",
       "    </tr>\n",
       "    <tr>\n",
       "      <th>6</th>\n",
       "      <td>3256.0</td>\n",
       "      <td>14.0</td>\n",
       "      <td>1</td>\n",
       "      <td>ultra</td>\n",
       "    </tr>\n",
       "    <tr>\n",
       "      <th>7</th>\n",
       "      <td>6781.0</td>\n",
       "      <td>48.0</td>\n",
       "      <td>2</td>\n",
       "      <td>ultra</td>\n",
       "    </tr>\n",
       "    <tr>\n",
       "      <th>8</th>\n",
       "      <td>924.0</td>\n",
       "      <td>7.0</td>\n",
       "      <td>1</td>\n",
       "      <td>ultra</td>\n",
       "    </tr>\n",
       "    <tr>\n",
       "      <th>10</th>\n",
       "      <td>2825.0</td>\n",
       "      <td>19.0</td>\n",
       "      <td>1</td>\n",
       "      <td>ultra</td>\n",
       "    </tr>\n",
       "    <tr>\n",
       "      <th>12</th>\n",
       "      <td>3829.0</td>\n",
       "      <td>12.0</td>\n",
       "      <td>1</td>\n",
       "      <td>ultra</td>\n",
       "    </tr>\n",
       "    <tr>\n",
       "      <th rowspan=\"7\" valign=\"top\">3</th>\n",
       "      <th>1</th>\n",
       "      <td>3062.0</td>\n",
       "      <td>13.0</td>\n",
       "      <td>1</td>\n",
       "      <td>ultra</td>\n",
       "    </tr>\n",
       "    <tr>\n",
       "      <th>2</th>\n",
       "      <td>5422.0</td>\n",
       "      <td>39.0</td>\n",
       "      <td>2</td>\n",
       "      <td>ultra</td>\n",
       "    </tr>\n",
       "    <tr>\n",
       "      <th>4</th>\n",
       "      <td>2957.0</td>\n",
       "      <td>21.0</td>\n",
       "      <td>1</td>\n",
       "      <td>ultra</td>\n",
       "    </tr>\n",
       "    <tr>\n",
       "      <th>5</th>\n",
       "      <td>9065.0</td>\n",
       "      <td>63.0</td>\n",
       "      <td>3</td>\n",
       "      <td>ultra</td>\n",
       "    </tr>\n",
       "    <tr>\n",
       "      <th>7</th>\n",
       "      <td>10921.0</td>\n",
       "      <td>67.0</td>\n",
       "      <td>3</td>\n",
       "      <td>ultra</td>\n",
       "    </tr>\n",
       "    <tr>\n",
       "      <th>9</th>\n",
       "      <td>2892.0</td>\n",
       "      <td>23.0</td>\n",
       "      <td>1</td>\n",
       "      <td>ultra</td>\n",
       "    </tr>\n",
       "    <tr>\n",
       "      <th>12</th>\n",
       "      <td>2594.0</td>\n",
       "      <td>13.0</td>\n",
       "      <td>1</td>\n",
       "      <td>ultra</td>\n",
       "    </tr>\n",
       "  </tbody>\n",
       "</table>\n",
       "</div>"
      ],
      "text/plain": [
       "                              distance_total  duration_total  ride_count  \\\n",
       "user_id month_of_publication                                               \n",
       "1       1                             7028.0            42.0           2   \n",
       "        4                              755.0             7.0           1   \n",
       "        8                             6724.0            46.0           2   \n",
       "        10                            5811.0            32.0           2   \n",
       "        11                            7005.0            56.0           3   \n",
       "        12                            6753.0            28.0           2   \n",
       "2       3                            10190.0            63.0           3   \n",
       "        4                             6165.0            40.0           2   \n",
       "        6                             3256.0            14.0           1   \n",
       "        7                             6781.0            48.0           2   \n",
       "        8                              924.0             7.0           1   \n",
       "        10                            2825.0            19.0           1   \n",
       "        12                            3829.0            12.0           1   \n",
       "3       1                             3062.0            13.0           1   \n",
       "        2                             5422.0            39.0           2   \n",
       "        4                             2957.0            21.0           1   \n",
       "        5                             9065.0            63.0           3   \n",
       "        7                            10921.0            67.0           3   \n",
       "        9                             2892.0            23.0           1   \n",
       "        12                            2594.0            13.0           1   \n",
       "\n",
       "                             subscription_type  \n",
       "user_id month_of_publication                    \n",
       "1       1                                ultra  \n",
       "        4                                ultra  \n",
       "        8                                ultra  \n",
       "        10                               ultra  \n",
       "        11                               ultra  \n",
       "        12                               ultra  \n",
       "2       3                                ultra  \n",
       "        4                                ultra  \n",
       "        6                                ultra  \n",
       "        7                                ultra  \n",
       "        8                                ultra  \n",
       "        10                               ultra  \n",
       "        12                               ultra  \n",
       "3       1                                ultra  \n",
       "        2                                ultra  \n",
       "        4                                ultra  \n",
       "        5                                ultra  \n",
       "        7                                ultra  \n",
       "        9                                ultra  \n",
       "        12                               ultra  "
      ]
     },
     "execution_count": 44,
     "metadata": {},
     "output_type": "execute_result"
    }
   ],
   "source": [
    "# Округляем продолжительность поездок с помощью «потолка»\n",
    "df_total['duration'] = np.ceil(df_total['duration'])\n",
    "df_total['distance'] = np.ceil(df_total['distance'])\n",
    "\n",
    "# Создаем сводную таблицу с данными о поездках\n",
    "df_pivot = df_total.pivot_table(index=['user_id', 'month_of_publication'], \n",
    "                                values = ['distance', 'duration', 'name', 'subscription_type'], \n",
    "                                aggfunc={'distance':'sum', 'duration':'sum', 'name':'count',\n",
    "                                         'subscription_type': 'min'})\n",
    "\n",
    "df_pivot.columns = ['distance_total', 'duration_total', 'ride_count', 'subscription_type']\n",
    "\n",
    "df_pivot.head(20)"
   ]
  },
  {
   "cell_type": "code",
   "execution_count": 45,
   "id": "c971e1cf",
   "metadata": {},
   "outputs": [
    {
     "name": "stdout",
     "output_type": "stream",
     "text": [
      "Пропущенные значения в сводной таблице:\n",
      " distance_total       0\n",
      "duration_total       0\n",
      "ride_count           0\n",
      "subscription_type    0\n",
      "dtype: int64\n"
     ]
    }
   ],
   "source": [
    "# Делаем проверку на пропуски в сводной таблице\n",
    "print(\"Пропущенные значения в сводной таблице:\\n\", df_pivot.isnull().sum())"
   ]
  },
  {
   "cell_type": "code",
   "execution_count": 46,
   "id": "2c2bbaff",
   "metadata": {
    "scrolled": true
   },
   "outputs": [
    {
     "data": {
      "text/html": [
       "<div>\n",
       "<style scoped>\n",
       "    .dataframe tbody tr th:only-of-type {\n",
       "        vertical-align: middle;\n",
       "    }\n",
       "\n",
       "    .dataframe tbody tr th {\n",
       "        vertical-align: top;\n",
       "    }\n",
       "\n",
       "    .dataframe thead th {\n",
       "        text-align: right;\n",
       "    }\n",
       "</style>\n",
       "<table border=\"1\" class=\"dataframe\">\n",
       "  <thead>\n",
       "    <tr style=\"text-align: right;\">\n",
       "      <th></th>\n",
       "      <th></th>\n",
       "      <th>distance_total</th>\n",
       "      <th>duration_total</th>\n",
       "      <th>ride_count</th>\n",
       "      <th>subscription_type</th>\n",
       "      <th>income</th>\n",
       "    </tr>\n",
       "    <tr>\n",
       "      <th>user_id</th>\n",
       "      <th>month_of_publication</th>\n",
       "      <th></th>\n",
       "      <th></th>\n",
       "      <th></th>\n",
       "      <th></th>\n",
       "      <th></th>\n",
       "    </tr>\n",
       "  </thead>\n",
       "  <tbody>\n",
       "    <tr>\n",
       "      <th rowspan=\"6\" valign=\"top\">1</th>\n",
       "      <th>1</th>\n",
       "      <td>7028.0</td>\n",
       "      <td>42.0</td>\n",
       "      <td>2</td>\n",
       "      <td>ultra</td>\n",
       "      <td>451.0</td>\n",
       "    </tr>\n",
       "    <tr>\n",
       "      <th>4</th>\n",
       "      <td>755.0</td>\n",
       "      <td>7.0</td>\n",
       "      <td>1</td>\n",
       "      <td>ultra</td>\n",
       "      <td>241.0</td>\n",
       "    </tr>\n",
       "    <tr>\n",
       "      <th>8</th>\n",
       "      <td>6724.0</td>\n",
       "      <td>46.0</td>\n",
       "      <td>2</td>\n",
       "      <td>ultra</td>\n",
       "      <td>475.0</td>\n",
       "    </tr>\n",
       "    <tr>\n",
       "      <th>10</th>\n",
       "      <td>5811.0</td>\n",
       "      <td>32.0</td>\n",
       "      <td>2</td>\n",
       "      <td>ultra</td>\n",
       "      <td>391.0</td>\n",
       "    </tr>\n",
       "    <tr>\n",
       "      <th>11</th>\n",
       "      <td>7005.0</td>\n",
       "      <td>56.0</td>\n",
       "      <td>3</td>\n",
       "      <td>ultra</td>\n",
       "      <td>535.0</td>\n",
       "    </tr>\n",
       "    <tr>\n",
       "      <th>12</th>\n",
       "      <td>6753.0</td>\n",
       "      <td>28.0</td>\n",
       "      <td>2</td>\n",
       "      <td>ultra</td>\n",
       "      <td>367.0</td>\n",
       "    </tr>\n",
       "    <tr>\n",
       "      <th rowspan=\"7\" valign=\"top\">2</th>\n",
       "      <th>3</th>\n",
       "      <td>10190.0</td>\n",
       "      <td>63.0</td>\n",
       "      <td>3</td>\n",
       "      <td>ultra</td>\n",
       "      <td>577.0</td>\n",
       "    </tr>\n",
       "    <tr>\n",
       "      <th>4</th>\n",
       "      <td>6165.0</td>\n",
       "      <td>40.0</td>\n",
       "      <td>2</td>\n",
       "      <td>ultra</td>\n",
       "      <td>439.0</td>\n",
       "    </tr>\n",
       "    <tr>\n",
       "      <th>6</th>\n",
       "      <td>3256.0</td>\n",
       "      <td>14.0</td>\n",
       "      <td>1</td>\n",
       "      <td>ultra</td>\n",
       "      <td>283.0</td>\n",
       "    </tr>\n",
       "    <tr>\n",
       "      <th>7</th>\n",
       "      <td>6781.0</td>\n",
       "      <td>48.0</td>\n",
       "      <td>2</td>\n",
       "      <td>ultra</td>\n",
       "      <td>487.0</td>\n",
       "    </tr>\n",
       "    <tr>\n",
       "      <th>8</th>\n",
       "      <td>924.0</td>\n",
       "      <td>7.0</td>\n",
       "      <td>1</td>\n",
       "      <td>ultra</td>\n",
       "      <td>241.0</td>\n",
       "    </tr>\n",
       "    <tr>\n",
       "      <th>10</th>\n",
       "      <td>2825.0</td>\n",
       "      <td>19.0</td>\n",
       "      <td>1</td>\n",
       "      <td>ultra</td>\n",
       "      <td>313.0</td>\n",
       "    </tr>\n",
       "    <tr>\n",
       "      <th>12</th>\n",
       "      <td>3829.0</td>\n",
       "      <td>12.0</td>\n",
       "      <td>1</td>\n",
       "      <td>ultra</td>\n",
       "      <td>271.0</td>\n",
       "    </tr>\n",
       "    <tr>\n",
       "      <th rowspan=\"7\" valign=\"top\">3</th>\n",
       "      <th>1</th>\n",
       "      <td>3062.0</td>\n",
       "      <td>13.0</td>\n",
       "      <td>1</td>\n",
       "      <td>ultra</td>\n",
       "      <td>277.0</td>\n",
       "    </tr>\n",
       "    <tr>\n",
       "      <th>2</th>\n",
       "      <td>5422.0</td>\n",
       "      <td>39.0</td>\n",
       "      <td>2</td>\n",
       "      <td>ultra</td>\n",
       "      <td>433.0</td>\n",
       "    </tr>\n",
       "    <tr>\n",
       "      <th>4</th>\n",
       "      <td>2957.0</td>\n",
       "      <td>21.0</td>\n",
       "      <td>1</td>\n",
       "      <td>ultra</td>\n",
       "      <td>325.0</td>\n",
       "    </tr>\n",
       "    <tr>\n",
       "      <th>5</th>\n",
       "      <td>9065.0</td>\n",
       "      <td>63.0</td>\n",
       "      <td>3</td>\n",
       "      <td>ultra</td>\n",
       "      <td>577.0</td>\n",
       "    </tr>\n",
       "    <tr>\n",
       "      <th>7</th>\n",
       "      <td>10921.0</td>\n",
       "      <td>67.0</td>\n",
       "      <td>3</td>\n",
       "      <td>ultra</td>\n",
       "      <td>601.0</td>\n",
       "    </tr>\n",
       "    <tr>\n",
       "      <th>9</th>\n",
       "      <td>2892.0</td>\n",
       "      <td>23.0</td>\n",
       "      <td>1</td>\n",
       "      <td>ultra</td>\n",
       "      <td>337.0</td>\n",
       "    </tr>\n",
       "    <tr>\n",
       "      <th>12</th>\n",
       "      <td>2594.0</td>\n",
       "      <td>13.0</td>\n",
       "      <td>1</td>\n",
       "      <td>ultra</td>\n",
       "      <td>277.0</td>\n",
       "    </tr>\n",
       "  </tbody>\n",
       "</table>\n",
       "</div>"
      ],
      "text/plain": [
       "                              distance_total  duration_total  ride_count  \\\n",
       "user_id month_of_publication                                               \n",
       "1       1                             7028.0            42.0           2   \n",
       "        4                              755.0             7.0           1   \n",
       "        8                             6724.0            46.0           2   \n",
       "        10                            5811.0            32.0           2   \n",
       "        11                            7005.0            56.0           3   \n",
       "        12                            6753.0            28.0           2   \n",
       "2       3                            10190.0            63.0           3   \n",
       "        4                             6165.0            40.0           2   \n",
       "        6                             3256.0            14.0           1   \n",
       "        7                             6781.0            48.0           2   \n",
       "        8                              924.0             7.0           1   \n",
       "        10                            2825.0            19.0           1   \n",
       "        12                            3829.0            12.0           1   \n",
       "3       1                             3062.0            13.0           1   \n",
       "        2                             5422.0            39.0           2   \n",
       "        4                             2957.0            21.0           1   \n",
       "        5                             9065.0            63.0           3   \n",
       "        7                            10921.0            67.0           3   \n",
       "        9                             2892.0            23.0           1   \n",
       "        12                            2594.0            13.0           1   \n",
       "\n",
       "                             subscription_type  income  \n",
       "user_id month_of_publication                            \n",
       "1       1                                ultra   451.0  \n",
       "        4                                ultra   241.0  \n",
       "        8                                ultra   475.0  \n",
       "        10                               ultra   391.0  \n",
       "        11                               ultra   535.0  \n",
       "        12                               ultra   367.0  \n",
       "2       3                                ultra   577.0  \n",
       "        4                                ultra   439.0  \n",
       "        6                                ultra   283.0  \n",
       "        7                                ultra   487.0  \n",
       "        8                                ultra   241.0  \n",
       "        10                               ultra   313.0  \n",
       "        12                               ultra   271.0  \n",
       "3       1                                ultra   277.0  \n",
       "        2                                ultra   433.0  \n",
       "        4                                ultra   325.0  \n",
       "        5                                ultra   577.0  \n",
       "        7                                ultra   601.0  \n",
       "        9                                ultra   337.0  \n",
       "        12                               ultra   277.0  "
      ]
     },
     "execution_count": 46,
     "metadata": {},
     "output_type": "execute_result"
    }
   ],
   "source": [
    "# Добавляем столбец с помесячной выручкой, которую принёс каждый пользователь\n",
    "\n",
    "# Cчитаем помесячную выручка для 'ultra'\n",
    "df_pivot.loc[df_pivot['subscription_type'] == 'ultra', 'income'] = (df_pivot['duration_total'] * 6) + 199\n",
    "\n",
    "# Cчитаем помесячную выручка для 'free'\n",
    "df_pivot.loc[df_pivot['subscription_type'] == 'free', 'income'] = (df_pivot['ride_count'] * 50) + (df_pivot['duration_total'] * 8)\n",
    "\n",
    "df_pivot.head(20)"
   ]
  },
  {
   "cell_type": "markdown",
   "id": "a7b9aed4",
   "metadata": {},
   "source": [
    "##### Вывод:\n",
    "Помесячная выручка, которую принёс каждый пользователь, посчитана, столбец с этими данными добавлен"
   ]
  },
  {
   "cell_type": "markdown",
   "id": "41545ac0",
   "metadata": {},
   "source": [
    "#### Проверка гипотез"
   ]
  },
  {
   "cell_type": "markdown",
   "id": "9ee58359",
   "metadata": {},
   "source": [
    "##### Тратят ли пользователи с подпиской больше времени на поездки"
   ]
  },
  {
   "cell_type": "markdown",
   "id": "12155b29",
   "metadata": {},
   "source": [
    "Данный случай может быть рассмотрен с помощью гипотезы о равенстве средних двух генеральных совокупностей.\n",
    "\n",
    "Нулевая гипотеза - пользователи с подпиской и без подписки тратят одинаковое время на поездки;\n",
    "\n",
    "Альтернативная гипотеза - пользователи с подпиской тратят больше времени на поездки"
   ]
  },
  {
   "cell_type": "code",
   "execution_count": 47,
   "id": "8aa71b69",
   "metadata": {},
   "outputs": [
    {
     "name": "stdout",
     "output_type": "stream",
     "text": [
      "p-значение: 1.2804098316645618e-34\n",
      "Отвергаем нулевую гипотезу\n"
     ]
    }
   ],
   "source": [
    "# уровень статистической значимости\n",
    "alpha = 0.05 \n",
    "\n",
    "results = st.ttest_ind(df_ultra['duration'], \n",
    "                       df_free['duration'], \n",
    "                       alternative='greater')\n",
    "\n",
    "print('p-значение:', results.pvalue)\n",
    "\n",
    "if results.pvalue < alpha:\n",
    "    print('Отвергаем нулевую гипотезу')\n",
    "else:\n",
    "    print('Не получилось отвергнуть нулевую гипотезу')"
   ]
  },
  {
   "cell_type": "markdown",
   "id": "fcb1b18a",
   "metadata": {},
   "source": [
    "**Вывод:**\n",
    "Пользователи с подпиской тратят больше времени на поездки (что также можно заметить по построенным ранее гистаграммам для сравнения продолжительности поездок, так как у пользователей с подпиской меньше совсем коротких поездок и больше совсем длительных)"
   ]
  },
  {
   "cell_type": "markdown",
   "id": "fd021e62",
   "metadata": {},
   "source": [
    "##### Превышает ли среднее расстояние, которое проезжают пользователи с подпиской за одну поездку 3130 метров"
   ]
  },
  {
   "cell_type": "markdown",
   "id": "4f6c12d9",
   "metadata": {},
   "source": [
    "Проведем проверку односторонней гипотезы в Python\n",
    "Оптимальное расстояние одной поездки с точки зрения износа самоката - 3130 метров.\n",
    "\n",
    "Нулевая гипотеза - среднее расстояние, которое проезжают пользователи с подпиской за одну поездку, равно 3130 метров.\n",
    "\n",
    "Альтернативная гипотеза - среднее расстояние, которое проезжают пользователи с подпиской за одну поездку, превышает 3130 метров."
   ]
  },
  {
   "cell_type": "code",
   "execution_count": 48,
   "id": "e680c45c",
   "metadata": {},
   "outputs": [
    {
     "name": "stdout",
     "output_type": "stream",
     "text": [
      "p-значение: 0.9195368847849785\n",
      "Не отвергаем нулевую гипотезу\n"
     ]
    }
   ],
   "source": [
    "optimal_distance = 3130\n",
    "\n",
    "# уровень статистической значимости\n",
    "alpha = 0.05\n",
    "\n",
    "results_2 = st.ttest_1samp(df_ultra['distance'], \n",
    "                           optimal_distance, \n",
    "                           alternative='greater')\n",
    "\n",
    "print('p-значение:', results_2.pvalue)\n",
    "\n",
    "if (results_2.pvalue < alpha):\n",
    "    print('Отвергаем нулевую гипотезу')\n",
    "else:\n",
    "    print('Не отвергаем нулевую гипотезу') "
   ]
  },
  {
   "cell_type": "markdown",
   "id": "02570f30",
   "metadata": {},
   "source": [
    "**Вывод:**\n",
    "Нельзя утверждать, что среднее расстояние, которое проезжают пользователи с подпиской за одну поездку, не превышает 3130 метров"
   ]
  },
  {
   "cell_type": "markdown",
   "id": "b6cc55c9",
   "metadata": {},
   "source": [
    "##### Превышает ли помесячная выручка от пользователей с подпиской выручку от пользователей без подписки\n",
    "\n",
    "Используем гипотезу о равенстве средних двух генеральных совокупностей.\n",
    "\n",
    "Нулевая гипотеза - помесячная выручка от пользователей с подпиской равна выручке от пользователей без подписки.\n",
    "\n",
    "Альтернативная гипотеза - помесячная выручка от пользователей с подпиской превышает выручку от пользователей без подписки."
   ]
  },
  {
   "cell_type": "code",
   "execution_count": 49,
   "id": "a9cbe4c7",
   "metadata": {},
   "outputs": [
    {
     "name": "stdout",
     "output_type": "stream",
     "text": [
      "p-значение: 1.8850394384715216e-31\n",
      "Отвергаем нулевую гипотезу\n"
     ]
    }
   ],
   "source": [
    "# уровень статистической значимости\n",
    "alpha = 0.05 \n",
    "\n",
    "income_ultra = df_pivot[df_pivot['subscription_type'] == 'ultra']['income']\n",
    "income_free = df_pivot[df_pivot['subscription_type'] == 'free']['income']\n",
    "\n",
    "results = st.ttest_ind(income_ultra, income_free, \n",
    "                       alternative='greater')\n",
    "\n",
    "print('p-значение:', results.pvalue)\n",
    "\n",
    "if results.pvalue < alpha:\n",
    "    print('Отвергаем нулевую гипотезу')\n",
    "else:\n",
    "    print('Не получилось отвергнуть нулевую гипотезу')"
   ]
  },
  {
   "cell_type": "markdown",
   "id": "0e99d17f",
   "metadata": {},
   "source": [
    "**Вывод:** Помесячная выручка от пользователей с подпиской превышает выручку от пользователей без подписки"
   ]
  },
  {
   "cell_type": "markdown",
   "id": "248d41da",
   "metadata": {},
   "source": [
    "##### Вопрос о виде теста \n",
    "\n",
    "Ситуация: техническая команда сервиса обновила сервера, с которыми взаимодействует мобильное приложение. Она надеется, что из-за этого количество обращений в техподдержку значимо снизилось. Некоторый файл содержит для каждого пользователя данные о количестве обращений до обновления и после него. Какой тест вам понадобился бы для проверки этой гипотезы?\n",
    "\n",
    "Ответ: Гипотеза о равенстве средних для зависимых (парных) выборок или гипотеза о равенстве среднего значения генеральной совокупности до и после изменения"
   ]
  },
  {
   "cell_type": "markdown",
   "id": "61213c5e",
   "metadata": {},
   "source": [
    "#### Распределения"
   ]
  },
  {
   "cell_type": "markdown",
   "id": "79e3a811",
   "metadata": {},
   "source": [
    "#### Общий вывод"
   ]
  },
  {
   "cell_type": "markdown",
   "id": "5d5ec4df",
   "metadata": {},
   "source": [
    "##### Предобработка данных с описанием найденных проблем и путей их решения"
   ]
  },
  {
   "cell_type": "markdown",
   "id": "ed458dcb",
   "metadata": {},
   "source": [
    "Данные были предоставлены в виде 3х датафреймах. \n",
    "\n",
    "**Качество данных:** В датафреймах отсутствуют пропущенные значения. Типы данных везде соответсвуют содержанию, кроме колоники date в датафрейме df_users - она имела  тип object. Тип данных был изменен на date.\n",
    "\n",
    "**Дубликаты:** В датафрейме df_users найдено 31 явных дубликатов. В остальных явных дубликатов найдено не было.\n",
    "\n",
    "Был создан новый датафрейм, объединяющий данные о пользователях, поездках и подписках. \n",
    "\n",
    "**Добавлены новые столбцы**: \n",
    "столбец с помесячной выручкой, которую принёс каждый пользователь.\n"
   ]
  },
  {
   "cell_type": "markdown",
   "id": "1ae52126",
   "metadata": {},
   "source": [
    "##### Выводы по исследовательскому анализу данных"
   ]
  },
  {
   "cell_type": "markdown",
   "id": "d81ee7db",
   "metadata": {},
   "source": [
    "**Частота встречаемости городов** Максимальное количество пользователей в Пятигорске (219). Высокие показатели в Екатеринбурге (204) и Ростове-на-Дону (198), Краснодаре (193) и Сочи (189). Средние показатели в Омске (183) и Тюмени (180). Москва находится в конце списка (168).\n",
    "\n",
    "**Соотношение пользователей с подпиской и без подписки** - без подписки 835 (54%), с подпиской (ultra) - 699 (46%).\n",
    "\n",
    "\n",
    "**Возраст пользователей** варьируется от 12 до 43 лет. Средний возраст - 24.9 лет, медианный — 25 лет. Большинство пользователей находятся в диапазоне от 22 до 28 лет (первый квартиль (25%) на уровне 22 лет и третий квартиль (75%) — 28 лет).\n",
    "\n",
    "**Расстояние, которое пользователь преодолел за одну поездку** Среднее - 3070.66 метров, медианное - 3133.61 метра. Минимальное зарегистрированное расстояние - 0.86 метра, максимальное - 7211.01 метров.\n",
    "Есть 2 пика: маленький около 700 метров (короткие поездки по городу) и большой около 3200 метров.\n",
    "\n",
    "**Продолжительность поездок** Средняя - 17.81 минут, медианная - 17.68 минут. Минимальная - 0.5 минуты, максимальная — 40.82 минуты. 25% всех поездок длится менее 13.60 минут, 75% всех поездок короче 21.72 минут.\n",
    "\n",
    "\n",
    "**Сравнение информации о расстоянии и времени поездок для пользователей обеих категорий** Пользователи \"Ultra\" склонны к более регулярным и длительным поездкам, тогда как \"Free\" демонстрируют более разнообразные и менее предсказуемые модели поездок.\n",
    "\n",
    "**Сравнение расстояний**: Пользователи \"Ultra\" чаще выбирают длинные поездки (3000-4000 м), в то время как пользователи \"Free\" показывают большее разнообразие.\n",
    "На основе Box plot: Обе группы имеют схожие медианы, но у \"Free\" значительно больше разброс и выбросы в данных, что указывает на более разнообразное использование сервиса по сравнению с более предсказуемыми паттернами поездок у \"Ultra\".\n",
    "\n",
    "**Сравнение продолжительности поездок:** большинство поездок для обеих групп длится 15-20 минут, при этом пользователи \"Free\" склонны к немного более коротким поездкам, а у \"Ultra\" заметны более длинные поездки, достигающие до 40 минут, что отражает наличие верхних выбросов по сравнению с \"Free\".\n"
   ]
  },
  {
   "cell_type": "markdown",
   "id": "d5013a06",
   "metadata": {},
   "source": [
    "##### Выводы по проверке гипотез"
   ]
  },
  {
   "cell_type": "markdown",
   "id": "461ac064",
   "metadata": {},
   "source": [
    "**Тратят ли пользователи с подпиской больше времени на поездки**\n",
    "Да, пользователи с подпиской тратят больше времени на поездки\n",
    "\n",
    "**Превышает ли среднее расстояние, которое проезжают пользователи с подпиской за одну поездку 3130 метров**\n",
    "Нельзя это утверждать (не отвергаем нулевую гипотезу)\n",
    "\n",
    "**Превышает ли помесячная выручка от пользователей с подпиской выручку от пользователей без подписки**\n",
    "Да, превышает"
   ]
  },
  {
   "cell_type": "markdown",
   "id": "44af5bb1",
   "metadata": {},
   "source": [
    "##### Рекомендации для заказчика:\n",
    "\n",
    "**Улучшение программы подписок:** Так как пользователи с подписками приноят больше выручки, возможно стоит доработать условия, дополнительные льготы или скидки на длинные поездки. Также можно разработать специальные предложения для привлечения пользователей \"Free\" к переходу на подписки.\n",
    "\n",
    "**Продвижение длинных поездок:** Для пользователей \"Ultra\", которые предпочитают длинные поездки, предложить особые условия для регулярных поездок. Это может увеличить лояльность клиентов.\n",
    "\n",
    "**Пересмотр тарифов:** Проанализировать и оптимизировать структуру ценообразования, возможно, введя отдельные тарифы по времени суток или дням недели.\n",
    "\n",
    "**Улучшение пользовательского опыта:** Внедрить новые функции, такие как:\n",
    "- Предложения маршрутов на основе анализа наиболее популярных направлений.\n",
    "- Личные рекомендации по оптимизации расходов на поездки.\n",
    "- Улучшенная навигация и возможности планирования поездок."
   ]
  }
 ],
 "metadata": {
  "ExecuteTimeLog": [
   {
    "duration": 62,
    "start_time": "2024-04-30T12:06:12.189Z"
   },
   {
    "duration": 450,
    "start_time": "2024-04-30T12:06:16.892Z"
   },
   {
    "duration": 79,
    "start_time": "2024-04-30T12:06:18.638Z"
   },
   {
    "duration": 417,
    "start_time": "2024-04-30T12:11:19.935Z"
   },
   {
    "duration": 90,
    "start_time": "2024-04-30T12:11:21.723Z"
   },
   {
    "duration": 13,
    "start_time": "2024-04-30T12:11:59.635Z"
   },
   {
    "duration": 96,
    "start_time": "2024-04-30T12:35:30.229Z"
   },
   {
    "duration": 44,
    "start_time": "2024-04-30T12:36:06.207Z"
   },
   {
    "duration": 9,
    "start_time": "2024-04-30T12:36:21.968Z"
   },
   {
    "duration": 78,
    "start_time": "2024-04-30T12:38:12.138Z"
   },
   {
    "duration": 12,
    "start_time": "2024-04-30T12:43:21.529Z"
   },
   {
    "duration": 10,
    "start_time": "2024-04-30T12:44:36.463Z"
   },
   {
    "duration": 63,
    "start_time": "2024-04-30T13:08:16.412Z"
   },
   {
    "duration": 417,
    "start_time": "2024-04-30T13:09:02.498Z"
   },
   {
    "duration": 40,
    "start_time": "2024-04-30T13:09:04.543Z"
   },
   {
    "duration": 11,
    "start_time": "2024-04-30T13:09:07.861Z"
   },
   {
    "duration": 12,
    "start_time": "2024-04-30T13:09:31.502Z"
   },
   {
    "duration": 7,
    "start_time": "2024-04-30T13:09:41.659Z"
   },
   {
    "duration": 6,
    "start_time": "2024-04-30T13:09:59.230Z"
   },
   {
    "duration": 7,
    "start_time": "2024-04-30T13:14:57.247Z"
   },
   {
    "duration": 45,
    "start_time": "2024-04-30T13:15:03.311Z"
   },
   {
    "duration": 12,
    "start_time": "2024-04-30T13:15:05.199Z"
   },
   {
    "duration": 9,
    "start_time": "2024-04-30T13:15:21.829Z"
   },
   {
    "duration": 31,
    "start_time": "2024-04-30T13:16:11.186Z"
   },
   {
    "duration": 10,
    "start_time": "2024-04-30T13:16:13.767Z"
   },
   {
    "duration": 6,
    "start_time": "2024-04-30T13:16:35.239Z"
   },
   {
    "duration": 61,
    "start_time": "2024-04-30T13:21:20.271Z"
   },
   {
    "duration": 759,
    "start_time": "2024-04-30T13:21:55.274Z"
   },
   {
    "duration": 41,
    "start_time": "2024-04-30T13:21:57.428Z"
   },
   {
    "duration": 12,
    "start_time": "2024-04-30T13:21:59.879Z"
   },
   {
    "duration": 262,
    "start_time": "2024-04-30T13:22:03.525Z"
   },
   {
    "duration": 248,
    "start_time": "2024-04-30T13:22:41.216Z"
   },
   {
    "duration": 6,
    "start_time": "2024-04-30T13:24:02.552Z"
   },
   {
    "duration": 44,
    "start_time": "2024-04-30T13:24:06.524Z"
   },
   {
    "duration": 11,
    "start_time": "2024-04-30T13:24:09.154Z"
   },
   {
    "duration": 817,
    "start_time": "2024-04-30T13:25:58.053Z"
   },
   {
    "duration": 297,
    "start_time": "2024-04-30T13:26:31.107Z"
   },
   {
    "duration": 228,
    "start_time": "2024-04-30T13:29:32.772Z"
   },
   {
    "duration": 8,
    "start_time": "2024-04-30T13:30:12.452Z"
   },
   {
    "duration": 32,
    "start_time": "2024-04-30T13:30:14.268Z"
   },
   {
    "duration": 11,
    "start_time": "2024-04-30T13:30:17.225Z"
   },
   {
    "duration": 442,
    "start_time": "2024-04-30T13:33:19.924Z"
   },
   {
    "duration": 290,
    "start_time": "2024-04-30T13:33:36.901Z"
   },
   {
    "duration": 296,
    "start_time": "2024-04-30T13:33:46.568Z"
   },
   {
    "duration": 15,
    "start_time": "2024-04-30T14:15:49.777Z"
   },
   {
    "duration": 44,
    "start_time": "2024-05-01T09:32:37.124Z"
   },
   {
    "duration": 804,
    "start_time": "2024-05-01T09:33:07.170Z"
   },
   {
    "duration": 114,
    "start_time": "2024-05-01T09:33:07.977Z"
   },
   {
    "duration": 11,
    "start_time": "2024-05-01T09:33:08.093Z"
   },
   {
    "duration": 278,
    "start_time": "2024-05-01T09:33:08.106Z"
   },
   {
    "duration": 6,
    "start_time": "2024-05-01T09:33:08.385Z"
   },
   {
    "duration": 173,
    "start_time": "2024-05-01T09:33:08.393Z"
   },
   {
    "duration": 10,
    "start_time": "2024-05-01T09:33:08.568Z"
   },
   {
    "duration": 250,
    "start_time": "2024-05-01T09:33:08.579Z"
   },
   {
    "duration": 294,
    "start_time": "2024-05-01T09:33:08.831Z"
   },
   {
    "duration": 8,
    "start_time": "2024-05-01T09:33:09.128Z"
   },
   {
    "duration": 89,
    "start_time": "2024-05-01T09:33:09.137Z"
   },
   {
    "duration": 9,
    "start_time": "2024-05-01T09:33:09.228Z"
   },
   {
    "duration": 5,
    "start_time": "2024-05-01T09:33:09.239Z"
   },
   {
    "duration": 14,
    "start_time": "2024-05-01T09:33:09.245Z"
   },
   {
    "duration": 15,
    "start_time": "2024-05-01T09:33:31.818Z"
   },
   {
    "duration": 13,
    "start_time": "2024-05-01T09:33:57.099Z"
   },
   {
    "duration": 9,
    "start_time": "2024-05-01T09:35:28.435Z"
   },
   {
    "duration": 6,
    "start_time": "2024-05-01T09:37:01.735Z"
   },
   {
    "duration": 7,
    "start_time": "2024-05-01T09:37:10.180Z"
   },
   {
    "duration": 5,
    "start_time": "2024-05-01T09:38:32.384Z"
   },
   {
    "duration": 6,
    "start_time": "2024-05-01T09:58:22.532Z"
   },
   {
    "duration": 5,
    "start_time": "2024-05-01T10:01:31.799Z"
   },
   {
    "duration": 7,
    "start_time": "2024-05-01T10:25:47.370Z"
   },
   {
    "duration": 7,
    "start_time": "2024-05-01T10:25:48.813Z"
   },
   {
    "duration": 16,
    "start_time": "2024-05-01T10:40:45.679Z"
   },
   {
    "duration": 36,
    "start_time": "2024-05-01T10:43:04.723Z"
   },
   {
    "duration": 14,
    "start_time": "2024-05-01T10:43:30.838Z"
   },
   {
    "duration": 21,
    "start_time": "2024-05-01T10:43:40.832Z"
   },
   {
    "duration": 17,
    "start_time": "2024-05-01T10:43:51.523Z"
   },
   {
    "duration": 8,
    "start_time": "2024-05-01T10:46:40.622Z"
   },
   {
    "duration": 9,
    "start_time": "2024-05-01T10:48:26.974Z"
   },
   {
    "duration": 1011,
    "start_time": "2024-05-01T11:11:32.419Z"
   },
   {
    "duration": 908,
    "start_time": "2024-05-01T11:11:51.311Z"
   },
   {
    "duration": 184,
    "start_time": "2024-05-01T11:16:26.245Z"
   },
   {
    "duration": 176,
    "start_time": "2024-05-01T11:17:16.725Z"
   },
   {
    "duration": 11,
    "start_time": "2024-05-01T11:17:36.503Z"
   },
   {
    "duration": 160,
    "start_time": "2024-05-01T11:17:54.460Z"
   },
   {
    "duration": 159,
    "start_time": "2024-05-01T11:18:47.297Z"
   },
   {
    "duration": 60,
    "start_time": "2024-05-02T20:17:22.159Z"
   },
   {
    "duration": 1095,
    "start_time": "2024-05-02T20:17:43.168Z"
   },
   {
    "duration": 120,
    "start_time": "2024-05-02T20:17:44.265Z"
   },
   {
    "duration": 12,
    "start_time": "2024-05-02T20:17:44.387Z"
   },
   {
    "duration": 298,
    "start_time": "2024-05-02T20:17:44.401Z"
   },
   {
    "duration": 6,
    "start_time": "2024-05-02T20:17:44.702Z"
   },
   {
    "duration": 174,
    "start_time": "2024-05-02T20:17:44.710Z"
   },
   {
    "duration": 11,
    "start_time": "2024-05-02T20:17:44.885Z"
   },
   {
    "duration": 313,
    "start_time": "2024-05-02T20:17:44.898Z"
   },
   {
    "duration": 354,
    "start_time": "2024-05-02T20:17:45.213Z"
   },
   {
    "duration": 9,
    "start_time": "2024-05-02T20:17:45.573Z"
   },
   {
    "duration": 87,
    "start_time": "2024-05-02T20:17:45.583Z"
   },
   {
    "duration": 12,
    "start_time": "2024-05-02T20:17:45.672Z"
   },
   {
    "duration": 30,
    "start_time": "2024-05-02T20:17:45.685Z"
   },
   {
    "duration": 45,
    "start_time": "2024-05-02T20:17:45.718Z"
   },
   {
    "duration": 19,
    "start_time": "2024-05-02T20:17:45.765Z"
   },
   {
    "duration": 5,
    "start_time": "2024-05-02T20:17:45.786Z"
   },
   {
    "duration": 17,
    "start_time": "2024-05-02T20:17:45.793Z"
   },
   {
    "duration": 21,
    "start_time": "2024-05-02T20:17:45.812Z"
   },
   {
    "duration": 45,
    "start_time": "2024-05-02T20:17:45.834Z"
   },
   {
    "duration": 20,
    "start_time": "2024-05-02T20:17:45.881Z"
   },
   {
    "duration": 192,
    "start_time": "2024-05-02T20:17:45.902Z"
   },
   {
    "duration": 667,
    "start_time": "2024-05-02T20:20:30.015Z"
   },
   {
    "duration": 41,
    "start_time": "2024-05-02T20:20:30.684Z"
   },
   {
    "duration": 27,
    "start_time": "2024-05-02T20:20:30.727Z"
   },
   {
    "duration": 319,
    "start_time": "2024-05-02T20:20:30.756Z"
   },
   {
    "duration": 6,
    "start_time": "2024-05-02T20:20:31.077Z"
   },
   {
    "duration": 111,
    "start_time": "2024-05-02T20:20:31.084Z"
   },
   {
    "duration": 14,
    "start_time": "2024-05-02T20:20:31.197Z"
   },
   {
    "duration": 343,
    "start_time": "2024-05-02T20:20:31.213Z"
   },
   {
    "duration": 317,
    "start_time": "2024-05-02T20:20:31.558Z"
   },
   {
    "duration": 9,
    "start_time": "2024-05-02T20:20:31.877Z"
   },
   {
    "duration": 66,
    "start_time": "2024-05-02T20:20:31.887Z"
   },
   {
    "duration": 10,
    "start_time": "2024-05-02T20:20:31.955Z"
   },
   {
    "duration": 37,
    "start_time": "2024-05-02T20:20:31.967Z"
   },
   {
    "duration": 47,
    "start_time": "2024-05-02T20:20:32.006Z"
   },
   {
    "duration": 73,
    "start_time": "2024-05-02T20:20:32.055Z"
   },
   {
    "duration": 10,
    "start_time": "2024-05-02T20:20:32.130Z"
   },
   {
    "duration": 31,
    "start_time": "2024-05-02T20:20:32.143Z"
   },
   {
    "duration": 48,
    "start_time": "2024-05-02T20:20:32.176Z"
   },
   {
    "duration": 43,
    "start_time": "2024-05-02T20:20:32.226Z"
   },
   {
    "duration": 14,
    "start_time": "2024-05-02T20:20:32.271Z"
   },
   {
    "duration": 20273,
    "start_time": "2024-05-02T20:20:32.286Z"
   },
   {
    "duration": 181,
    "start_time": "2024-05-02T20:20:56.037Z"
   },
   {
    "duration": 179,
    "start_time": "2024-05-02T20:21:12.370Z"
   },
   {
    "duration": 176,
    "start_time": "2024-05-02T20:21:28.422Z"
   },
   {
    "duration": 87,
    "start_time": "2024-05-02T20:29:53.613Z"
   },
   {
    "duration": 8,
    "start_time": "2024-05-02T20:30:04.929Z"
   },
   {
    "duration": 9,
    "start_time": "2024-05-02T21:10:28.651Z"
   },
   {
    "duration": 179,
    "start_time": "2024-05-02T21:10:36.931Z"
   },
   {
    "duration": 1136,
    "start_time": "2024-05-02T21:15:58.876Z"
   },
   {
    "duration": 12,
    "start_time": "2024-05-02T21:16:34.109Z"
   },
   {
    "duration": 173,
    "start_time": "2024-05-02T21:16:38.412Z"
   },
   {
    "duration": 12,
    "start_time": "2024-05-02T21:23:37.476Z"
   },
   {
    "duration": 52,
    "start_time": "2024-05-03T18:45:56.187Z"
   },
   {
    "duration": 842,
    "start_time": "2024-05-03T18:46:17.586Z"
   },
   {
    "duration": 88,
    "start_time": "2024-05-03T18:46:18.430Z"
   },
   {
    "duration": 12,
    "start_time": "2024-05-03T18:46:18.520Z"
   },
   {
    "duration": 268,
    "start_time": "2024-05-03T18:46:18.534Z"
   },
   {
    "duration": 6,
    "start_time": "2024-05-03T18:46:18.803Z"
   },
   {
    "duration": 91,
    "start_time": "2024-05-03T18:46:18.810Z"
   },
   {
    "duration": 10,
    "start_time": "2024-05-03T18:46:18.902Z"
   },
   {
    "duration": 254,
    "start_time": "2024-05-03T18:46:18.914Z"
   },
   {
    "duration": 313,
    "start_time": "2024-05-03T18:46:19.169Z"
   },
   {
    "duration": 8,
    "start_time": "2024-05-03T18:46:19.485Z"
   },
   {
    "duration": 80,
    "start_time": "2024-05-03T18:46:19.494Z"
   },
   {
    "duration": 13,
    "start_time": "2024-05-03T18:46:19.576Z"
   },
   {
    "duration": 7,
    "start_time": "2024-05-03T18:46:19.590Z"
   },
   {
    "duration": 12,
    "start_time": "2024-05-03T18:46:19.598Z"
   },
   {
    "duration": 17,
    "start_time": "2024-05-03T18:46:19.612Z"
   },
   {
    "duration": 7,
    "start_time": "2024-05-03T18:46:19.630Z"
   },
   {
    "duration": 45,
    "start_time": "2024-05-03T18:46:19.638Z"
   },
   {
    "duration": 18,
    "start_time": "2024-05-03T18:46:19.685Z"
   },
   {
    "duration": 23,
    "start_time": "2024-05-03T18:46:19.706Z"
   },
   {
    "duration": 13,
    "start_time": "2024-05-03T18:46:19.730Z"
   },
   {
    "duration": 224,
    "start_time": "2024-05-03T18:46:19.744Z"
   },
   {
    "duration": 12,
    "start_time": "2024-05-03T18:46:19.970Z"
   },
   {
    "duration": 11,
    "start_time": "2024-05-03T18:46:19.984Z"
   },
   {
    "duration": 172,
    "start_time": "2024-05-03T18:46:19.997Z"
   },
   {
    "duration": 20,
    "start_time": "2024-05-03T18:46:20.171Z"
   },
   {
    "duration": 11,
    "start_time": "2024-05-03T18:46:24.319Z"
   },
   {
    "duration": 189,
    "start_time": "2024-05-03T18:46:26.317Z"
   },
   {
    "duration": 187,
    "start_time": "2024-05-03T19:29:34.415Z"
   },
   {
    "duration": 199,
    "start_time": "2024-05-03T19:30:58.094Z"
   },
   {
    "duration": 198,
    "start_time": "2024-05-03T19:31:04.105Z"
   },
   {
    "duration": 251,
    "start_time": "2024-05-03T19:31:09.285Z"
   },
   {
    "duration": 16,
    "start_time": "2024-05-03T19:33:39.155Z"
   },
   {
    "duration": 499,
    "start_time": "2024-05-03T19:36:54.319Z"
   },
   {
    "duration": 198,
    "start_time": "2024-05-03T19:37:01.828Z"
   },
   {
    "duration": 184,
    "start_time": "2024-05-03T19:37:20.832Z"
   },
   {
    "duration": 186,
    "start_time": "2024-05-03T19:39:29.699Z"
   },
   {
    "duration": 202,
    "start_time": "2024-05-03T19:39:50.395Z"
   },
   {
    "duration": 198,
    "start_time": "2024-05-03T19:39:59.569Z"
   },
   {
    "duration": 183,
    "start_time": "2024-05-03T19:40:07.161Z"
   },
   {
    "duration": 183,
    "start_time": "2024-05-03T19:40:20.527Z"
   },
   {
    "duration": 207,
    "start_time": "2024-05-03T19:40:34.060Z"
   },
   {
    "duration": 189,
    "start_time": "2024-05-03T19:40:43.959Z"
   },
   {
    "duration": 288,
    "start_time": "2024-05-03T19:40:51.420Z"
   },
   {
    "duration": 194,
    "start_time": "2024-05-03T19:41:00.154Z"
   },
   {
    "duration": 204,
    "start_time": "2024-05-03T19:41:06.907Z"
   },
   {
    "duration": 9,
    "start_time": "2024-05-03T19:42:53.351Z"
   },
   {
    "duration": 5,
    "start_time": "2024-05-03T19:44:56.383Z"
   },
   {
    "duration": 6,
    "start_time": "2024-05-03T19:45:18.997Z"
   },
   {
    "duration": 6,
    "start_time": "2024-05-03T19:45:31.851Z"
   },
   {
    "duration": 8,
    "start_time": "2024-05-03T19:49:02.377Z"
   },
   {
    "duration": 5,
    "start_time": "2024-05-03T19:49:03.644Z"
   },
   {
    "duration": 7,
    "start_time": "2024-05-03T19:52:02.376Z"
   },
   {
    "duration": 83,
    "start_time": "2024-05-03T20:24:13.758Z"
   },
   {
    "duration": 74,
    "start_time": "2024-05-03T20:24:23.198Z"
   },
   {
    "duration": 8,
    "start_time": "2024-05-03T20:25:12.569Z"
   },
   {
    "duration": 9,
    "start_time": "2024-05-03T20:25:19.945Z"
   },
   {
    "duration": 7,
    "start_time": "2024-05-03T20:25:29.270Z"
   },
   {
    "duration": 6,
    "start_time": "2024-05-03T20:25:33.904Z"
   },
   {
    "duration": 39,
    "start_time": "2024-05-03T20:49:02.492Z"
   },
   {
    "duration": 30,
    "start_time": "2024-05-03T20:51:40.560Z"
   },
   {
    "duration": 16,
    "start_time": "2024-05-03T21:04:52.672Z"
   },
   {
    "duration": 24,
    "start_time": "2024-05-03T21:05:47.909Z"
   },
   {
    "duration": 30,
    "start_time": "2024-05-03T21:05:51.400Z"
   },
   {
    "duration": 705,
    "start_time": "2024-05-06T17:47:19.295Z"
   },
   {
    "duration": 107,
    "start_time": "2024-05-06T17:47:20.002Z"
   },
   {
    "duration": 9,
    "start_time": "2024-05-06T17:47:20.110Z"
   },
   {
    "duration": 35,
    "start_time": "2024-05-06T17:47:20.120Z"
   },
   {
    "duration": 156,
    "start_time": "2024-05-06T17:47:20.157Z"
   },
   {
    "duration": 9,
    "start_time": "2024-05-06T17:47:20.314Z"
   },
   {
    "duration": 35,
    "start_time": "2024-05-06T17:47:20.324Z"
   },
   {
    "duration": 84,
    "start_time": "2024-05-06T17:47:20.360Z"
   },
   {
    "duration": 9,
    "start_time": "2024-05-06T17:47:20.445Z"
   },
   {
    "duration": 32,
    "start_time": "2024-05-06T17:47:20.457Z"
   },
   {
    "duration": 20,
    "start_time": "2024-05-06T17:47:20.490Z"
   },
   {
    "duration": 38,
    "start_time": "2024-05-06T17:47:20.511Z"
   },
   {
    "duration": 12,
    "start_time": "2024-05-06T17:47:20.550Z"
   },
   {
    "duration": 12,
    "start_time": "2024-05-06T17:47:20.563Z"
   },
   {
    "duration": 23,
    "start_time": "2024-05-06T17:47:20.576Z"
   },
   {
    "duration": 142,
    "start_time": "2024-05-06T17:47:20.600Z"
   },
   {
    "duration": 5,
    "start_time": "2024-05-06T17:47:20.743Z"
   },
   {
    "duration": 26,
    "start_time": "2024-05-06T17:47:20.749Z"
   },
   {
    "duration": 73,
    "start_time": "2024-05-06T17:47:20.776Z"
   },
   {
    "duration": 7,
    "start_time": "2024-05-06T17:47:20.851Z"
   },
   {
    "duration": 129,
    "start_time": "2024-05-06T17:47:20.860Z"
   },
   {
    "duration": 8,
    "start_time": "2024-05-06T17:47:20.990Z"
   },
   {
    "duration": 147,
    "start_time": "2024-05-06T17:47:20.999Z"
   },
   {
    "duration": 8,
    "start_time": "2024-05-06T17:47:21.148Z"
   },
   {
    "duration": 188,
    "start_time": "2024-05-06T17:47:21.157Z"
   },
   {
    "duration": 4,
    "start_time": "2024-05-06T17:47:21.347Z"
   },
   {
    "duration": 32,
    "start_time": "2024-05-06T17:47:21.352Z"
   },
   {
    "duration": 43,
    "start_time": "2024-05-06T17:47:21.386Z"
   },
   {
    "duration": 19,
    "start_time": "2024-05-06T17:47:21.430Z"
   },
   {
    "duration": 15,
    "start_time": "2024-05-06T17:47:27.469Z"
   },
   {
    "duration": 194,
    "start_time": "2024-05-06T18:52:51.560Z"
   },
   {
    "duration": 174,
    "start_time": "2024-05-06T18:53:12.527Z"
   },
   {
    "duration": 176,
    "start_time": "2024-05-06T18:53:53.009Z"
   },
   {
    "duration": 180,
    "start_time": "2024-05-06T18:54:08.223Z"
   },
   {
    "duration": 188,
    "start_time": "2024-05-06T18:54:17.088Z"
   },
   {
    "duration": 230,
    "start_time": "2024-05-06T18:54:22.490Z"
   },
   {
    "duration": 178,
    "start_time": "2024-05-06T18:54:40.932Z"
   },
   {
    "duration": 180,
    "start_time": "2024-05-06T18:54:47.073Z"
   },
   {
    "duration": 180,
    "start_time": "2024-05-06T18:56:14.275Z"
   },
   {
    "duration": 177,
    "start_time": "2024-05-06T18:59:31.896Z"
   },
   {
    "duration": 223,
    "start_time": "2024-05-06T19:10:23.812Z"
   },
   {
    "duration": 163,
    "start_time": "2024-05-06T19:11:40.888Z"
   },
   {
    "duration": 219,
    "start_time": "2024-05-06T19:12:00.903Z"
   },
   {
    "duration": 189,
    "start_time": "2024-05-06T19:12:07.350Z"
   },
   {
    "duration": 100,
    "start_time": "2024-05-06T19:13:09.832Z"
   },
   {
    "duration": 100,
    "start_time": "2024-05-06T19:13:16.818Z"
   },
   {
    "duration": 88,
    "start_time": "2024-05-06T19:13:27.972Z"
   },
   {
    "duration": 120,
    "start_time": "2024-05-06T19:13:40.341Z"
   },
   {
    "duration": 110,
    "start_time": "2024-05-06T19:13:49.559Z"
   },
   {
    "duration": 144,
    "start_time": "2024-05-06T19:13:54.943Z"
   },
   {
    "duration": 214,
    "start_time": "2024-05-06T19:14:34.418Z"
   },
   {
    "duration": 95,
    "start_time": "2024-05-06T19:14:41.834Z"
   },
   {
    "duration": 310,
    "start_time": "2024-05-06T19:14:51.043Z"
   },
   {
    "duration": 179,
    "start_time": "2024-05-06T19:15:10.212Z"
   },
   {
    "duration": 102,
    "start_time": "2024-05-06T19:15:36.560Z"
   },
   {
    "duration": 288,
    "start_time": "2024-05-06T19:15:54.557Z"
   },
   {
    "duration": 263,
    "start_time": "2024-05-06T19:16:21.688Z"
   },
   {
    "duration": 182,
    "start_time": "2024-05-06T19:20:30.524Z"
   },
   {
    "duration": 230,
    "start_time": "2024-05-06T19:20:43.400Z"
   },
   {
    "duration": 190,
    "start_time": "2024-05-06T19:21:39.174Z"
   },
   {
    "duration": 177,
    "start_time": "2024-05-06T19:21:47.911Z"
   },
   {
    "duration": 174,
    "start_time": "2024-05-06T19:22:12.406Z"
   },
   {
    "duration": 181,
    "start_time": "2024-05-06T19:44:11.221Z"
   },
   {
    "duration": 10,
    "start_time": "2024-05-06T19:45:19.655Z"
   },
   {
    "duration": 179,
    "start_time": "2024-05-06T19:45:29.233Z"
   },
   {
    "duration": 8,
    "start_time": "2024-05-06T19:46:24.267Z"
   },
   {
    "duration": 10,
    "start_time": "2024-05-06T19:46:38.732Z"
   },
   {
    "duration": 276,
    "start_time": "2024-05-06T19:46:45.133Z"
   },
   {
    "duration": 210,
    "start_time": "2024-05-06T19:46:53.683Z"
   },
   {
    "duration": 207,
    "start_time": "2024-05-06T19:47:04.371Z"
   },
   {
    "duration": 217,
    "start_time": "2024-05-06T19:47:08.979Z"
   },
   {
    "duration": 198,
    "start_time": "2024-05-06T19:47:15.635Z"
   },
   {
    "duration": 10,
    "start_time": "2024-05-06T19:48:00.068Z"
   },
   {
    "duration": 282,
    "start_time": "2024-05-06T19:48:06.205Z"
   },
   {
    "duration": 190,
    "start_time": "2024-05-06T19:48:57.121Z"
   },
   {
    "duration": 194,
    "start_time": "2024-05-06T19:49:03.428Z"
   },
   {
    "duration": 189,
    "start_time": "2024-05-06T19:49:08.260Z"
   },
   {
    "duration": 193,
    "start_time": "2024-05-06T20:06:58.131Z"
   },
   {
    "duration": 205,
    "start_time": "2024-05-06T20:07:14.776Z"
   },
   {
    "duration": 278,
    "start_time": "2024-05-06T20:07:25.575Z"
   },
   {
    "duration": 253,
    "start_time": "2024-05-06T20:22:03.459Z"
   },
   {
    "duration": 53,
    "start_time": "2024-05-06T20:31:34.270Z"
   },
   {
    "duration": 93,
    "start_time": "2024-05-06T20:44:53.429Z"
   },
   {
    "duration": 244,
    "start_time": "2024-05-06T20:54:05.190Z"
   },
   {
    "duration": 673,
    "start_time": "2024-05-07T12:35:33.128Z"
   },
   {
    "duration": 93,
    "start_time": "2024-05-07T12:35:33.802Z"
   },
   {
    "duration": 9,
    "start_time": "2024-05-07T12:35:33.896Z"
   },
   {
    "duration": 19,
    "start_time": "2024-05-07T12:35:33.906Z"
   },
   {
    "duration": 94,
    "start_time": "2024-05-07T12:35:33.927Z"
   },
   {
    "duration": 10,
    "start_time": "2024-05-07T12:35:34.022Z"
   },
   {
    "duration": 9,
    "start_time": "2024-05-07T12:35:34.033Z"
   },
   {
    "duration": 63,
    "start_time": "2024-05-07T12:35:34.043Z"
   },
   {
    "duration": 8,
    "start_time": "2024-05-07T12:35:34.107Z"
   },
   {
    "duration": 14,
    "start_time": "2024-05-07T12:35:34.116Z"
   },
   {
    "duration": 11,
    "start_time": "2024-05-07T12:35:34.131Z"
   },
   {
    "duration": 11,
    "start_time": "2024-05-07T12:35:34.144Z"
   },
   {
    "duration": 3,
    "start_time": "2024-05-07T12:35:34.156Z"
   },
   {
    "duration": 3,
    "start_time": "2024-05-07T12:35:34.162Z"
   },
   {
    "duration": 11,
    "start_time": "2024-05-07T12:35:34.166Z"
   },
   {
    "duration": 162,
    "start_time": "2024-05-07T12:35:34.177Z"
   },
   {
    "duration": 5,
    "start_time": "2024-05-07T12:35:34.341Z"
   },
   {
    "duration": 6,
    "start_time": "2024-05-07T12:35:34.347Z"
   },
   {
    "duration": 69,
    "start_time": "2024-05-07T12:35:34.354Z"
   },
   {
    "duration": 8,
    "start_time": "2024-05-07T12:35:34.424Z"
   },
   {
    "duration": 142,
    "start_time": "2024-05-07T12:35:34.433Z"
   },
   {
    "duration": 8,
    "start_time": "2024-05-07T12:35:34.576Z"
   },
   {
    "duration": 153,
    "start_time": "2024-05-07T12:35:34.585Z"
   },
   {
    "duration": 9,
    "start_time": "2024-05-07T12:35:34.739Z"
   },
   {
    "duration": 205,
    "start_time": "2024-05-07T12:35:34.749Z"
   },
   {
    "duration": 4,
    "start_time": "2024-05-07T12:35:34.956Z"
   },
   {
    "duration": 8,
    "start_time": "2024-05-07T12:35:34.961Z"
   },
   {
    "duration": 32,
    "start_time": "2024-05-07T12:35:34.970Z"
   },
   {
    "duration": 18,
    "start_time": "2024-05-07T12:35:35.004Z"
   },
   {
    "duration": 16,
    "start_time": "2024-05-07T12:35:35.023Z"
   },
   {
    "duration": 271,
    "start_time": "2024-05-07T12:35:35.040Z"
   },
   {
    "duration": 98,
    "start_time": "2024-05-07T12:35:35.313Z"
   },
   {
    "duration": 250,
    "start_time": "2024-05-07T12:35:35.413Z"
   },
   {
    "duration": 102,
    "start_time": "2024-05-07T12:35:35.664Z"
   },
   {
    "duration": 285,
    "start_time": "2024-05-07T13:02:08.495Z"
   },
   {
    "duration": 551,
    "start_time": "2024-05-07T18:58:41.681Z"
   },
   {
    "duration": 35,
    "start_time": "2024-05-07T18:58:42.234Z"
   },
   {
    "duration": 9,
    "start_time": "2024-05-07T18:58:42.270Z"
   },
   {
    "duration": 26,
    "start_time": "2024-05-07T18:58:42.281Z"
   },
   {
    "duration": 47,
    "start_time": "2024-05-07T18:58:42.308Z"
   },
   {
    "duration": 9,
    "start_time": "2024-05-07T18:58:42.356Z"
   },
   {
    "duration": 9,
    "start_time": "2024-05-07T18:58:42.366Z"
   },
   {
    "duration": 31,
    "start_time": "2024-05-07T18:58:42.377Z"
   },
   {
    "duration": 8,
    "start_time": "2024-05-07T18:58:42.409Z"
   },
   {
    "duration": 20,
    "start_time": "2024-05-07T18:58:42.420Z"
   },
   {
    "duration": 27,
    "start_time": "2024-05-07T18:58:42.441Z"
   },
   {
    "duration": 30,
    "start_time": "2024-05-07T18:58:42.469Z"
   },
   {
    "duration": 5,
    "start_time": "2024-05-07T18:58:42.500Z"
   },
   {
    "duration": 16,
    "start_time": "2024-05-07T18:58:42.506Z"
   },
   {
    "duration": 31,
    "start_time": "2024-05-07T18:58:42.523Z"
   },
   {
    "duration": 176,
    "start_time": "2024-05-07T18:58:42.555Z"
   },
   {
    "duration": 4,
    "start_time": "2024-05-07T18:58:42.733Z"
   },
   {
    "duration": 18,
    "start_time": "2024-05-07T18:58:42.739Z"
   },
   {
    "duration": 63,
    "start_time": "2024-05-07T18:58:42.758Z"
   },
   {
    "duration": 8,
    "start_time": "2024-05-07T18:58:42.822Z"
   },
   {
    "duration": 125,
    "start_time": "2024-05-07T18:58:42.832Z"
   },
   {
    "duration": 8,
    "start_time": "2024-05-07T18:58:42.958Z"
   },
   {
    "duration": 140,
    "start_time": "2024-05-07T18:58:42.967Z"
   },
   {
    "duration": 9,
    "start_time": "2024-05-07T18:58:43.108Z"
   },
   {
    "duration": 208,
    "start_time": "2024-05-07T18:58:43.118Z"
   },
   {
    "duration": 5,
    "start_time": "2024-05-07T18:58:43.328Z"
   },
   {
    "duration": 19,
    "start_time": "2024-05-07T18:58:43.334Z"
   },
   {
    "duration": 43,
    "start_time": "2024-05-07T18:58:43.357Z"
   },
   {
    "duration": 19,
    "start_time": "2024-05-07T18:58:43.402Z"
   },
   {
    "duration": 25,
    "start_time": "2024-05-07T18:58:43.423Z"
   },
   {
    "duration": 247,
    "start_time": "2024-05-07T18:58:43.449Z"
   },
   {
    "duration": 103,
    "start_time": "2024-05-07T18:58:43.698Z"
   },
   {
    "duration": 256,
    "start_time": "2024-05-07T18:58:43.803Z"
   },
   {
    "duration": 111,
    "start_time": "2024-05-07T18:58:44.060Z"
   },
   {
    "duration": 304,
    "start_time": "2024-05-07T18:58:44.172Z"
   },
   {
    "duration": 70,
    "start_time": "2024-05-07T18:58:48.829Z"
   },
   {
    "duration": 722,
    "start_time": "2024-05-07T19:00:45.476Z"
   },
   {
    "duration": 732,
    "start_time": "2024-05-07T19:01:42.410Z"
   },
   {
    "duration": 745,
    "start_time": "2024-05-07T19:02:34.933Z"
   },
   {
    "duration": 790,
    "start_time": "2024-05-07T19:44:29.950Z"
   },
   {
    "duration": 860,
    "start_time": "2024-05-07T20:53:42.676Z"
   },
   {
    "duration": 789,
    "start_time": "2024-05-07T20:53:51.071Z"
   },
   {
    "duration": 778,
    "start_time": "2024-05-07T20:59:40.847Z"
   },
   {
    "duration": 808,
    "start_time": "2024-05-07T21:01:09.505Z"
   },
   {
    "duration": 823,
    "start_time": "2024-05-07T21:01:25.520Z"
   },
   {
    "duration": 851,
    "start_time": "2024-05-07T23:23:25.409Z"
   },
   {
    "duration": 885,
    "start_time": "2024-05-07T23:25:20.936Z"
   },
   {
    "duration": 5,
    "start_time": "2024-05-07T23:26:42.685Z"
   },
   {
    "duration": 966,
    "start_time": "2024-05-07T23:33:06.433Z"
   },
   {
    "duration": 793,
    "start_time": "2024-05-07T23:33:31.412Z"
   },
   {
    "duration": 16,
    "start_time": "2024-05-07T23:34:44.574Z"
   },
   {
    "duration": 85,
    "start_time": "2024-05-07T23:39:31.179Z"
   },
   {
    "duration": 29,
    "start_time": "2024-05-07T23:39:36.110Z"
   },
   {
    "duration": 27,
    "start_time": "2024-05-07T23:39:58.108Z"
   },
   {
    "duration": 56,
    "start_time": "2024-05-07T23:41:53.125Z"
   },
   {
    "duration": 49,
    "start_time": "2024-05-08T10:16:16.862Z"
   },
   {
    "duration": 1261,
    "start_time": "2024-05-08T10:16:46.057Z"
   },
   {
    "duration": 86,
    "start_time": "2024-05-08T10:16:47.320Z"
   },
   {
    "duration": 11,
    "start_time": "2024-05-08T10:16:47.408Z"
   },
   {
    "duration": 7,
    "start_time": "2024-05-08T10:16:47.420Z"
   },
   {
    "duration": 87,
    "start_time": "2024-05-08T10:16:47.429Z"
   },
   {
    "duration": 13,
    "start_time": "2024-05-08T10:16:47.518Z"
   },
   {
    "duration": 8,
    "start_time": "2024-05-08T10:16:47.533Z"
   },
   {
    "duration": 65,
    "start_time": "2024-05-08T10:16:47.542Z"
   },
   {
    "duration": 9,
    "start_time": "2024-05-08T10:16:47.609Z"
   },
   {
    "duration": 10,
    "start_time": "2024-05-08T10:16:47.619Z"
   },
   {
    "duration": 18,
    "start_time": "2024-05-08T10:16:47.630Z"
   },
   {
    "duration": 17,
    "start_time": "2024-05-08T10:16:47.649Z"
   },
   {
    "duration": 5,
    "start_time": "2024-05-08T10:16:47.667Z"
   },
   {
    "duration": 7,
    "start_time": "2024-05-08T10:16:47.674Z"
   },
   {
    "duration": 25,
    "start_time": "2024-05-08T10:16:47.683Z"
   },
   {
    "duration": 185,
    "start_time": "2024-05-08T10:16:47.709Z"
   },
   {
    "duration": 5,
    "start_time": "2024-05-08T10:16:47.896Z"
   },
   {
    "duration": 10,
    "start_time": "2024-05-08T10:16:47.902Z"
   },
   {
    "duration": 97,
    "start_time": "2024-05-08T10:16:47.913Z"
   },
   {
    "duration": 11,
    "start_time": "2024-05-08T10:16:48.012Z"
   },
   {
    "duration": 160,
    "start_time": "2024-05-08T10:16:48.025Z"
   },
   {
    "duration": 10,
    "start_time": "2024-05-08T10:16:48.187Z"
   },
   {
    "duration": 194,
    "start_time": "2024-05-08T10:16:48.199Z"
   },
   {
    "duration": 10,
    "start_time": "2024-05-08T10:16:48.395Z"
   },
   {
    "duration": 185,
    "start_time": "2024-05-08T10:16:48.406Z"
   },
   {
    "duration": 6,
    "start_time": "2024-05-08T10:16:48.592Z"
   },
   {
    "duration": 22,
    "start_time": "2024-05-08T10:16:48.599Z"
   },
   {
    "duration": 30,
    "start_time": "2024-05-08T10:16:48.622Z"
   },
   {
    "duration": 19,
    "start_time": "2024-05-08T10:16:48.654Z"
   },
   {
    "duration": 18,
    "start_time": "2024-05-08T10:16:48.674Z"
   },
   {
    "duration": 310,
    "start_time": "2024-05-08T10:16:48.693Z"
   },
   {
    "duration": 122,
    "start_time": "2024-05-08T10:16:49.005Z"
   },
   {
    "duration": 381,
    "start_time": "2024-05-08T10:16:49.128Z"
   },
   {
    "duration": 120,
    "start_time": "2024-05-08T10:16:49.510Z"
   },
   {
    "duration": 331,
    "start_time": "2024-05-08T10:16:49.631Z"
   },
   {
    "duration": 824,
    "start_time": "2024-05-08T10:16:49.964Z"
   },
   {
    "duration": 38,
    "start_time": "2024-05-08T10:16:50.790Z"
   },
   {
    "duration": 89,
    "start_time": "2024-05-08T10:16:53.990Z"
   },
   {
    "duration": 9,
    "start_time": "2024-05-08T10:19:39.594Z"
   },
   {
    "duration": 7,
    "start_time": "2024-05-08T10:19:53.106Z"
   },
   {
    "duration": 6,
    "start_time": "2024-05-08T11:54:27.754Z"
   },
   {
    "duration": 5,
    "start_time": "2024-05-08T11:54:30.809Z"
   },
   {
    "duration": 6,
    "start_time": "2024-05-08T12:04:43.418Z"
   },
   {
    "duration": 5,
    "start_time": "2024-05-08T12:04:46.035Z"
   },
   {
    "duration": 746,
    "start_time": "2024-05-08T12:12:59.153Z"
   },
   {
    "duration": 46,
    "start_time": "2024-05-08T12:17:31.667Z"
   },
   {
    "duration": 8,
    "start_time": "2024-05-08T12:18:29.777Z"
   },
   {
    "duration": 109,
    "start_time": "2024-05-08T13:53:50.084Z"
   },
   {
    "duration": 162,
    "start_time": "2024-05-08T13:55:07.171Z"
   },
   {
    "duration": 160,
    "start_time": "2024-05-08T13:55:34.432Z"
   },
   {
    "duration": 146,
    "start_time": "2024-05-08T13:55:45.102Z"
   },
   {
    "duration": 134,
    "start_time": "2024-05-08T13:55:55.737Z"
   },
   {
    "duration": 224,
    "start_time": "2024-05-08T13:56:07.946Z"
   },
   {
    "duration": 146,
    "start_time": "2024-05-08T13:56:17.399Z"
   },
   {
    "duration": 136,
    "start_time": "2024-05-08T13:56:24.119Z"
   },
   {
    "duration": 178,
    "start_time": "2024-05-08T13:58:52.370Z"
   },
   {
    "duration": 198,
    "start_time": "2024-05-08T14:21:01.381Z"
   },
   {
    "duration": 169,
    "start_time": "2024-05-08T14:21:08.414Z"
   },
   {
    "duration": 157,
    "start_time": "2024-05-08T14:21:35.433Z"
   },
   {
    "duration": 64,
    "start_time": "2024-05-08T14:23:37.290Z"
   },
   {
    "duration": 67,
    "start_time": "2024-05-08T14:23:44.354Z"
   },
   {
    "duration": 69,
    "start_time": "2024-05-08T14:26:06.907Z"
   },
   {
    "duration": 71,
    "start_time": "2024-05-08T14:26:21.427Z"
   },
   {
    "duration": 166,
    "start_time": "2024-05-08T14:26:28.161Z"
   },
   {
    "duration": 70,
    "start_time": "2024-05-08T14:26:39.194Z"
   },
   {
    "duration": 73,
    "start_time": "2024-05-08T14:29:44.152Z"
   },
   {
    "duration": 78,
    "start_time": "2024-05-08T14:30:17.027Z"
   },
   {
    "duration": 80,
    "start_time": "2024-05-08T14:33:23.245Z"
   },
   {
    "duration": 93,
    "start_time": "2024-05-08T14:33:57.767Z"
   },
   {
    "duration": 80,
    "start_time": "2024-05-08T14:35:21.617Z"
   },
   {
    "duration": 157,
    "start_time": "2024-05-08T14:37:28.289Z"
   },
   {
    "duration": 54,
    "start_time": "2024-05-08T14:37:58.206Z"
   },
   {
    "duration": 154,
    "start_time": "2024-05-08T14:38:03.904Z"
   },
   {
    "duration": 170,
    "start_time": "2024-05-08T14:39:16.662Z"
   },
   {
    "duration": 155,
    "start_time": "2024-05-08T14:39:29.731Z"
   },
   {
    "duration": 156,
    "start_time": "2024-05-08T14:39:52.414Z"
   },
   {
    "duration": 151,
    "start_time": "2024-05-08T14:40:44.339Z"
   },
   {
    "duration": 81,
    "start_time": "2024-05-08T14:40:59.535Z"
   },
   {
    "duration": 82,
    "start_time": "2024-05-08T14:57:51.918Z"
   },
   {
    "duration": 79,
    "start_time": "2024-05-08T14:58:22.822Z"
   },
   {
    "duration": 77,
    "start_time": "2024-05-08T14:58:45.219Z"
   },
   {
    "duration": 165,
    "start_time": "2024-05-08T14:59:27.628Z"
   },
   {
    "duration": 147,
    "start_time": "2024-05-08T14:59:46.351Z"
   },
   {
    "duration": 154,
    "start_time": "2024-05-08T15:00:04.350Z"
   },
   {
    "duration": 157,
    "start_time": "2024-05-08T18:24:40.070Z"
   },
   {
    "duration": 148,
    "start_time": "2024-05-08T18:24:55.185Z"
   },
   {
    "duration": 77,
    "start_time": "2024-05-08T18:25:08.057Z"
   },
   {
    "duration": 150,
    "start_time": "2024-05-08T18:25:15.806Z"
   },
   {
    "duration": 175,
    "start_time": "2024-05-08T18:25:25.334Z"
   },
   {
    "duration": 146,
    "start_time": "2024-05-08T18:25:38.965Z"
   },
   {
    "duration": 158,
    "start_time": "2024-05-08T18:25:58.762Z"
   },
   {
    "duration": 154,
    "start_time": "2024-05-08T18:26:17.197Z"
   },
   {
    "duration": 128,
    "start_time": "2024-05-08T18:26:22.808Z"
   },
   {
    "duration": 183,
    "start_time": "2024-05-08T18:26:28.103Z"
   },
   {
    "duration": 142,
    "start_time": "2024-05-08T18:26:42.165Z"
   },
   {
    "duration": 150,
    "start_time": "2024-05-08T18:26:50.066Z"
   },
   {
    "duration": 154,
    "start_time": "2024-05-08T18:27:12.198Z"
   },
   {
    "duration": 74,
    "start_time": "2024-05-08T18:27:25.554Z"
   },
   {
    "duration": 167,
    "start_time": "2024-05-08T18:27:33.055Z"
   },
   {
    "duration": 201,
    "start_time": "2024-05-08T18:28:08.417Z"
   },
   {
    "duration": 126,
    "start_time": "2024-05-08T18:28:15.239Z"
   },
   {
    "duration": 113,
    "start_time": "2024-05-08T18:28:20.433Z"
   },
   {
    "duration": 108,
    "start_time": "2024-05-08T18:28:26.775Z"
   },
   {
    "duration": 173,
    "start_time": "2024-05-08T18:28:29.951Z"
   },
   {
    "duration": 158,
    "start_time": "2024-05-08T18:29:42.861Z"
   },
   {
    "duration": 164,
    "start_time": "2024-05-08T18:30:47.847Z"
   },
   {
    "duration": 157,
    "start_time": "2024-05-08T18:30:59.570Z"
   },
   {
    "duration": 194,
    "start_time": "2024-05-08T18:32:37.781Z"
   },
   {
    "duration": 202,
    "start_time": "2024-05-08T18:32:52.377Z"
   },
   {
    "duration": 261,
    "start_time": "2024-05-08T18:34:03.956Z"
   },
   {
    "duration": 176,
    "start_time": "2024-05-08T18:34:22.118Z"
   },
   {
    "duration": 75,
    "start_time": "2024-05-08T18:35:32.852Z"
   },
   {
    "duration": 85,
    "start_time": "2024-05-08T18:35:40.620Z"
   },
   {
    "duration": 72,
    "start_time": "2024-05-08T18:35:48.315Z"
   },
   {
    "duration": 13,
    "start_time": "2024-05-08T18:36:25.773Z"
   },
   {
    "duration": 162,
    "start_time": "2024-05-08T18:38:56.712Z"
   },
   {
    "duration": 293,
    "start_time": "2024-05-08T18:39:13.817Z"
   },
   {
    "duration": 312,
    "start_time": "2024-05-08T18:39:37.081Z"
   },
   {
    "duration": 383,
    "start_time": "2024-05-08T18:39:52.601Z"
   },
   {
    "duration": 279,
    "start_time": "2024-05-08T18:40:38.242Z"
   },
   {
    "duration": 302,
    "start_time": "2024-05-08T18:41:05.127Z"
   },
   {
    "duration": 120,
    "start_time": "2024-05-08T20:17:47.182Z"
   },
   {
    "duration": 300,
    "start_time": "2024-05-08T20:18:01.412Z"
   },
   {
    "duration": 325,
    "start_time": "2024-05-08T20:19:53.055Z"
   },
   {
    "duration": 1141,
    "start_time": "2024-05-09T11:37:47.980Z"
   },
   {
    "duration": 83,
    "start_time": "2024-05-09T11:37:49.123Z"
   },
   {
    "duration": 10,
    "start_time": "2024-05-09T11:37:49.207Z"
   },
   {
    "duration": 6,
    "start_time": "2024-05-09T11:37:49.218Z"
   },
   {
    "duration": 82,
    "start_time": "2024-05-09T11:37:49.225Z"
   },
   {
    "duration": 9,
    "start_time": "2024-05-09T11:37:49.309Z"
   },
   {
    "duration": 7,
    "start_time": "2024-05-09T11:37:49.320Z"
   },
   {
    "duration": 63,
    "start_time": "2024-05-09T11:37:49.329Z"
   },
   {
    "duration": 9,
    "start_time": "2024-05-09T11:37:49.393Z"
   },
   {
    "duration": 5,
    "start_time": "2024-05-09T11:37:49.403Z"
   },
   {
    "duration": 8,
    "start_time": "2024-05-09T11:37:49.410Z"
   },
   {
    "duration": 16,
    "start_time": "2024-05-09T11:37:49.419Z"
   },
   {
    "duration": 5,
    "start_time": "2024-05-09T11:37:49.436Z"
   },
   {
    "duration": 6,
    "start_time": "2024-05-09T11:37:49.443Z"
   },
   {
    "duration": 12,
    "start_time": "2024-05-09T11:37:49.451Z"
   },
   {
    "duration": 184,
    "start_time": "2024-05-09T11:37:49.465Z"
   },
   {
    "duration": 6,
    "start_time": "2024-05-09T11:37:49.651Z"
   },
   {
    "duration": 13,
    "start_time": "2024-05-09T11:37:49.658Z"
   },
   {
    "duration": 82,
    "start_time": "2024-05-09T11:37:49.672Z"
   },
   {
    "duration": 9,
    "start_time": "2024-05-09T11:37:49.756Z"
   },
   {
    "duration": 163,
    "start_time": "2024-05-09T11:37:49.767Z"
   },
   {
    "duration": 17,
    "start_time": "2024-05-09T11:37:49.931Z"
   },
   {
    "duration": 186,
    "start_time": "2024-05-09T11:37:49.949Z"
   },
   {
    "duration": 14,
    "start_time": "2024-05-09T11:37:50.136Z"
   },
   {
    "duration": 187,
    "start_time": "2024-05-09T11:37:50.151Z"
   },
   {
    "duration": 8,
    "start_time": "2024-05-09T11:37:50.339Z"
   },
   {
    "duration": 8,
    "start_time": "2024-05-09T11:37:50.349Z"
   },
   {
    "duration": 26,
    "start_time": "2024-05-09T11:37:50.359Z"
   },
   {
    "duration": 17,
    "start_time": "2024-05-09T11:37:50.386Z"
   },
   {
    "duration": 40,
    "start_time": "2024-05-09T11:37:50.405Z"
   },
   {
    "duration": 266,
    "start_time": "2024-05-09T11:37:50.447Z"
   },
   {
    "duration": 123,
    "start_time": "2024-05-09T11:37:50.714Z"
   },
   {
    "duration": 363,
    "start_time": "2024-05-09T11:37:50.839Z"
   },
   {
    "duration": 115,
    "start_time": "2024-05-09T11:37:51.204Z"
   },
   {
    "duration": 337,
    "start_time": "2024-05-09T11:37:51.321Z"
   },
   {
    "duration": 745,
    "start_time": "2024-05-09T11:37:51.660Z"
   },
   {
    "duration": 40,
    "start_time": "2024-05-09T11:37:52.407Z"
   },
   {
    "duration": 6,
    "start_time": "2024-05-09T11:37:52.448Z"
   },
   {
    "duration": 8,
    "start_time": "2024-05-09T11:37:52.456Z"
   },
   {
    "duration": 8,
    "start_time": "2024-05-09T11:37:52.465Z"
   },
   {
    "duration": 67,
    "start_time": "2024-05-09T11:40:18.457Z"
   },
   {
    "duration": 16,
    "start_time": "2024-05-09T11:41:42.862Z"
   },
   {
    "duration": 1319,
    "start_time": "2024-05-09T22:15:38.320Z"
   },
   {
    "duration": 102,
    "start_time": "2024-05-09T22:15:57.218Z"
   },
   {
    "duration": 14,
    "start_time": "2024-05-09T22:15:59.224Z"
   },
   {
    "duration": 207,
    "start_time": "2024-05-09T23:08:46.748Z"
   },
   {
    "duration": 77,
    "start_time": "2024-05-09T23:09:48.147Z"
   },
   {
    "duration": 110,
    "start_time": "2024-05-09T23:12:25.585Z"
   },
   {
    "duration": 1126,
    "start_time": "2024-05-09T23:12:49.542Z"
   },
   {
    "duration": 29,
    "start_time": "2024-05-09T23:12:50.670Z"
   },
   {
    "duration": 15,
    "start_time": "2024-05-09T23:12:50.701Z"
   },
   {
    "duration": 18,
    "start_time": "2024-05-09T23:12:50.718Z"
   },
   {
    "duration": 31,
    "start_time": "2024-05-09T23:12:50.738Z"
   },
   {
    "duration": 188,
    "start_time": "2024-05-09T23:12:50.771Z"
   },
   {
    "duration": 11,
    "start_time": "2024-05-09T23:12:50.960Z"
   },
   {
    "duration": 43,
    "start_time": "2024-05-09T23:12:50.972Z"
   },
   {
    "duration": 72,
    "start_time": "2024-05-09T23:12:51.016Z"
   },
   {
    "duration": 10,
    "start_time": "2024-05-09T23:12:51.090Z"
   },
   {
    "duration": 34,
    "start_time": "2024-05-09T23:12:51.101Z"
   },
   {
    "duration": 59,
    "start_time": "2024-05-09T23:12:51.137Z"
   },
   {
    "duration": 23,
    "start_time": "2024-05-09T23:12:51.198Z"
   },
   {
    "duration": 6,
    "start_time": "2024-05-09T23:12:51.226Z"
   },
   {
    "duration": 39,
    "start_time": "2024-05-09T23:12:51.234Z"
   },
   {
    "duration": 41,
    "start_time": "2024-05-09T23:12:51.275Z"
   },
   {
    "duration": 266,
    "start_time": "2024-05-09T23:12:51.317Z"
   },
   {
    "duration": 5,
    "start_time": "2024-05-09T23:12:51.593Z"
   },
   {
    "duration": 10,
    "start_time": "2024-05-09T23:12:51.600Z"
   },
   {
    "duration": 84,
    "start_time": "2024-05-09T23:12:51.611Z"
   },
   {
    "duration": 76,
    "start_time": "2024-05-09T23:12:51.697Z"
   },
   {
    "duration": 26,
    "start_time": "2024-05-09T23:12:51.775Z"
   },
   {
    "duration": 191,
    "start_time": "2024-05-09T23:12:51.802Z"
   },
   {
    "duration": 11,
    "start_time": "2024-05-09T23:12:51.994Z"
   },
   {
    "duration": 227,
    "start_time": "2024-05-09T23:12:52.006Z"
   },
   {
    "duration": 11,
    "start_time": "2024-05-09T23:12:52.235Z"
   },
   {
    "duration": 222,
    "start_time": "2024-05-09T23:12:52.248Z"
   },
   {
    "duration": 5,
    "start_time": "2024-05-09T23:12:52.472Z"
   },
   {
    "duration": 22,
    "start_time": "2024-05-09T23:12:52.479Z"
   },
   {
    "duration": 37,
    "start_time": "2024-05-09T23:12:52.502Z"
   },
   {
    "duration": 22,
    "start_time": "2024-05-09T23:12:52.541Z"
   },
   {
    "duration": 34,
    "start_time": "2024-05-09T23:12:52.564Z"
   },
   {
    "duration": 334,
    "start_time": "2024-05-09T23:12:55.316Z"
   },
   {
    "duration": 1134,
    "start_time": "2024-05-10T10:55:17.675Z"
   },
   {
    "duration": 103,
    "start_time": "2024-05-10T10:55:18.810Z"
   },
   {
    "duration": 12,
    "start_time": "2024-05-10T10:55:18.914Z"
   },
   {
    "duration": 8,
    "start_time": "2024-05-10T10:55:18.928Z"
   },
   {
    "duration": 5,
    "start_time": "2024-05-10T10:55:18.937Z"
   },
   {
    "duration": 142,
    "start_time": "2024-05-10T10:55:18.943Z"
   },
   {
    "duration": 9,
    "start_time": "2024-05-10T10:55:19.086Z"
   },
   {
    "duration": 6,
    "start_time": "2024-05-10T10:55:19.097Z"
   },
   {
    "duration": 71,
    "start_time": "2024-05-10T10:55:19.104Z"
   },
   {
    "duration": 9,
    "start_time": "2024-05-10T10:55:19.177Z"
   },
   {
    "duration": 14,
    "start_time": "2024-05-10T10:55:19.187Z"
   },
   {
    "duration": 13,
    "start_time": "2024-05-10T10:55:19.203Z"
   },
   {
    "duration": 11,
    "start_time": "2024-05-10T10:55:19.217Z"
   },
   {
    "duration": 48,
    "start_time": "2024-05-10T10:55:19.229Z"
   },
   {
    "duration": 36,
    "start_time": "2024-05-10T10:55:19.278Z"
   },
   {
    "duration": 53,
    "start_time": "2024-05-10T10:55:19.315Z"
   },
   {
    "duration": 158,
    "start_time": "2024-05-10T10:55:19.370Z"
   },
   {
    "duration": 4,
    "start_time": "2024-05-10T10:55:19.530Z"
   },
   {
    "duration": 40,
    "start_time": "2024-05-10T10:55:19.535Z"
   },
   {
    "duration": 65,
    "start_time": "2024-05-10T10:55:19.577Z"
   },
   {
    "duration": 65,
    "start_time": "2024-05-10T10:55:19.644Z"
   },
   {
    "duration": 9,
    "start_time": "2024-05-10T10:55:19.710Z"
   },
   {
    "duration": 156,
    "start_time": "2024-05-10T10:55:19.720Z"
   },
   {
    "duration": 13,
    "start_time": "2024-05-10T10:55:19.878Z"
   },
   {
    "duration": 177,
    "start_time": "2024-05-10T10:55:19.892Z"
   },
   {
    "duration": 16,
    "start_time": "2024-05-10T10:55:20.070Z"
   },
   {
    "duration": 166,
    "start_time": "2024-05-10T10:55:20.088Z"
   },
   {
    "duration": 5,
    "start_time": "2024-05-10T10:55:20.258Z"
   },
   {
    "duration": 11,
    "start_time": "2024-05-10T10:55:20.264Z"
   },
   {
    "duration": 34,
    "start_time": "2024-05-10T10:55:20.284Z"
   },
   {
    "duration": 18,
    "start_time": "2024-05-10T10:55:20.319Z"
   },
   {
    "duration": 16,
    "start_time": "2024-05-10T10:55:20.338Z"
   },
   {
    "duration": 262,
    "start_time": "2024-05-10T10:55:20.356Z"
   },
   {
    "duration": 148,
    "start_time": "2024-05-10T10:55:23.202Z"
   },
   {
    "duration": 108,
    "start_time": "2024-05-10T10:55:45.649Z"
   },
   {
    "duration": 108,
    "start_time": "2024-05-10T11:00:47.089Z"
   },
   {
    "duration": 116,
    "start_time": "2024-05-10T11:00:52.383Z"
   },
   {
    "duration": 256,
    "start_time": "2024-05-10T11:01:31.101Z"
   },
   {
    "duration": 110,
    "start_time": "2024-05-10T11:40:32.923Z"
   },
   {
    "duration": 115,
    "start_time": "2024-05-10T11:40:48.638Z"
   },
   {
    "duration": 89,
    "start_time": "2024-05-10T12:00:07.066Z"
   },
   {
    "duration": 13,
    "start_time": "2024-05-10T12:02:44.814Z"
   },
   {
    "duration": 132,
    "start_time": "2024-05-10T12:03:09.335Z"
   },
   {
    "duration": 84,
    "start_time": "2024-05-10T12:23:28.857Z"
   },
   {
    "duration": 94,
    "start_time": "2024-05-10T12:25:40.246Z"
   },
   {
    "duration": 161,
    "start_time": "2024-05-10T12:26:02.923Z"
   },
   {
    "duration": 105,
    "start_time": "2024-05-10T12:28:06.986Z"
   },
   {
    "duration": 104,
    "start_time": "2024-05-10T12:55:39.587Z"
   },
   {
    "duration": 113,
    "start_time": "2024-05-10T12:56:02.639Z"
   },
   {
    "duration": 11,
    "start_time": "2024-05-10T12:57:47.364Z"
   },
   {
    "duration": 87,
    "start_time": "2024-05-10T12:58:06.643Z"
   },
   {
    "duration": 121,
    "start_time": "2024-05-10T13:37:56.978Z"
   },
   {
    "duration": 7,
    "start_time": "2024-05-10T13:57:16.619Z"
   },
   {
    "duration": 4,
    "start_time": "2024-05-10T13:57:35.534Z"
   },
   {
    "duration": 7,
    "start_time": "2024-05-10T14:25:35.841Z"
   },
   {
    "duration": 6,
    "start_time": "2024-05-10T14:25:53.739Z"
   },
   {
    "duration": 8,
    "start_time": "2024-05-10T14:26:02.275Z"
   },
   {
    "duration": 9,
    "start_time": "2024-05-10T14:27:24.670Z"
   },
   {
    "duration": 8,
    "start_time": "2024-05-10T14:27:33.298Z"
   },
   {
    "duration": 7,
    "start_time": "2024-05-10T14:27:45.534Z"
   },
   {
    "duration": 7,
    "start_time": "2024-05-10T14:32:46.880Z"
   },
   {
    "duration": 112,
    "start_time": "2024-05-10T14:55:09.546Z"
   },
   {
    "duration": 7,
    "start_time": "2024-05-10T15:31:29.065Z"
   },
   {
    "duration": 3,
    "start_time": "2024-05-10T15:31:43.576Z"
   },
   {
    "duration": 4,
    "start_time": "2024-05-10T15:32:45.008Z"
   },
   {
    "duration": 7,
    "start_time": "2024-05-10T15:33:53.610Z"
   },
   {
    "duration": 4,
    "start_time": "2024-05-10T15:34:19.083Z"
   },
   {
    "duration": 2,
    "start_time": "2024-05-10T15:34:26.423Z"
   },
   {
    "duration": 3,
    "start_time": "2024-05-10T15:34:42.262Z"
   },
   {
    "duration": 7,
    "start_time": "2024-05-10T16:17:30.644Z"
   },
   {
    "duration": 942,
    "start_time": "2024-05-10T16:17:42.342Z"
   },
   {
    "duration": 28,
    "start_time": "2024-05-10T16:17:43.286Z"
   },
   {
    "duration": 12,
    "start_time": "2024-05-10T16:17:43.315Z"
   },
   {
    "duration": 8,
    "start_time": "2024-05-10T16:17:43.329Z"
   },
   {
    "duration": 16,
    "start_time": "2024-05-10T16:17:43.339Z"
   },
   {
    "duration": 30,
    "start_time": "2024-05-10T16:17:43.356Z"
   },
   {
    "duration": 11,
    "start_time": "2024-05-10T16:17:43.388Z"
   },
   {
    "duration": 12,
    "start_time": "2024-05-10T16:17:43.400Z"
   },
   {
    "duration": 24,
    "start_time": "2024-05-10T16:17:43.413Z"
   },
   {
    "duration": 8,
    "start_time": "2024-05-10T16:17:43.439Z"
   },
   {
    "duration": 7,
    "start_time": "2024-05-10T16:17:43.448Z"
   },
   {
    "duration": 13,
    "start_time": "2024-05-10T16:17:43.456Z"
   },
   {
    "duration": 3,
    "start_time": "2024-05-10T16:17:43.470Z"
   },
   {
    "duration": 11,
    "start_time": "2024-05-10T16:17:43.484Z"
   },
   {
    "duration": 4,
    "start_time": "2024-05-10T16:17:43.497Z"
   },
   {
    "duration": 8,
    "start_time": "2024-05-10T16:17:43.503Z"
   },
   {
    "duration": 12,
    "start_time": "2024-05-10T16:17:43.512Z"
   },
   {
    "duration": 143,
    "start_time": "2024-05-10T16:17:43.525Z"
   },
   {
    "duration": 5,
    "start_time": "2024-05-10T16:17:43.669Z"
   },
   {
    "duration": 11,
    "start_time": "2024-05-10T16:17:43.675Z"
   },
   {
    "duration": 77,
    "start_time": "2024-05-10T16:17:43.688Z"
   },
   {
    "duration": 62,
    "start_time": "2024-05-10T16:17:43.766Z"
   },
   {
    "duration": 8,
    "start_time": "2024-05-10T16:17:43.829Z"
   },
   {
    "duration": 148,
    "start_time": "2024-05-10T16:17:43.838Z"
   },
   {
    "duration": 85,
    "start_time": "2024-05-10T16:17:43.987Z"
   },
   {
    "duration": 8,
    "start_time": "2024-05-10T16:17:44.084Z"
   },
   {
    "duration": 166,
    "start_time": "2024-05-10T16:17:44.093Z"
   },
   {
    "duration": 105,
    "start_time": "2024-05-10T16:17:44.261Z"
   },
   {
    "duration": 8,
    "start_time": "2024-05-10T16:17:44.367Z"
   },
   {
    "duration": 161,
    "start_time": "2024-05-10T16:17:44.384Z"
   },
   {
    "duration": 160,
    "start_time": "2024-05-10T16:17:44.547Z"
   },
   {
    "duration": 5,
    "start_time": "2024-05-10T16:17:44.708Z"
   },
   {
    "duration": 20,
    "start_time": "2024-05-10T16:17:44.714Z"
   },
   {
    "duration": 3,
    "start_time": "2024-05-10T16:17:44.735Z"
   },
   {
    "duration": 26,
    "start_time": "2024-05-10T16:17:44.739Z"
   },
   {
    "duration": 2,
    "start_time": "2024-05-10T16:17:44.766Z"
   },
   {
    "duration": 22,
    "start_time": "2024-05-10T16:17:44.769Z"
   },
   {
    "duration": 15,
    "start_time": "2024-05-10T16:17:44.792Z"
   },
   {
    "duration": 250,
    "start_time": "2024-05-10T16:17:44.808Z"
   },
   {
    "duration": 121,
    "start_time": "2024-05-10T16:17:45.059Z"
   },
   {
    "duration": 256,
    "start_time": "2024-05-10T16:17:45.184Z"
   },
   {
    "duration": 118,
    "start_time": "2024-05-10T16:17:45.442Z"
   },
   {
    "duration": 327,
    "start_time": "2024-05-10T16:17:45.562Z"
   },
   {
    "duration": 734,
    "start_time": "2024-05-10T16:17:45.891Z"
   },
   {
    "duration": 5,
    "start_time": "2024-05-10T16:17:46.626Z"
   },
   {
    "duration": 97,
    "start_time": "2024-05-10T16:17:46.632Z"
   },
   {
    "duration": 5,
    "start_time": "2024-05-10T16:17:46.730Z"
   },
   {
    "duration": 11,
    "start_time": "2024-05-10T16:17:46.736Z"
   },
   {
    "duration": 7,
    "start_time": "2024-05-10T16:17:46.748Z"
   },
   {
    "duration": 1393,
    "start_time": "2024-05-10T18:37:28.043Z"
   },
   {
    "duration": 74,
    "start_time": "2024-05-10T18:37:29.438Z"
   },
   {
    "duration": 14,
    "start_time": "2024-05-10T18:37:29.514Z"
   },
   {
    "duration": 12,
    "start_time": "2024-05-10T18:37:29.530Z"
   },
   {
    "duration": 7,
    "start_time": "2024-05-10T18:37:29.544Z"
   },
   {
    "duration": 86,
    "start_time": "2024-05-10T18:37:29.553Z"
   },
   {
    "duration": 11,
    "start_time": "2024-05-10T18:37:29.641Z"
   },
   {
    "duration": 11,
    "start_time": "2024-05-10T18:37:29.654Z"
   },
   {
    "duration": 64,
    "start_time": "2024-05-10T18:37:29.667Z"
   },
   {
    "duration": 10,
    "start_time": "2024-05-10T18:37:29.734Z"
   },
   {
    "duration": 6,
    "start_time": "2024-05-10T18:37:29.746Z"
   },
   {
    "duration": 16,
    "start_time": "2024-05-10T18:37:29.754Z"
   },
   {
    "duration": 5,
    "start_time": "2024-05-10T18:37:29.771Z"
   },
   {
    "duration": 17,
    "start_time": "2024-05-10T18:37:29.777Z"
   },
   {
    "duration": 33,
    "start_time": "2024-05-10T18:37:29.796Z"
   },
   {
    "duration": 7,
    "start_time": "2024-05-10T18:37:29.831Z"
   },
   {
    "duration": 15,
    "start_time": "2024-05-10T18:37:29.839Z"
   },
   {
    "duration": 196,
    "start_time": "2024-05-10T18:37:29.855Z"
   },
   {
    "duration": 6,
    "start_time": "2024-05-10T18:37:30.053Z"
   },
   {
    "duration": 25,
    "start_time": "2024-05-10T18:37:30.061Z"
   },
   {
    "duration": 126,
    "start_time": "2024-05-10T18:37:30.087Z"
   },
   {
    "duration": 84,
    "start_time": "2024-05-10T18:37:30.215Z"
   },
   {
    "duration": 11,
    "start_time": "2024-05-10T18:37:30.300Z"
   },
   {
    "duration": 233,
    "start_time": "2024-05-10T18:37:30.330Z"
   },
   {
    "duration": 114,
    "start_time": "2024-05-10T18:37:30.565Z"
   },
   {
    "duration": 14,
    "start_time": "2024-05-10T18:37:30.681Z"
   },
   {
    "duration": 470,
    "start_time": "2024-05-10T18:37:30.697Z"
   },
   {
    "duration": 348,
    "start_time": "2024-05-10T18:37:31.171Z"
   },
   {
    "duration": 14,
    "start_time": "2024-05-10T18:37:31.521Z"
   },
   {
    "duration": 289,
    "start_time": "2024-05-10T18:37:31.537Z"
   },
   {
    "duration": 215,
    "start_time": "2024-05-10T18:37:31.829Z"
   },
   {
    "duration": 8,
    "start_time": "2024-05-10T18:37:32.046Z"
   },
   {
    "duration": 34,
    "start_time": "2024-05-10T18:37:32.056Z"
   },
   {
    "duration": 37,
    "start_time": "2024-05-10T18:37:32.092Z"
   },
   {
    "duration": 55,
    "start_time": "2024-05-10T18:37:32.131Z"
   },
   {
    "duration": 9,
    "start_time": "2024-05-10T18:37:32.188Z"
   },
   {
    "duration": 63,
    "start_time": "2024-05-10T18:37:32.199Z"
   },
   {
    "duration": 33,
    "start_time": "2024-05-10T18:37:32.264Z"
   },
   {
    "duration": 321,
    "start_time": "2024-05-10T18:37:32.298Z"
   },
   {
    "duration": 148,
    "start_time": "2024-05-10T18:37:32.621Z"
   },
   {
    "duration": 331,
    "start_time": "2024-05-10T18:37:32.771Z"
   },
   {
    "duration": 168,
    "start_time": "2024-05-10T18:37:33.103Z"
   },
   {
    "duration": 428,
    "start_time": "2024-05-10T18:37:33.272Z"
   },
   {
    "duration": 852,
    "start_time": "2024-05-10T18:37:33.702Z"
   },
   {
    "duration": 6,
    "start_time": "2024-05-10T18:37:34.556Z"
   },
   {
    "duration": 128,
    "start_time": "2024-05-10T18:37:34.563Z"
   },
   {
    "duration": 6,
    "start_time": "2024-05-10T18:37:34.692Z"
   },
   {
    "duration": 6,
    "start_time": "2024-05-10T18:37:34.700Z"
   },
   {
    "duration": 27,
    "start_time": "2024-05-10T18:37:34.707Z"
   }
  ],
  "kernelspec": {
   "display_name": "Python 3 (ipykernel)",
   "language": "python",
   "name": "python3"
  },
  "language_info": {
   "codemirror_mode": {
    "name": "ipython",
    "version": 3
   },
   "file_extension": ".py",
   "mimetype": "text/x-python",
   "name": "python",
   "nbconvert_exporter": "python",
   "pygments_lexer": "ipython3",
   "version": "3.12.4"
  },
  "toc": {
   "base_numbering": 1,
   "nav_menu": {},
   "number_sections": true,
   "sideBar": true,
   "skip_h1_title": true,
   "title_cell": "Table of Contents",
   "title_sidebar": "Contents",
   "toc_cell": false,
   "toc_position": {
    "height": "calc(100% - 180px)",
    "left": "10px",
    "top": "150px",
    "width": "297.6px"
   },
   "toc_section_display": true,
   "toc_window_display": true
  }
 },
 "nbformat": 4,
 "nbformat_minor": 5
}
